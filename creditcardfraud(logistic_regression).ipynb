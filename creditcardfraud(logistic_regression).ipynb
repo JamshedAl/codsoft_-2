{
  "cells": [
    {
      "cell_type": "markdown",
      "metadata": {
        "id": "view-in-github",
        "colab_type": "text"
      },
      "source": [
        "<a href=\"https://colab.research.google.com/github/JamshedAl/codsoft_-2/blob/main/creditcardfraud(logistic_regression).ipynb\" target=\"_parent\"><img src=\"https://colab.research.google.com/assets/colab-badge.svg\" alt=\"Open In Colab\"/></a>"
      ]
    },
    {
      "cell_type": "code",
      "execution_count": null,
      "id": "1079e084",
      "metadata": {
        "execution": {
          "iopub.execute_input": "2022-03-15T12:07:29.382630Z",
          "iopub.status.busy": "2022-03-15T12:07:29.381509Z",
          "iopub.status.idle": "2022-03-15T12:07:30.295745Z",
          "shell.execute_reply": "2022-03-15T12:07:30.296248Z",
          "shell.execute_reply.started": "2022-03-15T12:00:10.152676Z"
        },
        "id": "1079e084",
        "papermill": {
          "duration": 1.14145,
          "end_time": "2022-03-15T12:07:30.296526",
          "exception": false,
          "start_time": "2022-03-15T12:07:29.155076",
          "status": "completed"
        },
        "tags": []
      },
      "outputs": [],
      "source": [
        "import numpy as np\n",
        "import pandas as pd\n",
        "import matplotlib.pyplot as plt\n",
        "import seaborn as sns\n",
        "from datetime import datetime\n",
        "import warnings\n",
        "warnings.filterwarnings(\"ignore\")"
      ]
    },
    {
      "cell_type": "code",
      "execution_count": null,
      "id": "0b16c036",
      "metadata": {
        "execution": {
          "iopub.execute_input": "2022-03-15T12:07:31.109013Z",
          "iopub.status.busy": "2022-03-15T12:07:31.108385Z",
          "iopub.status.idle": "2022-03-15T12:07:47.588132Z",
          "shell.execute_reply": "2022-03-15T12:07:47.587450Z",
          "shell.execute_reply.started": "2022-03-15T12:00:10.161226Z"
        },
        "id": "0b16c036",
        "papermill": {
          "duration": 16.687388,
          "end_time": "2022-03-15T12:07:47.588296",
          "exception": false,
          "start_time": "2022-03-15T12:07:30.900908",
          "status": "completed"
        },
        "tags": []
      },
      "outputs": [],
      "source": [
        "data = pd.read_csv(\"/content/fraudTrain.csv\")\n",
        "data_t = pd.read_csv(\"/content/fraudTest.csv\")"
      ]
    },
    {
      "cell_type": "code",
      "execution_count": null,
      "id": "3a7961f6",
      "metadata": {
        "execution": {
          "iopub.execute_input": "2022-03-15T12:07:48.014747Z",
          "iopub.status.busy": "2022-03-15T12:07:48.013932Z",
          "iopub.status.idle": "2022-03-15T12:07:48.017373Z",
          "shell.execute_reply": "2022-03-15T12:07:48.017825Z",
          "shell.execute_reply.started": "2022-03-15T12:00:24.787668Z"
        },
        "id": "3a7961f6",
        "outputId": "e05901fe-b387-4545-9022-1ad86c4f463e",
        "papermill": {
          "duration": 0.220319,
          "end_time": "2022-03-15T12:07:48.017995",
          "exception": false,
          "start_time": "2022-03-15T12:07:47.797676",
          "status": "completed"
        },
        "tags": []
      },
      "outputs": [
        {
          "data": {
            "text/plain": [
              "Index(['Unnamed: 0', 'trans_date_trans_time', 'cc_num', 'merchant', 'category',\n",
              "       'amt', 'first', 'last', 'gender', 'street', 'city', 'state', 'zip',\n",
              "       'lat', 'long', 'city_pop', 'job', 'dob', 'trans_num', 'unix_time',\n",
              "       'merch_lat', 'merch_long', 'is_fraud'],\n",
              "      dtype='object')"
            ]
          },
          "execution_count": 3,
          "metadata": {},
          "output_type": "execute_result"
        }
      ],
      "source": [
        "data_t.columns"
      ]
    },
    {
      "cell_type": "code",
      "execution_count": null,
      "id": "c281c832",
      "metadata": {
        "execution": {
          "iopub.execute_input": "2022-03-15T12:07:48.439593Z",
          "iopub.status.busy": "2022-03-15T12:07:48.438766Z",
          "iopub.status.idle": "2022-03-15T12:07:48.473943Z",
          "shell.execute_reply": "2022-03-15T12:07:48.473262Z",
          "shell.execute_reply.started": "2022-03-15T12:00:24.808925Z"
        },
        "id": "c281c832",
        "outputId": "377b3601-b9af-400f-a855-fa494f3b883e",
        "papermill": {
          "duration": 0.247629,
          "end_time": "2022-03-15T12:07:48.474101",
          "exception": false,
          "start_time": "2022-03-15T12:07:48.226472",
          "status": "completed"
        },
        "tags": []
      },
      "outputs": [
        {
          "data": {
            "text/html": [
              "<div>\n",
              "<style scoped>\n",
              "    .dataframe tbody tr th:only-of-type {\n",
              "        vertical-align: middle;\n",
              "    }\n",
              "\n",
              "    .dataframe tbody tr th {\n",
              "        vertical-align: top;\n",
              "    }\n",
              "\n",
              "    .dataframe thead th {\n",
              "        text-align: right;\n",
              "    }\n",
              "</style>\n",
              "<table border=\"1\" class=\"dataframe\">\n",
              "  <thead>\n",
              "    <tr style=\"text-align: right;\">\n",
              "      <th></th>\n",
              "      <th>Unnamed: 0</th>\n",
              "      <th>trans_date_trans_time</th>\n",
              "      <th>cc_num</th>\n",
              "      <th>merchant</th>\n",
              "      <th>category</th>\n",
              "      <th>amt</th>\n",
              "      <th>first</th>\n",
              "      <th>last</th>\n",
              "      <th>gender</th>\n",
              "      <th>street</th>\n",
              "      <th>...</th>\n",
              "      <th>lat</th>\n",
              "      <th>long</th>\n",
              "      <th>city_pop</th>\n",
              "      <th>job</th>\n",
              "      <th>dob</th>\n",
              "      <th>trans_num</th>\n",
              "      <th>unix_time</th>\n",
              "      <th>merch_lat</th>\n",
              "      <th>merch_long</th>\n",
              "      <th>is_fraud</th>\n",
              "    </tr>\n",
              "  </thead>\n",
              "  <tbody>\n",
              "    <tr>\n",
              "      <th>0</th>\n",
              "      <td>0</td>\n",
              "      <td>2019-01-01 00:00:18</td>\n",
              "      <td>2703186189652095</td>\n",
              "      <td>fraud_Rippin, Kub and Mann</td>\n",
              "      <td>misc_net</td>\n",
              "      <td>4.97</td>\n",
              "      <td>Jennifer</td>\n",
              "      <td>Banks</td>\n",
              "      <td>F</td>\n",
              "      <td>561 Perry Cove</td>\n",
              "      <td>...</td>\n",
              "      <td>36.0788</td>\n",
              "      <td>-81.1781</td>\n",
              "      <td>3495</td>\n",
              "      <td>Psychologist, counselling</td>\n",
              "      <td>1988-03-09</td>\n",
              "      <td>0b242abb623afc578575680df30655b9</td>\n",
              "      <td>1325376018</td>\n",
              "      <td>36.011293</td>\n",
              "      <td>-82.048315</td>\n",
              "      <td>0</td>\n",
              "    </tr>\n",
              "    <tr>\n",
              "      <th>1</th>\n",
              "      <td>1</td>\n",
              "      <td>2019-01-01 00:00:44</td>\n",
              "      <td>630423337322</td>\n",
              "      <td>fraud_Heller, Gutmann and Zieme</td>\n",
              "      <td>grocery_pos</td>\n",
              "      <td>107.23</td>\n",
              "      <td>Stephanie</td>\n",
              "      <td>Gill</td>\n",
              "      <td>F</td>\n",
              "      <td>43039 Riley Greens Suite 393</td>\n",
              "      <td>...</td>\n",
              "      <td>48.8878</td>\n",
              "      <td>-118.2105</td>\n",
              "      <td>149</td>\n",
              "      <td>Special educational needs teacher</td>\n",
              "      <td>1978-06-21</td>\n",
              "      <td>1f76529f8574734946361c461b024d99</td>\n",
              "      <td>1325376044</td>\n",
              "      <td>49.159047</td>\n",
              "      <td>-118.186462</td>\n",
              "      <td>0</td>\n",
              "    </tr>\n",
              "    <tr>\n",
              "      <th>2</th>\n",
              "      <td>2</td>\n",
              "      <td>2019-01-01 00:00:51</td>\n",
              "      <td>38859492057661</td>\n",
              "      <td>fraud_Lind-Buckridge</td>\n",
              "      <td>entertainment</td>\n",
              "      <td>220.11</td>\n",
              "      <td>Edward</td>\n",
              "      <td>Sanchez</td>\n",
              "      <td>M</td>\n",
              "      <td>594 White Dale Suite 530</td>\n",
              "      <td>...</td>\n",
              "      <td>42.1808</td>\n",
              "      <td>-112.2620</td>\n",
              "      <td>4154</td>\n",
              "      <td>Nature conservation officer</td>\n",
              "      <td>1962-01-19</td>\n",
              "      <td>a1a22d70485983eac12b5b88dad1cf95</td>\n",
              "      <td>1325376051</td>\n",
              "      <td>43.150704</td>\n",
              "      <td>-112.154481</td>\n",
              "      <td>0</td>\n",
              "    </tr>\n",
              "    <tr>\n",
              "      <th>3</th>\n",
              "      <td>3</td>\n",
              "      <td>2019-01-01 00:01:16</td>\n",
              "      <td>3534093764340240</td>\n",
              "      <td>fraud_Kutch, Hermiston and Farrell</td>\n",
              "      <td>gas_transport</td>\n",
              "      <td>45.00</td>\n",
              "      <td>Jeremy</td>\n",
              "      <td>White</td>\n",
              "      <td>M</td>\n",
              "      <td>9443 Cynthia Court Apt. 038</td>\n",
              "      <td>...</td>\n",
              "      <td>46.2306</td>\n",
              "      <td>-112.1138</td>\n",
              "      <td>1939</td>\n",
              "      <td>Patent attorney</td>\n",
              "      <td>1967-01-12</td>\n",
              "      <td>6b849c168bdad6f867558c3793159a81</td>\n",
              "      <td>1325376076</td>\n",
              "      <td>47.034331</td>\n",
              "      <td>-112.561071</td>\n",
              "      <td>0</td>\n",
              "    </tr>\n",
              "    <tr>\n",
              "      <th>4</th>\n",
              "      <td>4</td>\n",
              "      <td>2019-01-01 00:03:06</td>\n",
              "      <td>375534208663984</td>\n",
              "      <td>fraud_Keeling-Crist</td>\n",
              "      <td>misc_pos</td>\n",
              "      <td>41.96</td>\n",
              "      <td>Tyler</td>\n",
              "      <td>Garcia</td>\n",
              "      <td>M</td>\n",
              "      <td>408 Bradley Rest</td>\n",
              "      <td>...</td>\n",
              "      <td>38.4207</td>\n",
              "      <td>-79.4629</td>\n",
              "      <td>99</td>\n",
              "      <td>Dance movement psychotherapist</td>\n",
              "      <td>1986-03-28</td>\n",
              "      <td>a41d7549acf90789359a9aa5346dcb46</td>\n",
              "      <td>1325376186</td>\n",
              "      <td>38.674999</td>\n",
              "      <td>-78.632459</td>\n",
              "      <td>0</td>\n",
              "    </tr>\n",
              "  </tbody>\n",
              "</table>\n",
              "<p>5 rows × 23 columns</p>\n",
              "</div>"
            ],
            "text/plain": [
              "   Unnamed: 0 trans_date_trans_time            cc_num  \\\n",
              "0           0   2019-01-01 00:00:18  2703186189652095   \n",
              "1           1   2019-01-01 00:00:44      630423337322   \n",
              "2           2   2019-01-01 00:00:51    38859492057661   \n",
              "3           3   2019-01-01 00:01:16  3534093764340240   \n",
              "4           4   2019-01-01 00:03:06   375534208663984   \n",
              "\n",
              "                             merchant       category     amt      first  \\\n",
              "0          fraud_Rippin, Kub and Mann       misc_net    4.97   Jennifer   \n",
              "1     fraud_Heller, Gutmann and Zieme    grocery_pos  107.23  Stephanie   \n",
              "2                fraud_Lind-Buckridge  entertainment  220.11     Edward   \n",
              "3  fraud_Kutch, Hermiston and Farrell  gas_transport   45.00     Jeremy   \n",
              "4                 fraud_Keeling-Crist       misc_pos   41.96      Tyler   \n",
              "\n",
              "      last gender                        street  ...      lat      long  \\\n",
              "0    Banks      F                561 Perry Cove  ...  36.0788  -81.1781   \n",
              "1     Gill      F  43039 Riley Greens Suite 393  ...  48.8878 -118.2105   \n",
              "2  Sanchez      M      594 White Dale Suite 530  ...  42.1808 -112.2620   \n",
              "3    White      M   9443 Cynthia Court Apt. 038  ...  46.2306 -112.1138   \n",
              "4   Garcia      M              408 Bradley Rest  ...  38.4207  -79.4629   \n",
              "\n",
              "   city_pop                                job         dob  \\\n",
              "0      3495          Psychologist, counselling  1988-03-09   \n",
              "1       149  Special educational needs teacher  1978-06-21   \n",
              "2      4154        Nature conservation officer  1962-01-19   \n",
              "3      1939                    Patent attorney  1967-01-12   \n",
              "4        99     Dance movement psychotherapist  1986-03-28   \n",
              "\n",
              "                          trans_num   unix_time  merch_lat  merch_long  \\\n",
              "0  0b242abb623afc578575680df30655b9  1325376018  36.011293  -82.048315   \n",
              "1  1f76529f8574734946361c461b024d99  1325376044  49.159047 -118.186462   \n",
              "2  a1a22d70485983eac12b5b88dad1cf95  1325376051  43.150704 -112.154481   \n",
              "3  6b849c168bdad6f867558c3793159a81  1325376076  47.034331 -112.561071   \n",
              "4  a41d7549acf90789359a9aa5346dcb46  1325376186  38.674999  -78.632459   \n",
              "\n",
              "   is_fraud  \n",
              "0         0  \n",
              "1         0  \n",
              "2         0  \n",
              "3         0  \n",
              "4         0  \n",
              "\n",
              "[5 rows x 23 columns]"
            ]
          },
          "execution_count": 4,
          "metadata": {},
          "output_type": "execute_result"
        }
      ],
      "source": [
        "data.head()"
      ]
    },
    {
      "cell_type": "code",
      "execution_count": null,
      "id": "afb3bc63",
      "metadata": {
        "execution": {
          "iopub.execute_input": "2022-03-15T12:07:48.902524Z",
          "iopub.status.busy": "2022-03-15T12:07:48.901283Z",
          "iopub.status.idle": "2022-03-15T12:07:48.905453Z",
          "shell.execute_reply": "2022-03-15T12:07:48.906122Z",
          "shell.execute_reply.started": "2022-03-15T12:00:24.854724Z"
        },
        "id": "afb3bc63",
        "outputId": "050e8a06-732b-4434-8956-a6b10322a0ff",
        "papermill": {
          "duration": 0.222252,
          "end_time": "2022-03-15T12:07:48.906317",
          "exception": false,
          "start_time": "2022-03-15T12:07:48.684065",
          "status": "completed"
        },
        "tags": []
      },
      "outputs": [
        {
          "data": {
            "text/plain": [
              "(1296675, 23)"
            ]
          },
          "execution_count": 5,
          "metadata": {},
          "output_type": "execute_result"
        }
      ],
      "source": [
        "\n",
        "\n",
        "data.shape"
      ]
    },
    {
      "cell_type": "code",
      "execution_count": null,
      "id": "de72449e",
      "metadata": {
        "execution": {
          "iopub.execute_input": "2022-03-15T12:07:49.333783Z",
          "iopub.status.busy": "2022-03-15T12:07:49.333174Z",
          "iopub.status.idle": "2022-03-15T12:07:49.335573Z",
          "shell.execute_reply": "2022-03-15T12:07:49.336153Z",
          "shell.execute_reply.started": "2022-03-15T12:00:24.862188Z"
        },
        "id": "de72449e",
        "outputId": "14dea338-010e-4360-ae50-d169d7e82be1",
        "papermill": {
          "duration": 0.219276,
          "end_time": "2022-03-15T12:07:49.336311",
          "exception": false,
          "start_time": "2022-03-15T12:07:49.117035",
          "status": "completed"
        },
        "tags": []
      },
      "outputs": [
        {
          "data": {
            "text/plain": [
              "Index(['Unnamed: 0', 'trans_date_trans_time', 'cc_num', 'merchant', 'category',\n",
              "       'amt', 'first', 'last', 'gender', 'street', 'city', 'state', 'zip',\n",
              "       'lat', 'long', 'city_pop', 'job', 'dob', 'trans_num', 'unix_time',\n",
              "       'merch_lat', 'merch_long', 'is_fraud'],\n",
              "      dtype='object')"
            ]
          },
          "execution_count": 6,
          "metadata": {},
          "output_type": "execute_result"
        }
      ],
      "source": [
        "data.columns"
      ]
    },
    {
      "cell_type": "code",
      "execution_count": null,
      "id": "abc472ee",
      "metadata": {
        "execution": {
          "iopub.execute_input": "2022-03-15T12:07:49.758218Z",
          "iopub.status.busy": "2022-03-15T12:07:49.757631Z",
          "iopub.status.idle": "2022-03-15T12:07:50.239873Z",
          "shell.execute_reply": "2022-03-15T12:07:50.239384Z",
          "shell.execute_reply.started": "2022-03-15T12:00:24.877701Z"
        },
        "id": "abc472ee",
        "outputId": "3f9f9839-004f-489d-c625-5191d4f67cf3",
        "papermill": {
          "duration": 0.691442,
          "end_time": "2022-03-15T12:07:50.240019",
          "exception": false,
          "start_time": "2022-03-15T12:07:49.548577",
          "status": "completed"
        },
        "tags": []
      },
      "outputs": [
        {
          "data": {
            "text/html": [
              "<div>\n",
              "<style scoped>\n",
              "    .dataframe tbody tr th:only-of-type {\n",
              "        vertical-align: middle;\n",
              "    }\n",
              "\n",
              "    .dataframe tbody tr th {\n",
              "        vertical-align: top;\n",
              "    }\n",
              "\n",
              "    .dataframe thead th {\n",
              "        text-align: right;\n",
              "    }\n",
              "</style>\n",
              "<table border=\"1\" class=\"dataframe\">\n",
              "  <thead>\n",
              "    <tr style=\"text-align: right;\">\n",
              "      <th></th>\n",
              "      <th>Unnamed: 0</th>\n",
              "      <th>cc_num</th>\n",
              "      <th>amt</th>\n",
              "      <th>zip</th>\n",
              "      <th>lat</th>\n",
              "      <th>long</th>\n",
              "      <th>city_pop</th>\n",
              "      <th>unix_time</th>\n",
              "      <th>merch_lat</th>\n",
              "      <th>merch_long</th>\n",
              "      <th>is_fraud</th>\n",
              "    </tr>\n",
              "  </thead>\n",
              "  <tbody>\n",
              "    <tr>\n",
              "      <th>count</th>\n",
              "      <td>1.296675e+06</td>\n",
              "      <td>1.296675e+06</td>\n",
              "      <td>1.296675e+06</td>\n",
              "      <td>1.296675e+06</td>\n",
              "      <td>1.296675e+06</td>\n",
              "      <td>1.296675e+06</td>\n",
              "      <td>1.296675e+06</td>\n",
              "      <td>1.296675e+06</td>\n",
              "      <td>1.296675e+06</td>\n",
              "      <td>1.296675e+06</td>\n",
              "      <td>1.296675e+06</td>\n",
              "    </tr>\n",
              "    <tr>\n",
              "      <th>mean</th>\n",
              "      <td>6.483370e+05</td>\n",
              "      <td>4.171920e+17</td>\n",
              "      <td>7.035104e+01</td>\n",
              "      <td>4.880067e+04</td>\n",
              "      <td>3.853762e+01</td>\n",
              "      <td>-9.022634e+01</td>\n",
              "      <td>8.882444e+04</td>\n",
              "      <td>1.349244e+09</td>\n",
              "      <td>3.853734e+01</td>\n",
              "      <td>-9.022646e+01</td>\n",
              "      <td>5.788652e-03</td>\n",
              "    </tr>\n",
              "    <tr>\n",
              "      <th>std</th>\n",
              "      <td>3.743180e+05</td>\n",
              "      <td>1.308806e+18</td>\n",
              "      <td>1.603160e+02</td>\n",
              "      <td>2.689322e+04</td>\n",
              "      <td>5.075808e+00</td>\n",
              "      <td>1.375908e+01</td>\n",
              "      <td>3.019564e+05</td>\n",
              "      <td>1.284128e+07</td>\n",
              "      <td>5.109788e+00</td>\n",
              "      <td>1.377109e+01</td>\n",
              "      <td>7.586269e-02</td>\n",
              "    </tr>\n",
              "    <tr>\n",
              "      <th>min</th>\n",
              "      <td>0.000000e+00</td>\n",
              "      <td>6.041621e+10</td>\n",
              "      <td>1.000000e+00</td>\n",
              "      <td>1.257000e+03</td>\n",
              "      <td>2.002710e+01</td>\n",
              "      <td>-1.656723e+02</td>\n",
              "      <td>2.300000e+01</td>\n",
              "      <td>1.325376e+09</td>\n",
              "      <td>1.902779e+01</td>\n",
              "      <td>-1.666712e+02</td>\n",
              "      <td>0.000000e+00</td>\n",
              "    </tr>\n",
              "    <tr>\n",
              "      <th>25%</th>\n",
              "      <td>3.241685e+05</td>\n",
              "      <td>1.800429e+14</td>\n",
              "      <td>9.650000e+00</td>\n",
              "      <td>2.623700e+04</td>\n",
              "      <td>3.462050e+01</td>\n",
              "      <td>-9.679800e+01</td>\n",
              "      <td>7.430000e+02</td>\n",
              "      <td>1.338751e+09</td>\n",
              "      <td>3.473357e+01</td>\n",
              "      <td>-9.689728e+01</td>\n",
              "      <td>0.000000e+00</td>\n",
              "    </tr>\n",
              "    <tr>\n",
              "      <th>50%</th>\n",
              "      <td>6.483370e+05</td>\n",
              "      <td>3.521417e+15</td>\n",
              "      <td>4.752000e+01</td>\n",
              "      <td>4.817400e+04</td>\n",
              "      <td>3.935430e+01</td>\n",
              "      <td>-8.747690e+01</td>\n",
              "      <td>2.456000e+03</td>\n",
              "      <td>1.349250e+09</td>\n",
              "      <td>3.936568e+01</td>\n",
              "      <td>-8.743839e+01</td>\n",
              "      <td>0.000000e+00</td>\n",
              "    </tr>\n",
              "    <tr>\n",
              "      <th>75%</th>\n",
              "      <td>9.725055e+05</td>\n",
              "      <td>4.642255e+15</td>\n",
              "      <td>8.314000e+01</td>\n",
              "      <td>7.204200e+04</td>\n",
              "      <td>4.194040e+01</td>\n",
              "      <td>-8.015800e+01</td>\n",
              "      <td>2.032800e+04</td>\n",
              "      <td>1.359385e+09</td>\n",
              "      <td>4.195716e+01</td>\n",
              "      <td>-8.023680e+01</td>\n",
              "      <td>0.000000e+00</td>\n",
              "    </tr>\n",
              "    <tr>\n",
              "      <th>max</th>\n",
              "      <td>1.296674e+06</td>\n",
              "      <td>4.992346e+18</td>\n",
              "      <td>2.894890e+04</td>\n",
              "      <td>9.978300e+04</td>\n",
              "      <td>6.669330e+01</td>\n",
              "      <td>-6.795030e+01</td>\n",
              "      <td>2.906700e+06</td>\n",
              "      <td>1.371817e+09</td>\n",
              "      <td>6.751027e+01</td>\n",
              "      <td>-6.695090e+01</td>\n",
              "      <td>1.000000e+00</td>\n",
              "    </tr>\n",
              "  </tbody>\n",
              "</table>\n",
              "</div>"
            ],
            "text/plain": [
              "         Unnamed: 0        cc_num           amt           zip           lat  \\\n",
              "count  1.296675e+06  1.296675e+06  1.296675e+06  1.296675e+06  1.296675e+06   \n",
              "mean   6.483370e+05  4.171920e+17  7.035104e+01  4.880067e+04  3.853762e+01   \n",
              "std    3.743180e+05  1.308806e+18  1.603160e+02  2.689322e+04  5.075808e+00   \n",
              "min    0.000000e+00  6.041621e+10  1.000000e+00  1.257000e+03  2.002710e+01   \n",
              "25%    3.241685e+05  1.800429e+14  9.650000e+00  2.623700e+04  3.462050e+01   \n",
              "50%    6.483370e+05  3.521417e+15  4.752000e+01  4.817400e+04  3.935430e+01   \n",
              "75%    9.725055e+05  4.642255e+15  8.314000e+01  7.204200e+04  4.194040e+01   \n",
              "max    1.296674e+06  4.992346e+18  2.894890e+04  9.978300e+04  6.669330e+01   \n",
              "\n",
              "               long      city_pop     unix_time     merch_lat    merch_long  \\\n",
              "count  1.296675e+06  1.296675e+06  1.296675e+06  1.296675e+06  1.296675e+06   \n",
              "mean  -9.022634e+01  8.882444e+04  1.349244e+09  3.853734e+01 -9.022646e+01   \n",
              "std    1.375908e+01  3.019564e+05  1.284128e+07  5.109788e+00  1.377109e+01   \n",
              "min   -1.656723e+02  2.300000e+01  1.325376e+09  1.902779e+01 -1.666712e+02   \n",
              "25%   -9.679800e+01  7.430000e+02  1.338751e+09  3.473357e+01 -9.689728e+01   \n",
              "50%   -8.747690e+01  2.456000e+03  1.349250e+09  3.936568e+01 -8.743839e+01   \n",
              "75%   -8.015800e+01  2.032800e+04  1.359385e+09  4.195716e+01 -8.023680e+01   \n",
              "max   -6.795030e+01  2.906700e+06  1.371817e+09  6.751027e+01 -6.695090e+01   \n",
              "\n",
              "           is_fraud  \n",
              "count  1.296675e+06  \n",
              "mean   5.788652e-03  \n",
              "std    7.586269e-02  \n",
              "min    0.000000e+00  \n",
              "25%    0.000000e+00  \n",
              "50%    0.000000e+00  \n",
              "75%    0.000000e+00  \n",
              "max    1.000000e+00  "
            ]
          },
          "execution_count": 7,
          "metadata": {},
          "output_type": "execute_result"
        }
      ],
      "source": [
        "data.describe()"
      ]
    },
    {
      "cell_type": "code",
      "execution_count": null,
      "id": "3c297599",
      "metadata": {
        "execution": {
          "iopub.execute_input": "2022-03-15T12:07:50.649321Z",
          "iopub.status.busy": "2022-03-15T12:07:50.648771Z",
          "iopub.status.idle": "2022-03-15T12:07:52.245872Z",
          "shell.execute_reply": "2022-03-15T12:07:52.246450Z",
          "shell.execute_reply.started": "2022-03-15T12:00:25.437984Z"
        },
        "id": "3c297599",
        "outputId": "c3818803-1a96-4ab7-a5ec-828ef7ed7ccd",
        "papermill": {
          "duration": 1.806277,
          "end_time": "2022-03-15T12:07:52.246637",
          "exception": false,
          "start_time": "2022-03-15T12:07:50.440360",
          "status": "completed"
        },
        "tags": []
      },
      "outputs": [
        {
          "name": "stdout",
          "output_type": "stream",
          "text": [
            "<class 'pandas.core.frame.DataFrame'>\n",
            "RangeIndex: 1296675 entries, 0 to 1296674\n",
            "Data columns (total 23 columns):\n",
            " #   Column                 Non-Null Count    Dtype  \n",
            "---  ------                 --------------    -----  \n",
            " 0   Unnamed: 0             1296675 non-null  int64  \n",
            " 1   trans_date_trans_time  1296675 non-null  object \n",
            " 2   cc_num                 1296675 non-null  int64  \n",
            " 3   merchant               1296675 non-null  object \n",
            " 4   category               1296675 non-null  object \n",
            " 5   amt                    1296675 non-null  float64\n",
            " 6   first                  1296675 non-null  object \n",
            " 7   last                   1296675 non-null  object \n",
            " 8   gender                 1296675 non-null  object \n",
            " 9   street                 1296675 non-null  object \n",
            " 10  city                   1296675 non-null  object \n",
            " 11  state                  1296675 non-null  object \n",
            " 12  zip                    1296675 non-null  int64  \n",
            " 13  lat                    1296675 non-null  float64\n",
            " 14  long                   1296675 non-null  float64\n",
            " 15  city_pop               1296675 non-null  int64  \n",
            " 16  job                    1296675 non-null  object \n",
            " 17  dob                    1296675 non-null  object \n",
            " 18  trans_num              1296675 non-null  object \n",
            " 19  unix_time              1296675 non-null  int64  \n",
            " 20  merch_lat              1296675 non-null  float64\n",
            " 21  merch_long             1296675 non-null  float64\n",
            " 22  is_fraud               1296675 non-null  int64  \n",
            "dtypes: float64(5), int64(6), object(12)\n",
            "memory usage: 227.5+ MB\n"
          ]
        }
      ],
      "source": [
        "data.info()"
      ]
    },
    {
      "cell_type": "code",
      "execution_count": null,
      "id": "11cbd187",
      "metadata": {
        "execution": {
          "iopub.execute_input": "2022-03-15T12:07:53.463914Z",
          "iopub.status.busy": "2022-03-15T12:07:53.463300Z",
          "iopub.status.idle": "2022-03-15T12:07:55.026345Z",
          "shell.execute_reply": "2022-03-15T12:07:55.025783Z",
          "shell.execute_reply.started": "2022-03-15T12:00:27.630761Z"
        },
        "id": "11cbd187",
        "outputId": "a7114d6c-e60e-4d83-cccf-4d663355a2d1",
        "papermill": {
          "duration": 1.766005,
          "end_time": "2022-03-15T12:07:55.026493",
          "exception": false,
          "start_time": "2022-03-15T12:07:53.260488",
          "status": "completed"
        },
        "tags": []
      },
      "outputs": [
        {
          "data": {
            "text/plain": [
              "Unnamed: 0               0\n",
              "trans_date_trans_time    0\n",
              "cc_num                   0\n",
              "merchant                 0\n",
              "category                 0\n",
              "amt                      0\n",
              "first                    0\n",
              "last                     0\n",
              "gender                   0\n",
              "street                   0\n",
              "city                     0\n",
              "state                    0\n",
              "zip                      0\n",
              "lat                      0\n",
              "long                     0\n",
              "city_pop                 0\n",
              "job                      0\n",
              "dob                      0\n",
              "trans_num                0\n",
              "unix_time                0\n",
              "merch_lat                0\n",
              "merch_long               0\n",
              "is_fraud                 0\n",
              "dtype: int64"
            ]
          },
          "execution_count": 9,
          "metadata": {},
          "output_type": "execute_result"
        }
      ],
      "source": [
        "data.isnull().sum()"
      ]
    },
    {
      "cell_type": "code",
      "execution_count": null,
      "id": "ebe75698",
      "metadata": {
        "execution": {
          "iopub.execute_input": "2022-03-15T12:07:56.266851Z",
          "iopub.status.busy": "2022-03-15T12:07:56.266301Z",
          "iopub.status.idle": "2022-03-15T12:07:56.275269Z",
          "shell.execute_reply": "2022-03-15T12:07:56.275804Z",
          "shell.execute_reply.started": "2022-03-15T12:00:29.517425Z"
        },
        "id": "ebe75698",
        "outputId": "cc261fc3-d8a9-4816-d042-c9fae121d35d",
        "papermill": {
          "duration": 0.22942,
          "end_time": "2022-03-15T12:07:56.275945",
          "exception": false,
          "start_time": "2022-03-15T12:07:56.046525",
          "status": "completed"
        },
        "tags": []
      },
      "outputs": [
        {
          "data": {
            "text/html": [
              "<div>\n",
              "<style scoped>\n",
              "    .dataframe tbody tr th:only-of-type {\n",
              "        vertical-align: middle;\n",
              "    }\n",
              "\n",
              "    .dataframe tbody tr th {\n",
              "        vertical-align: top;\n",
              "    }\n",
              "\n",
              "    .dataframe thead th {\n",
              "        text-align: right;\n",
              "    }\n",
              "</style>\n",
              "<table border=\"1\" class=\"dataframe\">\n",
              "  <thead>\n",
              "    <tr style=\"text-align: right;\">\n",
              "      <th></th>\n",
              "      <th>Unnamed: 0</th>\n",
              "      <th>trans_date_trans_time</th>\n",
              "      <th>cc_num</th>\n",
              "      <th>merchant</th>\n",
              "      <th>category</th>\n",
              "      <th>amt</th>\n",
              "      <th>first</th>\n",
              "      <th>last</th>\n",
              "      <th>gender</th>\n",
              "      <th>street</th>\n",
              "      <th>...</th>\n",
              "      <th>lat</th>\n",
              "      <th>long</th>\n",
              "      <th>city_pop</th>\n",
              "      <th>job</th>\n",
              "      <th>dob</th>\n",
              "      <th>trans_num</th>\n",
              "      <th>unix_time</th>\n",
              "      <th>merch_lat</th>\n",
              "      <th>merch_long</th>\n",
              "      <th>is_fraud</th>\n",
              "    </tr>\n",
              "  </thead>\n",
              "  <tbody>\n",
              "    <tr>\n",
              "      <th>0</th>\n",
              "      <td>0</td>\n",
              "      <td>2019-01-01 00:00:18</td>\n",
              "      <td>2703186189652095</td>\n",
              "      <td>fraud_Rippin, Kub and Mann</td>\n",
              "      <td>misc_net</td>\n",
              "      <td>4.97</td>\n",
              "      <td>Jennifer</td>\n",
              "      <td>Banks</td>\n",
              "      <td>F</td>\n",
              "      <td>561 Perry Cove</td>\n",
              "      <td>...</td>\n",
              "      <td>36.0788</td>\n",
              "      <td>-81.1781</td>\n",
              "      <td>3495</td>\n",
              "      <td>Psychologist, counselling</td>\n",
              "      <td>1988-03-09</td>\n",
              "      <td>0b242abb623afc578575680df30655b9</td>\n",
              "      <td>1325376018</td>\n",
              "      <td>36.011293</td>\n",
              "      <td>-82.048315</td>\n",
              "      <td>0</td>\n",
              "    </tr>\n",
              "    <tr>\n",
              "      <th>1</th>\n",
              "      <td>1</td>\n",
              "      <td>2019-01-01 00:00:44</td>\n",
              "      <td>630423337322</td>\n",
              "      <td>fraud_Heller, Gutmann and Zieme</td>\n",
              "      <td>grocery_pos</td>\n",
              "      <td>107.23</td>\n",
              "      <td>Stephanie</td>\n",
              "      <td>Gill</td>\n",
              "      <td>F</td>\n",
              "      <td>43039 Riley Greens Suite 393</td>\n",
              "      <td>...</td>\n",
              "      <td>48.8878</td>\n",
              "      <td>-118.2105</td>\n",
              "      <td>149</td>\n",
              "      <td>Special educational needs teacher</td>\n",
              "      <td>1978-06-21</td>\n",
              "      <td>1f76529f8574734946361c461b024d99</td>\n",
              "      <td>1325376044</td>\n",
              "      <td>49.159047</td>\n",
              "      <td>-118.186462</td>\n",
              "      <td>0</td>\n",
              "    </tr>\n",
              "    <tr>\n",
              "      <th>2</th>\n",
              "      <td>2</td>\n",
              "      <td>2019-01-01 00:00:51</td>\n",
              "      <td>38859492057661</td>\n",
              "      <td>fraud_Lind-Buckridge</td>\n",
              "      <td>entertainment</td>\n",
              "      <td>220.11</td>\n",
              "      <td>Edward</td>\n",
              "      <td>Sanchez</td>\n",
              "      <td>M</td>\n",
              "      <td>594 White Dale Suite 530</td>\n",
              "      <td>...</td>\n",
              "      <td>42.1808</td>\n",
              "      <td>-112.2620</td>\n",
              "      <td>4154</td>\n",
              "      <td>Nature conservation officer</td>\n",
              "      <td>1962-01-19</td>\n",
              "      <td>a1a22d70485983eac12b5b88dad1cf95</td>\n",
              "      <td>1325376051</td>\n",
              "      <td>43.150704</td>\n",
              "      <td>-112.154481</td>\n",
              "      <td>0</td>\n",
              "    </tr>\n",
              "    <tr>\n",
              "      <th>3</th>\n",
              "      <td>3</td>\n",
              "      <td>2019-01-01 00:01:16</td>\n",
              "      <td>3534093764340240</td>\n",
              "      <td>fraud_Kutch, Hermiston and Farrell</td>\n",
              "      <td>gas_transport</td>\n",
              "      <td>45.00</td>\n",
              "      <td>Jeremy</td>\n",
              "      <td>White</td>\n",
              "      <td>M</td>\n",
              "      <td>9443 Cynthia Court Apt. 038</td>\n",
              "      <td>...</td>\n",
              "      <td>46.2306</td>\n",
              "      <td>-112.1138</td>\n",
              "      <td>1939</td>\n",
              "      <td>Patent attorney</td>\n",
              "      <td>1967-01-12</td>\n",
              "      <td>6b849c168bdad6f867558c3793159a81</td>\n",
              "      <td>1325376076</td>\n",
              "      <td>47.034331</td>\n",
              "      <td>-112.561071</td>\n",
              "      <td>0</td>\n",
              "    </tr>\n",
              "    <tr>\n",
              "      <th>4</th>\n",
              "      <td>4</td>\n",
              "      <td>2019-01-01 00:03:06</td>\n",
              "      <td>375534208663984</td>\n",
              "      <td>fraud_Keeling-Crist</td>\n",
              "      <td>misc_pos</td>\n",
              "      <td>41.96</td>\n",
              "      <td>Tyler</td>\n",
              "      <td>Garcia</td>\n",
              "      <td>M</td>\n",
              "      <td>408 Bradley Rest</td>\n",
              "      <td>...</td>\n",
              "      <td>38.4207</td>\n",
              "      <td>-79.4629</td>\n",
              "      <td>99</td>\n",
              "      <td>Dance movement psychotherapist</td>\n",
              "      <td>1986-03-28</td>\n",
              "      <td>a41d7549acf90789359a9aa5346dcb46</td>\n",
              "      <td>1325376186</td>\n",
              "      <td>38.674999</td>\n",
              "      <td>-78.632459</td>\n",
              "      <td>0</td>\n",
              "    </tr>\n",
              "  </tbody>\n",
              "</table>\n",
              "<p>5 rows × 23 columns</p>\n",
              "</div>"
            ],
            "text/plain": [
              "   Unnamed: 0 trans_date_trans_time            cc_num  \\\n",
              "0           0   2019-01-01 00:00:18  2703186189652095   \n",
              "1           1   2019-01-01 00:00:44      630423337322   \n",
              "2           2   2019-01-01 00:00:51    38859492057661   \n",
              "3           3   2019-01-01 00:01:16  3534093764340240   \n",
              "4           4   2019-01-01 00:03:06   375534208663984   \n",
              "\n",
              "                             merchant       category     amt      first  \\\n",
              "0          fraud_Rippin, Kub and Mann       misc_net    4.97   Jennifer   \n",
              "1     fraud_Heller, Gutmann and Zieme    grocery_pos  107.23  Stephanie   \n",
              "2                fraud_Lind-Buckridge  entertainment  220.11     Edward   \n",
              "3  fraud_Kutch, Hermiston and Farrell  gas_transport   45.00     Jeremy   \n",
              "4                 fraud_Keeling-Crist       misc_pos   41.96      Tyler   \n",
              "\n",
              "      last gender                        street  ...      lat      long  \\\n",
              "0    Banks      F                561 Perry Cove  ...  36.0788  -81.1781   \n",
              "1     Gill      F  43039 Riley Greens Suite 393  ...  48.8878 -118.2105   \n",
              "2  Sanchez      M      594 White Dale Suite 530  ...  42.1808 -112.2620   \n",
              "3    White      M   9443 Cynthia Court Apt. 038  ...  46.2306 -112.1138   \n",
              "4   Garcia      M              408 Bradley Rest  ...  38.4207  -79.4629   \n",
              "\n",
              "   city_pop                                job         dob  \\\n",
              "0      3495          Psychologist, counselling  1988-03-09   \n",
              "1       149  Special educational needs teacher  1978-06-21   \n",
              "2      4154        Nature conservation officer  1962-01-19   \n",
              "3      1939                    Patent attorney  1967-01-12   \n",
              "4        99     Dance movement psychotherapist  1986-03-28   \n",
              "\n",
              "                          trans_num   unix_time  merch_lat  merch_long  \\\n",
              "0  0b242abb623afc578575680df30655b9  1325376018  36.011293  -82.048315   \n",
              "1  1f76529f8574734946361c461b024d99  1325376044  49.159047 -118.186462   \n",
              "2  a1a22d70485983eac12b5b88dad1cf95  1325376051  43.150704 -112.154481   \n",
              "3  6b849c168bdad6f867558c3793159a81  1325376076  47.034331 -112.561071   \n",
              "4  a41d7549acf90789359a9aa5346dcb46  1325376186  38.674999  -78.632459   \n",
              "\n",
              "   is_fraud  \n",
              "0         0  \n",
              "1         0  \n",
              "2         0  \n",
              "3         0  \n",
              "4         0  \n",
              "\n",
              "[5 rows x 23 columns]"
            ]
          },
          "execution_count": 11,
          "metadata": {},
          "output_type": "execute_result"
        }
      ],
      "source": [
        "data.head()"
      ]
    },
    {
      "cell_type": "code",
      "execution_count": null,
      "id": "b0794442",
      "metadata": {
        "execution": {
          "iopub.execute_input": "2022-03-15T12:07:56.679853Z",
          "iopub.status.busy": "2022-03-15T12:07:56.679306Z",
          "iopub.status.idle": "2022-03-15T12:07:56.841893Z",
          "shell.execute_reply": "2022-03-15T12:07:56.842377Z",
          "shell.execute_reply.started": "2022-03-15T12:00:29.558353Z"
        },
        "id": "b0794442",
        "papermill": {
          "duration": 0.36805,
          "end_time": "2022-03-15T12:07:56.842525",
          "exception": false,
          "start_time": "2022-03-15T12:07:56.474475",
          "status": "completed"
        },
        "tags": []
      },
      "outputs": [],
      "source": [
        "data = data.drop(\"trans_num\",1)"
      ]
    },
    {
      "cell_type": "code",
      "execution_count": null,
      "id": "f5fadbf7",
      "metadata": {
        "execution": {
          "iopub.execute_input": "2022-03-15T12:07:57.255408Z",
          "iopub.status.busy": "2022-03-15T12:07:57.254746Z",
          "iopub.status.idle": "2022-03-15T12:07:58.686519Z",
          "shell.execute_reply": "2022-03-15T12:07:58.687074Z",
          "shell.execute_reply.started": "2022-03-15T12:00:30.134273Z"
        },
        "id": "f5fadbf7",
        "outputId": "4556f88c-5e98-4d60-e143-c87f4b038d45",
        "papermill": {
          "duration": 1.643408,
          "end_time": "2022-03-15T12:07:58.687224",
          "exception": false,
          "start_time": "2022-03-15T12:07:57.043816",
          "status": "completed"
        },
        "tags": []
      },
      "outputs": [
        {
          "name": "stdout",
          "output_type": "stream",
          "text": [
            "<class 'pandas.core.frame.DataFrame'>\n",
            "RangeIndex: 1296675 entries, 0 to 1296674\n",
            "Data columns (total 22 columns):\n",
            " #   Column                 Non-Null Count    Dtype  \n",
            "---  ------                 --------------    -----  \n",
            " 0   Unnamed: 0             1296675 non-null  int64  \n",
            " 1   trans_date_trans_time  1296675 non-null  object \n",
            " 2   cc_num                 1296675 non-null  int64  \n",
            " 3   merchant               1296675 non-null  object \n",
            " 4   category               1296675 non-null  object \n",
            " 5   amt                    1296675 non-null  float64\n",
            " 6   first                  1296675 non-null  object \n",
            " 7   last                   1296675 non-null  object \n",
            " 8   gender                 1296675 non-null  object \n",
            " 9   street                 1296675 non-null  object \n",
            " 10  city                   1296675 non-null  object \n",
            " 11  state                  1296675 non-null  object \n",
            " 12  zip                    1296675 non-null  int64  \n",
            " 13  lat                    1296675 non-null  float64\n",
            " 14  long                   1296675 non-null  float64\n",
            " 15  city_pop               1296675 non-null  int64  \n",
            " 16  job                    1296675 non-null  object \n",
            " 17  dob                    1296675 non-null  object \n",
            " 18  unix_time              1296675 non-null  int64  \n",
            " 19  merch_lat              1296675 non-null  float64\n",
            " 20  merch_long             1296675 non-null  float64\n",
            " 21  is_fraud               1296675 non-null  int64  \n",
            "dtypes: float64(5), int64(6), object(11)\n",
            "memory usage: 217.6+ MB\n"
          ]
        }
      ],
      "source": [
        "data.info()"
      ]
    },
    {
      "cell_type": "code",
      "execution_count": null,
      "id": "91be7fb5",
      "metadata": {
        "execution": {
          "iopub.execute_input": "2022-03-15T12:07:59.112805Z",
          "iopub.status.busy": "2022-03-15T12:07:59.112194Z",
          "iopub.status.idle": "2022-03-15T12:07:59.117407Z",
          "shell.execute_reply": "2022-03-15T12:07:59.117946Z",
          "shell.execute_reply.started": "2022-03-15T12:00:31.752099Z"
        },
        "id": "91be7fb5",
        "outputId": "d809a921-c3a7-4326-b157-e025ac660273",
        "papermill": {
          "duration": 0.228385,
          "end_time": "2022-03-15T12:07:59.118114",
          "exception": false,
          "start_time": "2022-03-15T12:07:58.889729",
          "status": "completed"
        },
        "tags": []
      },
      "outputs": [
        {
          "data": {
            "text/plain": [
              "571365235126           3123\n",
              "4512828414983801773    3123\n",
              "36722699017270         3119\n",
              "213112402583773        3117\n",
              "3545109339866548       3113\n",
              "                       ... \n",
              "180097223252063           7\n",
              "4225628813173670          7\n",
              "501894933032              7\n",
              "4975457191020             7\n",
              "340187018810220           7\n",
              "Name: cc_num, Length: 983, dtype: int64"
            ]
          },
          "execution_count": 14,
          "metadata": {},
          "output_type": "execute_result"
        }
      ],
      "source": [
        "data.cc_num.value_counts()"
      ]
    },
    {
      "cell_type": "code",
      "execution_count": null,
      "id": "203b3aea",
      "metadata": {
        "execution": {
          "iopub.execute_input": "2022-03-15T12:07:59.527420Z",
          "iopub.status.busy": "2022-03-15T12:07:59.526831Z",
          "iopub.status.idle": "2022-03-15T12:07:59.724174Z",
          "shell.execute_reply": "2022-03-15T12:07:59.724682Z",
          "shell.execute_reply.started": "2022-03-15T12:00:31.773091Z"
        },
        "id": "203b3aea",
        "outputId": "c6eb1080-69d4-46fd-bd52-d8a3fd5a0321",
        "papermill": {
          "duration": 0.401967,
          "end_time": "2022-03-15T12:07:59.724857",
          "exception": false,
          "start_time": "2022-03-15T12:07:59.322890",
          "status": "completed"
        },
        "tags": []
      },
      "outputs": [
        {
          "data": {
            "text/plain": [
              "Christopher    26669\n",
              "Robert         21667\n",
              "Jessica        20581\n",
              "James          20039\n",
              "Michael        20009\n",
              "               ...  \n",
              "Cameron            9\n",
              "Phyllis            8\n",
              "Molly              8\n",
              "Angelica           7\n",
              "Samantha           7\n",
              "Name: first, Length: 352, dtype: int64"
            ]
          },
          "execution_count": 15,
          "metadata": {},
          "output_type": "execute_result"
        }
      ],
      "source": [
        "data['first'].value_counts()"
      ]
    },
    {
      "cell_type": "code",
      "execution_count": null,
      "id": "9f779bef",
      "metadata": {
        "execution": {
          "iopub.execute_input": "2022-03-15T12:08:00.335289Z",
          "iopub.status.busy": "2022-03-15T12:08:00.332096Z",
          "iopub.status.idle": "2022-03-15T12:08:00.339889Z",
          "shell.execute_reply": "2022-03-15T12:08:00.339432Z",
          "shell.execute_reply.started": "2022-03-15T12:00:32.002154Z"
        },
        "id": "9f779bef",
        "outputId": "3238df84-41be-498c-fd6c-7492da010b36",
        "papermill": {
          "duration": 0.409269,
          "end_time": "2022-03-15T12:08:00.340032",
          "exception": false,
          "start_time": "2022-03-15T12:07:59.930763",
          "status": "completed"
        },
        "tags": []
      },
      "outputs": [
        {
          "data": {
            "text/plain": [
              "Smith        28794\n",
              "Williams     23605\n",
              "Davis        21910\n",
              "Johnson      20034\n",
              "Rodriguez    17394\n",
              "             ...  \n",
              "Wells            9\n",
              "Peterson         9\n",
              "Strong           8\n",
              "Schaefer         7\n",
              "Blake            7\n",
              "Name: last, Length: 481, dtype: int64"
            ]
          },
          "execution_count": 16,
          "metadata": {},
          "output_type": "execute_result"
        }
      ],
      "source": [
        "data[\"last\"].value_counts()"
      ]
    },
    {
      "cell_type": "code",
      "execution_count": null,
      "id": "831f6883",
      "metadata": {
        "execution": {
          "iopub.execute_input": "2022-03-15T12:08:00.745538Z",
          "iopub.status.busy": "2022-03-15T12:08:00.744885Z",
          "iopub.status.idle": "2022-03-15T12:08:00.938239Z",
          "shell.execute_reply": "2022-03-15T12:08:00.937658Z",
          "shell.execute_reply.started": "2022-03-15T12:00:32.230921Z"
        },
        "id": "831f6883",
        "papermill": {
          "duration": 0.395433,
          "end_time": "2022-03-15T12:08:00.938376",
          "exception": false,
          "start_time": "2022-03-15T12:08:00.542943",
          "status": "completed"
        },
        "tags": []
      },
      "outputs": [],
      "source": [
        "data = data.drop(columns=[\"first\",\"last\"])"
      ]
    },
    {
      "cell_type": "code",
      "execution_count": null,
      "id": "110ae942",
      "metadata": {
        "execution": {
          "iopub.execute_input": "2022-03-15T12:08:01.357853Z",
          "iopub.status.busy": "2022-03-15T12:08:01.357286Z",
          "iopub.status.idle": "2022-03-15T12:08:02.571494Z",
          "shell.execute_reply": "2022-03-15T12:08:02.572310Z",
          "shell.execute_reply.started": "2022-03-15T12:00:32.705481Z"
        },
        "id": "110ae942",
        "outputId": "f4d479a4-70ff-4876-8c9b-530543b4bb9d",
        "papermill": {
          "duration": 1.423471,
          "end_time": "2022-03-15T12:08:02.572513",
          "exception": false,
          "start_time": "2022-03-15T12:08:01.149042",
          "status": "completed"
        },
        "tags": []
      },
      "outputs": [
        {
          "name": "stdout",
          "output_type": "stream",
          "text": [
            "<class 'pandas.core.frame.DataFrame'>\n",
            "RangeIndex: 1296675 entries, 0 to 1296674\n",
            "Data columns (total 20 columns):\n",
            " #   Column                 Non-Null Count    Dtype  \n",
            "---  ------                 --------------    -----  \n",
            " 0   Unnamed: 0             1296675 non-null  int64  \n",
            " 1   trans_date_trans_time  1296675 non-null  object \n",
            " 2   cc_num                 1296675 non-null  int64  \n",
            " 3   merchant               1296675 non-null  object \n",
            " 4   category               1296675 non-null  object \n",
            " 5   amt                    1296675 non-null  float64\n",
            " 6   gender                 1296675 non-null  object \n",
            " 7   street                 1296675 non-null  object \n",
            " 8   city                   1296675 non-null  object \n",
            " 9   state                  1296675 non-null  object \n",
            " 10  zip                    1296675 non-null  int64  \n",
            " 11  lat                    1296675 non-null  float64\n",
            " 12  long                   1296675 non-null  float64\n",
            " 13  city_pop               1296675 non-null  int64  \n",
            " 14  job                    1296675 non-null  object \n",
            " 15  dob                    1296675 non-null  object \n",
            " 16  unix_time              1296675 non-null  int64  \n",
            " 17  merch_lat              1296675 non-null  float64\n",
            " 18  merch_long             1296675 non-null  float64\n",
            " 19  is_fraud               1296675 non-null  int64  \n",
            "dtypes: float64(5), int64(6), object(9)\n",
            "memory usage: 197.9+ MB\n"
          ]
        }
      ],
      "source": [
        "data.info()"
      ]
    },
    {
      "cell_type": "code",
      "execution_count": null,
      "id": "377ff5c2",
      "metadata": {
        "execution": {
          "iopub.execute_input": "2022-03-15T12:08:03.407055Z",
          "iopub.status.busy": "2022-03-15T12:08:03.406421Z",
          "iopub.status.idle": "2022-03-15T12:08:04.071055Z",
          "shell.execute_reply": "2022-03-15T12:08:04.071956Z",
          "shell.execute_reply.started": "2022-03-15T12:00:34.193464Z"
        },
        "id": "377ff5c2",
        "papermill": {
          "duration": 0.875599,
          "end_time": "2022-03-15T12:08:04.072210",
          "exception": false,
          "start_time": "2022-03-15T12:08:03.196611",
          "status": "completed"
        },
        "tags": []
      },
      "outputs": [],
      "source": [
        "data[\"recency\"] = data.groupby(by=\"cc_num\")[\"unix_time\"].diff()"
      ]
    },
    {
      "cell_type": "code",
      "execution_count": null,
      "id": "d78c9904",
      "metadata": {
        "execution": {
          "iopub.execute_input": "2022-03-15T12:08:04.516425Z",
          "iopub.status.busy": "2022-03-15T12:08:04.515478Z",
          "iopub.status.idle": "2022-03-15T12:08:04.521703Z",
          "shell.execute_reply": "2022-03-15T12:08:04.522243Z",
          "shell.execute_reply.started": "2022-03-15T12:00:35.034902Z"
        },
        "id": "d78c9904",
        "outputId": "a9621951-b6b0-4c46-dec5-ba5b099f5bda",
        "papermill": {
          "duration": 0.230195,
          "end_time": "2022-03-15T12:08:04.522409",
          "exception": false,
          "start_time": "2022-03-15T12:08:04.292214",
          "status": "completed"
        },
        "tags": []
      },
      "outputs": [
        {
          "data": {
            "text/plain": [
              "983"
            ]
          },
          "execution_count": 21,
          "metadata": {},
          "output_type": "execute_result"
        }
      ],
      "source": [
        "data[\"recency\"].isnull().sum()"
      ]
    },
    {
      "cell_type": "code",
      "execution_count": null,
      "id": "e9fd57a4",
      "metadata": {
        "execution": {
          "iopub.execute_input": "2022-03-15T12:08:05.004561Z",
          "iopub.status.busy": "2022-03-15T12:08:05.003856Z",
          "iopub.status.idle": "2022-03-15T12:08:05.018797Z",
          "shell.execute_reply": "2022-03-15T12:08:05.019314Z",
          "shell.execute_reply.started": "2022-03-15T12:00:35.047996Z"
        },
        "id": "e9fd57a4",
        "papermill": {
          "duration": 0.227941,
          "end_time": "2022-03-15T12:08:05.019487",
          "exception": false,
          "start_time": "2022-03-15T12:08:04.791546",
          "status": "completed"
        },
        "tags": []
      },
      "outputs": [],
      "source": [
        "data.loc[data.recency.isnull(),[\"recency\"]] = -1"
      ]
    },
    {
      "cell_type": "code",
      "execution_count": null,
      "id": "b5c2a666",
      "metadata": {
        "execution": {
          "iopub.execute_input": "2022-03-15T12:08:05.439447Z",
          "iopub.status.busy": "2022-03-15T12:08:05.438551Z",
          "iopub.status.idle": "2022-03-15T12:08:06.619173Z",
          "shell.execute_reply": "2022-03-15T12:08:06.619640Z",
          "shell.execute_reply.started": "2022-03-15T12:00:35.088314Z"
        },
        "id": "b5c2a666",
        "outputId": "4ecc2812-b2cd-46aa-9a70-adef41deef3e",
        "papermill": {
          "duration": 1.390687,
          "end_time": "2022-03-15T12:08:06.619809",
          "exception": false,
          "start_time": "2022-03-15T12:08:05.229122",
          "status": "completed"
        },
        "tags": []
      },
      "outputs": [
        {
          "data": {
            "text/plain": [
              "Unnamed: 0               0\n",
              "trans_date_trans_time    0\n",
              "cc_num                   0\n",
              "merchant                 0\n",
              "category                 0\n",
              "amt                      0\n",
              "gender                   0\n",
              "street                   0\n",
              "city                     0\n",
              "state                    0\n",
              "zip                      0\n",
              "lat                      0\n",
              "long                     0\n",
              "city_pop                 0\n",
              "job                      0\n",
              "dob                      0\n",
              "unix_time                0\n",
              "merch_lat                0\n",
              "merch_long               0\n",
              "is_fraud                 0\n",
              "recency                  0\n",
              "dtype: int64"
            ]
          },
          "execution_count": 23,
          "metadata": {},
          "output_type": "execute_result"
        }
      ],
      "source": [
        "data.isnull().sum()"
      ]
    },
    {
      "cell_type": "code",
      "execution_count": null,
      "id": "e1356f2a",
      "metadata": {
        "execution": {
          "iopub.execute_input": "2022-03-15T12:08:07.032688Z",
          "iopub.status.busy": "2022-03-15T12:08:07.032147Z",
          "iopub.status.idle": "2022-03-15T12:08:08.225312Z",
          "shell.execute_reply": "2022-03-15T12:08:08.224650Z",
          "shell.execute_reply.started": "2022-03-15T12:00:36.372794Z"
        },
        "id": "e1356f2a",
        "outputId": "a6ca1a6e-937d-4154-deff-b4d56875d4be",
        "papermill": {
          "duration": 1.402714,
          "end_time": "2022-03-15T12:08:08.225451",
          "exception": false,
          "start_time": "2022-03-15T12:08:06.822737",
          "status": "completed"
        },
        "tags": []
      },
      "outputs": [
        {
          "name": "stdout",
          "output_type": "stream",
          "text": [
            "<class 'pandas.core.frame.DataFrame'>\n",
            "RangeIndex: 1296675 entries, 0 to 1296674\n",
            "Data columns (total 21 columns):\n",
            " #   Column                 Non-Null Count    Dtype  \n",
            "---  ------                 --------------    -----  \n",
            " 0   Unnamed: 0             1296675 non-null  int64  \n",
            " 1   trans_date_trans_time  1296675 non-null  object \n",
            " 2   cc_num                 1296675 non-null  int64  \n",
            " 3   merchant               1296675 non-null  object \n",
            " 4   category               1296675 non-null  object \n",
            " 5   amt                    1296675 non-null  float64\n",
            " 6   gender                 1296675 non-null  object \n",
            " 7   street                 1296675 non-null  object \n",
            " 8   city                   1296675 non-null  object \n",
            " 9   state                  1296675 non-null  object \n",
            " 10  zip                    1296675 non-null  int64  \n",
            " 11  lat                    1296675 non-null  float64\n",
            " 12  long                   1296675 non-null  float64\n",
            " 13  city_pop               1296675 non-null  int64  \n",
            " 14  job                    1296675 non-null  object \n",
            " 15  dob                    1296675 non-null  object \n",
            " 16  unix_time              1296675 non-null  int64  \n",
            " 17  merch_lat              1296675 non-null  float64\n",
            " 18  merch_long             1296675 non-null  float64\n",
            " 19  is_fraud               1296675 non-null  int64  \n",
            " 20  recency                1296675 non-null  float64\n",
            "dtypes: float64(6), int64(6), object(9)\n",
            "memory usage: 207.7+ MB\n"
          ]
        }
      ],
      "source": [
        "data.info()"
      ]
    },
    {
      "cell_type": "code",
      "execution_count": null,
      "id": "fe36dc1f",
      "metadata": {
        "execution": {
          "iopub.execute_input": "2022-03-15T12:08:08.644793Z",
          "iopub.status.busy": "2022-03-15T12:08:08.643855Z",
          "iopub.status.idle": "2022-03-15T12:08:09.206741Z",
          "shell.execute_reply": "2022-03-15T12:08:09.206166Z",
          "shell.execute_reply.started": "2022-03-15T12:00:37.656555Z"
        },
        "id": "fe36dc1f",
        "papermill": {
          "duration": 0.774061,
          "end_time": "2022-03-15T12:08:09.206888",
          "exception": false,
          "start_time": "2022-03-15T12:08:08.432827",
          "status": "completed"
        },
        "tags": []
      },
      "outputs": [],
      "source": [
        "data[\"trans_date_trans_time\"] = pd.to_datetime(data[\"trans_date_trans_time\"])"
      ]
    },
    {
      "cell_type": "code",
      "execution_count": null,
      "id": "70453471",
      "metadata": {
        "execution": {
          "iopub.execute_input": "2022-03-15T12:08:09.622014Z",
          "iopub.status.busy": "2022-03-15T12:08:09.621171Z",
          "iopub.status.idle": "2022-03-15T12:08:10.672014Z",
          "shell.execute_reply": "2022-03-15T12:08:10.672620Z",
          "shell.execute_reply.started": "2022-03-15T12:00:38.173246Z"
        },
        "id": "70453471",
        "outputId": "59b61924-9432-444d-e263-3e78672b894d",
        "papermill": {
          "duration": 1.26035,
          "end_time": "2022-03-15T12:08:10.672827",
          "exception": false,
          "start_time": "2022-03-15T12:08:09.412477",
          "status": "completed"
        },
        "tags": []
      },
      "outputs": [
        {
          "name": "stdout",
          "output_type": "stream",
          "text": [
            "<class 'pandas.core.frame.DataFrame'>\n",
            "RangeIndex: 1296675 entries, 0 to 1296674\n",
            "Data columns (total 21 columns):\n",
            " #   Column                 Non-Null Count    Dtype         \n",
            "---  ------                 --------------    -----         \n",
            " 0   Unnamed: 0             1296675 non-null  int64         \n",
            " 1   trans_date_trans_time  1296675 non-null  datetime64[ns]\n",
            " 2   cc_num                 1296675 non-null  int64         \n",
            " 3   merchant               1296675 non-null  object        \n",
            " 4   category               1296675 non-null  object        \n",
            " 5   amt                    1296675 non-null  float64       \n",
            " 6   gender                 1296675 non-null  object        \n",
            " 7   street                 1296675 non-null  object        \n",
            " 8   city                   1296675 non-null  object        \n",
            " 9   state                  1296675 non-null  object        \n",
            " 10  zip                    1296675 non-null  int64         \n",
            " 11  lat                    1296675 non-null  float64       \n",
            " 12  long                   1296675 non-null  float64       \n",
            " 13  city_pop               1296675 non-null  int64         \n",
            " 14  job                    1296675 non-null  object        \n",
            " 15  dob                    1296675 non-null  object        \n",
            " 16  unix_time              1296675 non-null  int64         \n",
            " 17  merch_lat              1296675 non-null  float64       \n",
            " 18  merch_long             1296675 non-null  float64       \n",
            " 19  is_fraud               1296675 non-null  int64         \n",
            " 20  recency                1296675 non-null  float64       \n",
            "dtypes: datetime64[ns](1), float64(6), int64(6), object(8)\n",
            "memory usage: 207.7+ MB\n"
          ]
        }
      ],
      "source": [
        "data.info()"
      ]
    },
    {
      "cell_type": "code",
      "execution_count": null,
      "id": "8b24c81d",
      "metadata": {
        "execution": {
          "iopub.execute_input": "2022-03-15T12:08:11.105689Z",
          "iopub.status.busy": "2022-03-15T12:08:11.104637Z",
          "iopub.status.idle": "2022-03-15T12:08:11.122730Z",
          "shell.execute_reply": "2022-03-15T12:08:11.123233Z",
          "shell.execute_reply.started": "2022-03-15T12:00:39.325731Z"
        },
        "id": "8b24c81d",
        "outputId": "f979ced1-5813-4460-d7b5-51cd96416ca6",
        "papermill": {
          "duration": 0.239698,
          "end_time": "2022-03-15T12:08:11.123404",
          "exception": false,
          "start_time": "2022-03-15T12:08:10.883706",
          "status": "completed"
        },
        "tags": []
      },
      "outputs": [
        {
          "data": {
            "text/html": [
              "<div>\n",
              "<style scoped>\n",
              "    .dataframe tbody tr th:only-of-type {\n",
              "        vertical-align: middle;\n",
              "    }\n",
              "\n",
              "    .dataframe tbody tr th {\n",
              "        vertical-align: top;\n",
              "    }\n",
              "\n",
              "    .dataframe thead th {\n",
              "        text-align: right;\n",
              "    }\n",
              "</style>\n",
              "<table border=\"1\" class=\"dataframe\">\n",
              "  <thead>\n",
              "    <tr style=\"text-align: right;\">\n",
              "      <th></th>\n",
              "      <th>Unnamed: 0</th>\n",
              "      <th>trans_date_trans_time</th>\n",
              "      <th>cc_num</th>\n",
              "      <th>merchant</th>\n",
              "      <th>category</th>\n",
              "      <th>amt</th>\n",
              "      <th>gender</th>\n",
              "      <th>street</th>\n",
              "      <th>city</th>\n",
              "      <th>state</th>\n",
              "      <th>...</th>\n",
              "      <th>lat</th>\n",
              "      <th>long</th>\n",
              "      <th>city_pop</th>\n",
              "      <th>job</th>\n",
              "      <th>dob</th>\n",
              "      <th>unix_time</th>\n",
              "      <th>merch_lat</th>\n",
              "      <th>merch_long</th>\n",
              "      <th>is_fraud</th>\n",
              "      <th>recency</th>\n",
              "    </tr>\n",
              "  </thead>\n",
              "  <tbody>\n",
              "    <tr>\n",
              "      <th>0</th>\n",
              "      <td>0</td>\n",
              "      <td>2019-01-01 00:00:18</td>\n",
              "      <td>2703186189652095</td>\n",
              "      <td>fraud_Rippin, Kub and Mann</td>\n",
              "      <td>misc_net</td>\n",
              "      <td>4.97</td>\n",
              "      <td>F</td>\n",
              "      <td>561 Perry Cove</td>\n",
              "      <td>Moravian Falls</td>\n",
              "      <td>NC</td>\n",
              "      <td>...</td>\n",
              "      <td>36.0788</td>\n",
              "      <td>-81.1781</td>\n",
              "      <td>3495</td>\n",
              "      <td>Psychologist, counselling</td>\n",
              "      <td>1988-03-09</td>\n",
              "      <td>1325376018</td>\n",
              "      <td>36.011293</td>\n",
              "      <td>-82.048315</td>\n",
              "      <td>0</td>\n",
              "      <td>-1.0</td>\n",
              "    </tr>\n",
              "    <tr>\n",
              "      <th>1</th>\n",
              "      <td>1</td>\n",
              "      <td>2019-01-01 00:00:44</td>\n",
              "      <td>630423337322</td>\n",
              "      <td>fraud_Heller, Gutmann and Zieme</td>\n",
              "      <td>grocery_pos</td>\n",
              "      <td>107.23</td>\n",
              "      <td>F</td>\n",
              "      <td>43039 Riley Greens Suite 393</td>\n",
              "      <td>Orient</td>\n",
              "      <td>WA</td>\n",
              "      <td>...</td>\n",
              "      <td>48.8878</td>\n",
              "      <td>-118.2105</td>\n",
              "      <td>149</td>\n",
              "      <td>Special educational needs teacher</td>\n",
              "      <td>1978-06-21</td>\n",
              "      <td>1325376044</td>\n",
              "      <td>49.159047</td>\n",
              "      <td>-118.186462</td>\n",
              "      <td>0</td>\n",
              "      <td>-1.0</td>\n",
              "    </tr>\n",
              "    <tr>\n",
              "      <th>2</th>\n",
              "      <td>2</td>\n",
              "      <td>2019-01-01 00:00:51</td>\n",
              "      <td>38859492057661</td>\n",
              "      <td>fraud_Lind-Buckridge</td>\n",
              "      <td>entertainment</td>\n",
              "      <td>220.11</td>\n",
              "      <td>M</td>\n",
              "      <td>594 White Dale Suite 530</td>\n",
              "      <td>Malad City</td>\n",
              "      <td>ID</td>\n",
              "      <td>...</td>\n",
              "      <td>42.1808</td>\n",
              "      <td>-112.2620</td>\n",
              "      <td>4154</td>\n",
              "      <td>Nature conservation officer</td>\n",
              "      <td>1962-01-19</td>\n",
              "      <td>1325376051</td>\n",
              "      <td>43.150704</td>\n",
              "      <td>-112.154481</td>\n",
              "      <td>0</td>\n",
              "      <td>-1.0</td>\n",
              "    </tr>\n",
              "    <tr>\n",
              "      <th>3</th>\n",
              "      <td>3</td>\n",
              "      <td>2019-01-01 00:01:16</td>\n",
              "      <td>3534093764340240</td>\n",
              "      <td>fraud_Kutch, Hermiston and Farrell</td>\n",
              "      <td>gas_transport</td>\n",
              "      <td>45.00</td>\n",
              "      <td>M</td>\n",
              "      <td>9443 Cynthia Court Apt. 038</td>\n",
              "      <td>Boulder</td>\n",
              "      <td>MT</td>\n",
              "      <td>...</td>\n",
              "      <td>46.2306</td>\n",
              "      <td>-112.1138</td>\n",
              "      <td>1939</td>\n",
              "      <td>Patent attorney</td>\n",
              "      <td>1967-01-12</td>\n",
              "      <td>1325376076</td>\n",
              "      <td>47.034331</td>\n",
              "      <td>-112.561071</td>\n",
              "      <td>0</td>\n",
              "      <td>-1.0</td>\n",
              "    </tr>\n",
              "    <tr>\n",
              "      <th>4</th>\n",
              "      <td>4</td>\n",
              "      <td>2019-01-01 00:03:06</td>\n",
              "      <td>375534208663984</td>\n",
              "      <td>fraud_Keeling-Crist</td>\n",
              "      <td>misc_pos</td>\n",
              "      <td>41.96</td>\n",
              "      <td>M</td>\n",
              "      <td>408 Bradley Rest</td>\n",
              "      <td>Doe Hill</td>\n",
              "      <td>VA</td>\n",
              "      <td>...</td>\n",
              "      <td>38.4207</td>\n",
              "      <td>-79.4629</td>\n",
              "      <td>99</td>\n",
              "      <td>Dance movement psychotherapist</td>\n",
              "      <td>1986-03-28</td>\n",
              "      <td>1325376186</td>\n",
              "      <td>38.674999</td>\n",
              "      <td>-78.632459</td>\n",
              "      <td>0</td>\n",
              "      <td>-1.0</td>\n",
              "    </tr>\n",
              "  </tbody>\n",
              "</table>\n",
              "<p>5 rows × 21 columns</p>\n",
              "</div>"
            ],
            "text/plain": [
              "   Unnamed: 0 trans_date_trans_time            cc_num  \\\n",
              "0           0   2019-01-01 00:00:18  2703186189652095   \n",
              "1           1   2019-01-01 00:00:44      630423337322   \n",
              "2           2   2019-01-01 00:00:51    38859492057661   \n",
              "3           3   2019-01-01 00:01:16  3534093764340240   \n",
              "4           4   2019-01-01 00:03:06   375534208663984   \n",
              "\n",
              "                             merchant       category     amt gender  \\\n",
              "0          fraud_Rippin, Kub and Mann       misc_net    4.97      F   \n",
              "1     fraud_Heller, Gutmann and Zieme    grocery_pos  107.23      F   \n",
              "2                fraud_Lind-Buckridge  entertainment  220.11      M   \n",
              "3  fraud_Kutch, Hermiston and Farrell  gas_transport   45.00      M   \n",
              "4                 fraud_Keeling-Crist       misc_pos   41.96      M   \n",
              "\n",
              "                         street            city state  ...      lat      long  \\\n",
              "0                561 Perry Cove  Moravian Falls    NC  ...  36.0788  -81.1781   \n",
              "1  43039 Riley Greens Suite 393          Orient    WA  ...  48.8878 -118.2105   \n",
              "2      594 White Dale Suite 530      Malad City    ID  ...  42.1808 -112.2620   \n",
              "3   9443 Cynthia Court Apt. 038         Boulder    MT  ...  46.2306 -112.1138   \n",
              "4              408 Bradley Rest        Doe Hill    VA  ...  38.4207  -79.4629   \n",
              "\n",
              "   city_pop                                job         dob   unix_time  \\\n",
              "0      3495          Psychologist, counselling  1988-03-09  1325376018   \n",
              "1       149  Special educational needs teacher  1978-06-21  1325376044   \n",
              "2      4154        Nature conservation officer  1962-01-19  1325376051   \n",
              "3      1939                    Patent attorney  1967-01-12  1325376076   \n",
              "4        99     Dance movement psychotherapist  1986-03-28  1325376186   \n",
              "\n",
              "   merch_lat  merch_long  is_fraud  recency  \n",
              "0  36.011293  -82.048315         0     -1.0  \n",
              "1  49.159047 -118.186462         0     -1.0  \n",
              "2  43.150704 -112.154481         0     -1.0  \n",
              "3  47.034331 -112.561071         0     -1.0  \n",
              "4  38.674999  -78.632459         0     -1.0  \n",
              "\n",
              "[5 rows x 21 columns]"
            ]
          },
          "execution_count": 27,
          "metadata": {},
          "output_type": "execute_result"
        }
      ],
      "source": [
        "data.head()"
      ]
    },
    {
      "cell_type": "code",
      "execution_count": null,
      "id": "83b5b615",
      "metadata": {
        "execution": {
          "iopub.execute_input": "2022-03-15T12:08:11.546682Z",
          "iopub.status.busy": "2022-03-15T12:08:11.545706Z",
          "iopub.status.idle": "2022-03-15T12:08:11.729312Z",
          "shell.execute_reply": "2022-03-15T12:08:11.728715Z",
          "shell.execute_reply.started": "2022-03-15T12:00:39.355750Z"
        },
        "id": "83b5b615",
        "papermill": {
          "duration": 0.393428,
          "end_time": "2022-03-15T12:08:11.729448",
          "exception": false,
          "start_time": "2022-03-15T12:08:11.336020",
          "status": "completed"
        },
        "tags": []
      },
      "outputs": [],
      "source": [
        "data= data.drop(\"unix_time\",1)"
      ]
    },
    {
      "cell_type": "code",
      "execution_count": null,
      "id": "cbfacb36",
      "metadata": {
        "execution": {
          "iopub.execute_input": "2022-03-15T12:08:12.158839Z",
          "iopub.status.busy": "2022-03-15T12:08:12.157979Z",
          "iopub.status.idle": "2022-03-15T12:08:13.239451Z",
          "shell.execute_reply": "2022-03-15T12:08:13.238525Z",
          "shell.execute_reply.started": "2022-03-15T12:00:39.630631Z"
        },
        "id": "cbfacb36",
        "outputId": "6f0949df-b062-4e48-e939-271e15eb7803",
        "papermill": {
          "duration": 1.295723,
          "end_time": "2022-03-15T12:08:13.239642",
          "exception": false,
          "start_time": "2022-03-15T12:08:11.943919",
          "status": "completed"
        },
        "tags": []
      },
      "outputs": [
        {
          "name": "stdout",
          "output_type": "stream",
          "text": [
            "<class 'pandas.core.frame.DataFrame'>\n",
            "RangeIndex: 1296675 entries, 0 to 1296674\n",
            "Data columns (total 20 columns):\n",
            " #   Column                 Non-Null Count    Dtype         \n",
            "---  ------                 --------------    -----         \n",
            " 0   Unnamed: 0             1296675 non-null  int64         \n",
            " 1   trans_date_trans_time  1296675 non-null  datetime64[ns]\n",
            " 2   cc_num                 1296675 non-null  int64         \n",
            " 3   merchant               1296675 non-null  object        \n",
            " 4   category               1296675 non-null  object        \n",
            " 5   amt                    1296675 non-null  float64       \n",
            " 6   gender                 1296675 non-null  object        \n",
            " 7   street                 1296675 non-null  object        \n",
            " 8   city                   1296675 non-null  object        \n",
            " 9   state                  1296675 non-null  object        \n",
            " 10  zip                    1296675 non-null  int64         \n",
            " 11  lat                    1296675 non-null  float64       \n",
            " 12  long                   1296675 non-null  float64       \n",
            " 13  city_pop               1296675 non-null  int64         \n",
            " 14  job                    1296675 non-null  object        \n",
            " 15  dob                    1296675 non-null  object        \n",
            " 16  merch_lat              1296675 non-null  float64       \n",
            " 17  merch_long             1296675 non-null  float64       \n",
            " 18  is_fraud               1296675 non-null  int64         \n",
            " 19  recency                1296675 non-null  float64       \n",
            "dtypes: datetime64[ns](1), float64(6), int64(5), object(8)\n",
            "memory usage: 197.9+ MB\n"
          ]
        }
      ],
      "source": [
        "data.info()"
      ]
    },
    {
      "cell_type": "code",
      "execution_count": null,
      "id": "6a51633b",
      "metadata": {
        "execution": {
          "iopub.execute_input": "2022-03-15T12:08:13.703724Z",
          "iopub.status.busy": "2022-03-15T12:08:13.702645Z",
          "iopub.status.idle": "2022-03-15T12:08:13.855414Z",
          "shell.execute_reply": "2022-03-15T12:08:13.855978Z",
          "shell.execute_reply.started": "2022-03-15T12:00:40.779196Z"
        },
        "id": "6a51633b",
        "papermill": {
          "duration": 0.378543,
          "end_time": "2022-03-15T12:08:13.856170",
          "exception": false,
          "start_time": "2022-03-15T12:08:13.477627",
          "status": "completed"
        },
        "tags": []
      },
      "outputs": [],
      "source": [
        "data = data.drop(columns=[\"Unnamed: 0\"])"
      ]
    },
    {
      "cell_type": "code",
      "execution_count": null,
      "id": "5bad0603",
      "metadata": {
        "execution": {
          "iopub.execute_input": "2022-03-15T12:08:14.316550Z",
          "iopub.status.busy": "2022-03-15T12:08:14.315506Z",
          "iopub.status.idle": "2022-03-15T12:08:15.401033Z",
          "shell.execute_reply": "2022-03-15T12:08:15.400419Z",
          "shell.execute_reply.started": "2022-03-15T12:00:41.029325Z"
        },
        "id": "5bad0603",
        "outputId": "f69f0f46-e73c-4960-a6e6-66760a48e5c5",
        "papermill": {
          "duration": 1.314153,
          "end_time": "2022-03-15T12:08:15.401188",
          "exception": false,
          "start_time": "2022-03-15T12:08:14.087035",
          "status": "completed"
        },
        "tags": []
      },
      "outputs": [
        {
          "name": "stdout",
          "output_type": "stream",
          "text": [
            "<class 'pandas.core.frame.DataFrame'>\n",
            "RangeIndex: 1296675 entries, 0 to 1296674\n",
            "Data columns (total 19 columns):\n",
            " #   Column                 Non-Null Count    Dtype         \n",
            "---  ------                 --------------    -----         \n",
            " 0   trans_date_trans_time  1296675 non-null  datetime64[ns]\n",
            " 1   cc_num                 1296675 non-null  int64         \n",
            " 2   merchant               1296675 non-null  object        \n",
            " 3   category               1296675 non-null  object        \n",
            " 4   amt                    1296675 non-null  float64       \n",
            " 5   gender                 1296675 non-null  object        \n",
            " 6   street                 1296675 non-null  object        \n",
            " 7   city                   1296675 non-null  object        \n",
            " 8   state                  1296675 non-null  object        \n",
            " 9   zip                    1296675 non-null  int64         \n",
            " 10  lat                    1296675 non-null  float64       \n",
            " 11  long                   1296675 non-null  float64       \n",
            " 12  city_pop               1296675 non-null  int64         \n",
            " 13  job                    1296675 non-null  object        \n",
            " 14  dob                    1296675 non-null  object        \n",
            " 15  merch_lat              1296675 non-null  float64       \n",
            " 16  merch_long             1296675 non-null  float64       \n",
            " 17  is_fraud               1296675 non-null  int64         \n",
            " 18  recency                1296675 non-null  float64       \n",
            "dtypes: datetime64[ns](1), float64(6), int64(4), object(8)\n",
            "memory usage: 188.0+ MB\n"
          ]
        }
      ],
      "source": [
        "data.info()"
      ]
    },
    {
      "cell_type": "code",
      "execution_count": null,
      "id": "b61a7bda",
      "metadata": {
        "execution": {
          "iopub.execute_input": "2022-03-15T12:08:16.024291Z",
          "iopub.status.busy": "2022-03-15T12:08:16.021251Z",
          "iopub.status.idle": "2022-03-15T12:08:16.028757Z",
          "shell.execute_reply": "2022-03-15T12:08:16.028087Z",
          "shell.execute_reply.started": "2022-03-15T12:00:42.166870Z"
        },
        "id": "b61a7bda",
        "outputId": "c69faf2b-fcde-4f49-d2e5-559b9fd5f3db",
        "papermill": {
          "duration": 0.414702,
          "end_time": "2022-03-15T12:08:16.028897",
          "exception": false,
          "start_time": "2022-03-15T12:08:15.614195",
          "status": "completed"
        },
        "tags": []
      },
      "outputs": [
        {
          "data": {
            "text/plain": [
              "1977-03-23    5636\n",
              "1981-08-29    4636\n",
              "1988-09-15    4623\n",
              "1955-05-06    3661\n",
              "1995-07-12    3123\n",
              "              ... \n",
              "1944-06-17       7\n",
              "1970-06-25       7\n",
              "1962-03-14       7\n",
              "1960-10-28       7\n",
              "1999-10-26       7\n",
              "Name: dob, Length: 968, dtype: int64"
            ]
          },
          "execution_count": 32,
          "metadata": {},
          "output_type": "execute_result"
        }
      ],
      "source": [
        "data.dob.value_counts()"
      ]
    },
    {
      "cell_type": "code",
      "execution_count": null,
      "id": "7ace1e1d",
      "metadata": {
        "execution": {
          "iopub.execute_input": "2022-03-15T12:08:16.451501Z",
          "iopub.status.busy": "2022-03-15T12:08:16.450957Z",
          "iopub.status.idle": "2022-03-15T12:08:17.503103Z",
          "shell.execute_reply": "2022-03-15T12:08:17.503605Z",
          "shell.execute_reply.started": "2022-03-15T12:00:42.382790Z"
        },
        "id": "7ace1e1d",
        "outputId": "625d9179-bc7d-4b35-c0bc-61ab236e9fe5",
        "papermill": {
          "duration": 1.264037,
          "end_time": "2022-03-15T12:08:17.503761",
          "exception": false,
          "start_time": "2022-03-15T12:08:16.239724",
          "status": "completed"
        },
        "tags": []
      },
      "outputs": [
        {
          "name": "stdout",
          "output_type": "stream",
          "text": [
            "<class 'pandas.core.frame.DataFrame'>\n",
            "RangeIndex: 1296675 entries, 0 to 1296674\n",
            "Data columns (total 18 columns):\n",
            " #   Column                 Non-Null Count    Dtype         \n",
            "---  ------                 --------------    -----         \n",
            " 0   trans_date_trans_time  1296675 non-null  datetime64[ns]\n",
            " 1   cc_num                 1296675 non-null  int64         \n",
            " 2   merchant               1296675 non-null  object        \n",
            " 3   category               1296675 non-null  object        \n",
            " 4   amt                    1296675 non-null  float64       \n",
            " 5   gender                 1296675 non-null  object        \n",
            " 6   street                 1296675 non-null  object        \n",
            " 7   city                   1296675 non-null  object        \n",
            " 8   state                  1296675 non-null  object        \n",
            " 9   zip                    1296675 non-null  int64         \n",
            " 10  lat                    1296675 non-null  float64       \n",
            " 11  long                   1296675 non-null  float64       \n",
            " 12  city_pop               1296675 non-null  int64         \n",
            " 13  job                    1296675 non-null  object        \n",
            " 14  merch_lat              1296675 non-null  float64       \n",
            " 15  merch_long             1296675 non-null  float64       \n",
            " 16  is_fraud               1296675 non-null  int64         \n",
            " 17  recency                1296675 non-null  float64       \n",
            "dtypes: datetime64[ns](1), float64(6), int64(4), object(7)\n",
            "memory usage: 178.1+ MB\n"
          ]
        }
      ],
      "source": [
        "data = data.drop(\"dob\",1)\n",
        "data.info()"
      ]
    },
    {
      "cell_type": "code",
      "execution_count": null,
      "id": "3b8cc0ba",
      "metadata": {
        "execution": {
          "iopub.execute_input": "2022-03-15T12:08:17.927762Z",
          "iopub.status.busy": "2022-03-15T12:08:17.927197Z",
          "iopub.status.idle": "2022-03-15T12:08:17.943669Z",
          "shell.execute_reply": "2022-03-15T12:08:17.944143Z",
          "shell.execute_reply.started": "2022-03-15T12:00:43.536692Z"
        },
        "id": "3b8cc0ba",
        "papermill": {
          "duration": 0.231951,
          "end_time": "2022-03-15T12:08:17.944314",
          "exception": false,
          "start_time": "2022-03-15T12:08:17.712363",
          "status": "completed"
        },
        "tags": []
      },
      "outputs": [],
      "source": [
        "data[\"lat_diff\"] = abs(data.lat - data.merch_lat)\n",
        "data[\"long_diff\"] = abs(data[\"long\"] - data[\"merch_long\"])"
      ]
    },
    {
      "cell_type": "code",
      "execution_count": null,
      "id": "db332452",
      "metadata": {
        "execution": {
          "iopub.execute_input": "2022-03-15T12:08:18.362187Z",
          "iopub.status.busy": "2022-03-15T12:08:18.361598Z",
          "iopub.status.idle": "2022-03-15T12:08:18.380286Z",
          "shell.execute_reply": "2022-03-15T12:08:18.380749Z",
          "shell.execute_reply.started": "2022-03-15T12:00:43.563519Z"
        },
        "id": "db332452",
        "outputId": "faf1348d-367a-4494-b8c3-cc9d3fdf0a49",
        "papermill": {
          "duration": 0.226841,
          "end_time": "2022-03-15T12:08:18.380913",
          "exception": false,
          "start_time": "2022-03-15T12:08:18.154072",
          "status": "completed"
        },
        "tags": []
      },
      "outputs": [
        {
          "data": {
            "text/html": [
              "<div>\n",
              "<style scoped>\n",
              "    .dataframe tbody tr th:only-of-type {\n",
              "        vertical-align: middle;\n",
              "    }\n",
              "\n",
              "    .dataframe tbody tr th {\n",
              "        vertical-align: top;\n",
              "    }\n",
              "\n",
              "    .dataframe thead th {\n",
              "        text-align: right;\n",
              "    }\n",
              "</style>\n",
              "<table border=\"1\" class=\"dataframe\">\n",
              "  <thead>\n",
              "    <tr style=\"text-align: right;\">\n",
              "      <th></th>\n",
              "      <th>trans_date_trans_time</th>\n",
              "      <th>cc_num</th>\n",
              "      <th>merchant</th>\n",
              "      <th>category</th>\n",
              "      <th>amt</th>\n",
              "      <th>gender</th>\n",
              "      <th>street</th>\n",
              "      <th>city</th>\n",
              "      <th>state</th>\n",
              "      <th>zip</th>\n",
              "      <th>lat</th>\n",
              "      <th>long</th>\n",
              "      <th>city_pop</th>\n",
              "      <th>job</th>\n",
              "      <th>merch_lat</th>\n",
              "      <th>merch_long</th>\n",
              "      <th>is_fraud</th>\n",
              "      <th>recency</th>\n",
              "      <th>lat_diff</th>\n",
              "      <th>long_diff</th>\n",
              "    </tr>\n",
              "  </thead>\n",
              "  <tbody>\n",
              "    <tr>\n",
              "      <th>0</th>\n",
              "      <td>2019-01-01 00:00:18</td>\n",
              "      <td>2703186189652095</td>\n",
              "      <td>fraud_Rippin, Kub and Mann</td>\n",
              "      <td>misc_net</td>\n",
              "      <td>4.97</td>\n",
              "      <td>F</td>\n",
              "      <td>561 Perry Cove</td>\n",
              "      <td>Moravian Falls</td>\n",
              "      <td>NC</td>\n",
              "      <td>28654</td>\n",
              "      <td>36.0788</td>\n",
              "      <td>-81.1781</td>\n",
              "      <td>3495</td>\n",
              "      <td>Psychologist, counselling</td>\n",
              "      <td>36.011293</td>\n",
              "      <td>-82.048315</td>\n",
              "      <td>0</td>\n",
              "      <td>-1.0</td>\n",
              "      <td>0.067507</td>\n",
              "      <td>0.870215</td>\n",
              "    </tr>\n",
              "    <tr>\n",
              "      <th>1</th>\n",
              "      <td>2019-01-01 00:00:44</td>\n",
              "      <td>630423337322</td>\n",
              "      <td>fraud_Heller, Gutmann and Zieme</td>\n",
              "      <td>grocery_pos</td>\n",
              "      <td>107.23</td>\n",
              "      <td>F</td>\n",
              "      <td>43039 Riley Greens Suite 393</td>\n",
              "      <td>Orient</td>\n",
              "      <td>WA</td>\n",
              "      <td>99160</td>\n",
              "      <td>48.8878</td>\n",
              "      <td>-118.2105</td>\n",
              "      <td>149</td>\n",
              "      <td>Special educational needs teacher</td>\n",
              "      <td>49.159047</td>\n",
              "      <td>-118.186462</td>\n",
              "      <td>0</td>\n",
              "      <td>-1.0</td>\n",
              "      <td>0.271247</td>\n",
              "      <td>0.024038</td>\n",
              "    </tr>\n",
              "    <tr>\n",
              "      <th>2</th>\n",
              "      <td>2019-01-01 00:00:51</td>\n",
              "      <td>38859492057661</td>\n",
              "      <td>fraud_Lind-Buckridge</td>\n",
              "      <td>entertainment</td>\n",
              "      <td>220.11</td>\n",
              "      <td>M</td>\n",
              "      <td>594 White Dale Suite 530</td>\n",
              "      <td>Malad City</td>\n",
              "      <td>ID</td>\n",
              "      <td>83252</td>\n",
              "      <td>42.1808</td>\n",
              "      <td>-112.2620</td>\n",
              "      <td>4154</td>\n",
              "      <td>Nature conservation officer</td>\n",
              "      <td>43.150704</td>\n",
              "      <td>-112.154481</td>\n",
              "      <td>0</td>\n",
              "      <td>-1.0</td>\n",
              "      <td>0.969904</td>\n",
              "      <td>0.107519</td>\n",
              "    </tr>\n",
              "    <tr>\n",
              "      <th>3</th>\n",
              "      <td>2019-01-01 00:01:16</td>\n",
              "      <td>3534093764340240</td>\n",
              "      <td>fraud_Kutch, Hermiston and Farrell</td>\n",
              "      <td>gas_transport</td>\n",
              "      <td>45.00</td>\n",
              "      <td>M</td>\n",
              "      <td>9443 Cynthia Court Apt. 038</td>\n",
              "      <td>Boulder</td>\n",
              "      <td>MT</td>\n",
              "      <td>59632</td>\n",
              "      <td>46.2306</td>\n",
              "      <td>-112.1138</td>\n",
              "      <td>1939</td>\n",
              "      <td>Patent attorney</td>\n",
              "      <td>47.034331</td>\n",
              "      <td>-112.561071</td>\n",
              "      <td>0</td>\n",
              "      <td>-1.0</td>\n",
              "      <td>0.803731</td>\n",
              "      <td>0.447271</td>\n",
              "    </tr>\n",
              "    <tr>\n",
              "      <th>4</th>\n",
              "      <td>2019-01-01 00:03:06</td>\n",
              "      <td>375534208663984</td>\n",
              "      <td>fraud_Keeling-Crist</td>\n",
              "      <td>misc_pos</td>\n",
              "      <td>41.96</td>\n",
              "      <td>M</td>\n",
              "      <td>408 Bradley Rest</td>\n",
              "      <td>Doe Hill</td>\n",
              "      <td>VA</td>\n",
              "      <td>24433</td>\n",
              "      <td>38.4207</td>\n",
              "      <td>-79.4629</td>\n",
              "      <td>99</td>\n",
              "      <td>Dance movement psychotherapist</td>\n",
              "      <td>38.674999</td>\n",
              "      <td>-78.632459</td>\n",
              "      <td>0</td>\n",
              "      <td>-1.0</td>\n",
              "      <td>0.254299</td>\n",
              "      <td>0.830441</td>\n",
              "    </tr>\n",
              "  </tbody>\n",
              "</table>\n",
              "</div>"
            ],
            "text/plain": [
              "  trans_date_trans_time            cc_num                            merchant  \\\n",
              "0   2019-01-01 00:00:18  2703186189652095          fraud_Rippin, Kub and Mann   \n",
              "1   2019-01-01 00:00:44      630423337322     fraud_Heller, Gutmann and Zieme   \n",
              "2   2019-01-01 00:00:51    38859492057661                fraud_Lind-Buckridge   \n",
              "3   2019-01-01 00:01:16  3534093764340240  fraud_Kutch, Hermiston and Farrell   \n",
              "4   2019-01-01 00:03:06   375534208663984                 fraud_Keeling-Crist   \n",
              "\n",
              "        category     amt gender                        street            city  \\\n",
              "0       misc_net    4.97      F                561 Perry Cove  Moravian Falls   \n",
              "1    grocery_pos  107.23      F  43039 Riley Greens Suite 393          Orient   \n",
              "2  entertainment  220.11      M      594 White Dale Suite 530      Malad City   \n",
              "3  gas_transport   45.00      M   9443 Cynthia Court Apt. 038         Boulder   \n",
              "4       misc_pos   41.96      M              408 Bradley Rest        Doe Hill   \n",
              "\n",
              "  state    zip      lat      long  city_pop  \\\n",
              "0    NC  28654  36.0788  -81.1781      3495   \n",
              "1    WA  99160  48.8878 -118.2105       149   \n",
              "2    ID  83252  42.1808 -112.2620      4154   \n",
              "3    MT  59632  46.2306 -112.1138      1939   \n",
              "4    VA  24433  38.4207  -79.4629        99   \n",
              "\n",
              "                                 job  merch_lat  merch_long  is_fraud  \\\n",
              "0          Psychologist, counselling  36.011293  -82.048315         0   \n",
              "1  Special educational needs teacher  49.159047 -118.186462         0   \n",
              "2        Nature conservation officer  43.150704 -112.154481         0   \n",
              "3                    Patent attorney  47.034331 -112.561071         0   \n",
              "4     Dance movement psychotherapist  38.674999  -78.632459         0   \n",
              "\n",
              "   recency  lat_diff  long_diff  \n",
              "0     -1.0  0.067507   0.870215  \n",
              "1     -1.0  0.271247   0.024038  \n",
              "2     -1.0  0.969904   0.107519  \n",
              "3     -1.0  0.803731   0.447271  \n",
              "4     -1.0  0.254299   0.830441  "
            ]
          },
          "execution_count": 35,
          "metadata": {},
          "output_type": "execute_result"
        }
      ],
      "source": [
        "data.head()"
      ]
    },
    {
      "cell_type": "code",
      "execution_count": null,
      "id": "32eca0fd",
      "metadata": {
        "execution": {
          "iopub.execute_input": "2022-03-15T12:08:18.806119Z",
          "iopub.status.busy": "2022-03-15T12:08:18.805459Z",
          "iopub.status.idle": "2022-03-15T12:08:18.846937Z",
          "shell.execute_reply": "2022-03-15T12:08:18.846352Z",
          "shell.execute_reply.started": "2022-03-15T12:00:43.589411Z"
        },
        "id": "32eca0fd",
        "papermill": {
          "duration": 0.253682,
          "end_time": "2022-03-15T12:08:18.847120",
          "exception": false,
          "start_time": "2022-03-15T12:08:18.593438",
          "status": "completed"
        },
        "tags": []
      },
      "outputs": [],
      "source": [
        "data[\"displacement\"] = np.sqrt(pow((data[\"lat_diff\"]*110),2) + pow((data[\"long_diff\"]*110),2))"
      ]
    },
    {
      "cell_type": "code",
      "execution_count": null,
      "id": "feb81dcb",
      "metadata": {
        "execution": {
          "iopub.execute_input": "2022-03-15T12:08:19.302452Z",
          "iopub.status.busy": "2022-03-15T12:08:19.301488Z",
          "iopub.status.idle": "2022-03-15T12:08:19.304824Z",
          "shell.execute_reply": "2022-03-15T12:08:19.305329Z",
          "shell.execute_reply.started": "2022-03-15T12:00:43.645357Z"
        },
        "id": "feb81dcb",
        "outputId": "42e9d99a-a89b-40bd-bffa-29a8dcb7e381",
        "papermill": {
          "duration": 0.24296,
          "end_time": "2022-03-15T12:08:19.305476",
          "exception": false,
          "start_time": "2022-03-15T12:08:19.062516",
          "status": "completed"
        },
        "tags": []
      },
      "outputs": [
        {
          "data": {
            "text/html": [
              "<div>\n",
              "<style scoped>\n",
              "    .dataframe tbody tr th:only-of-type {\n",
              "        vertical-align: middle;\n",
              "    }\n",
              "\n",
              "    .dataframe tbody tr th {\n",
              "        vertical-align: top;\n",
              "    }\n",
              "\n",
              "    .dataframe thead th {\n",
              "        text-align: right;\n",
              "    }\n",
              "</style>\n",
              "<table border=\"1\" class=\"dataframe\">\n",
              "  <thead>\n",
              "    <tr style=\"text-align: right;\">\n",
              "      <th></th>\n",
              "      <th>trans_date_trans_time</th>\n",
              "      <th>cc_num</th>\n",
              "      <th>merchant</th>\n",
              "      <th>category</th>\n",
              "      <th>amt</th>\n",
              "      <th>gender</th>\n",
              "      <th>street</th>\n",
              "      <th>city</th>\n",
              "      <th>state</th>\n",
              "      <th>zip</th>\n",
              "      <th>...</th>\n",
              "      <th>long</th>\n",
              "      <th>city_pop</th>\n",
              "      <th>job</th>\n",
              "      <th>merch_lat</th>\n",
              "      <th>merch_long</th>\n",
              "      <th>is_fraud</th>\n",
              "      <th>recency</th>\n",
              "      <th>lat_diff</th>\n",
              "      <th>long_diff</th>\n",
              "      <th>displacement</th>\n",
              "    </tr>\n",
              "  </thead>\n",
              "  <tbody>\n",
              "    <tr>\n",
              "      <th>0</th>\n",
              "      <td>2019-01-01 00:00:18</td>\n",
              "      <td>2703186189652095</td>\n",
              "      <td>fraud_Rippin, Kub and Mann</td>\n",
              "      <td>misc_net</td>\n",
              "      <td>4.97</td>\n",
              "      <td>F</td>\n",
              "      <td>561 Perry Cove</td>\n",
              "      <td>Moravian Falls</td>\n",
              "      <td>NC</td>\n",
              "      <td>28654</td>\n",
              "      <td>...</td>\n",
              "      <td>-81.1781</td>\n",
              "      <td>3495</td>\n",
              "      <td>Psychologist, counselling</td>\n",
              "      <td>36.011293</td>\n",
              "      <td>-82.048315</td>\n",
              "      <td>0</td>\n",
              "      <td>-1.0</td>\n",
              "      <td>0.067507</td>\n",
              "      <td>0.870215</td>\n",
              "      <td>96.011245</td>\n",
              "    </tr>\n",
              "    <tr>\n",
              "      <th>1</th>\n",
              "      <td>2019-01-01 00:00:44</td>\n",
              "      <td>630423337322</td>\n",
              "      <td>fraud_Heller, Gutmann and Zieme</td>\n",
              "      <td>grocery_pos</td>\n",
              "      <td>107.23</td>\n",
              "      <td>F</td>\n",
              "      <td>43039 Riley Greens Suite 393</td>\n",
              "      <td>Orient</td>\n",
              "      <td>WA</td>\n",
              "      <td>99160</td>\n",
              "      <td>...</td>\n",
              "      <td>-118.2105</td>\n",
              "      <td>149</td>\n",
              "      <td>Special educational needs teacher</td>\n",
              "      <td>49.159047</td>\n",
              "      <td>-118.186462</td>\n",
              "      <td>0</td>\n",
              "      <td>-1.0</td>\n",
              "      <td>0.271247</td>\n",
              "      <td>0.024038</td>\n",
              "      <td>29.954105</td>\n",
              "    </tr>\n",
              "    <tr>\n",
              "      <th>2</th>\n",
              "      <td>2019-01-01 00:00:51</td>\n",
              "      <td>38859492057661</td>\n",
              "      <td>fraud_Lind-Buckridge</td>\n",
              "      <td>entertainment</td>\n",
              "      <td>220.11</td>\n",
              "      <td>M</td>\n",
              "      <td>594 White Dale Suite 530</td>\n",
              "      <td>Malad City</td>\n",
              "      <td>ID</td>\n",
              "      <td>83252</td>\n",
              "      <td>...</td>\n",
              "      <td>-112.2620</td>\n",
              "      <td>4154</td>\n",
              "      <td>Nature conservation officer</td>\n",
              "      <td>43.150704</td>\n",
              "      <td>-112.154481</td>\n",
              "      <td>0</td>\n",
              "      <td>-1.0</td>\n",
              "      <td>0.969904</td>\n",
              "      <td>0.107519</td>\n",
              "      <td>107.342986</td>\n",
              "    </tr>\n",
              "    <tr>\n",
              "      <th>3</th>\n",
              "      <td>2019-01-01 00:01:16</td>\n",
              "      <td>3534093764340240</td>\n",
              "      <td>fraud_Kutch, Hermiston and Farrell</td>\n",
              "      <td>gas_transport</td>\n",
              "      <td>45.00</td>\n",
              "      <td>M</td>\n",
              "      <td>9443 Cynthia Court Apt. 038</td>\n",
              "      <td>Boulder</td>\n",
              "      <td>MT</td>\n",
              "      <td>59632</td>\n",
              "      <td>...</td>\n",
              "      <td>-112.1138</td>\n",
              "      <td>1939</td>\n",
              "      <td>Patent attorney</td>\n",
              "      <td>47.034331</td>\n",
              "      <td>-112.561071</td>\n",
              "      <td>0</td>\n",
              "      <td>-1.0</td>\n",
              "      <td>0.803731</td>\n",
              "      <td>0.447271</td>\n",
              "      <td>101.178169</td>\n",
              "    </tr>\n",
              "    <tr>\n",
              "      <th>4</th>\n",
              "      <td>2019-01-01 00:03:06</td>\n",
              "      <td>375534208663984</td>\n",
              "      <td>fraud_Keeling-Crist</td>\n",
              "      <td>misc_pos</td>\n",
              "      <td>41.96</td>\n",
              "      <td>M</td>\n",
              "      <td>408 Bradley Rest</td>\n",
              "      <td>Doe Hill</td>\n",
              "      <td>VA</td>\n",
              "      <td>24433</td>\n",
              "      <td>...</td>\n",
              "      <td>-79.4629</td>\n",
              "      <td>99</td>\n",
              "      <td>Dance movement psychotherapist</td>\n",
              "      <td>38.674999</td>\n",
              "      <td>-78.632459</td>\n",
              "      <td>0</td>\n",
              "      <td>-1.0</td>\n",
              "      <td>0.254299</td>\n",
              "      <td>0.830441</td>\n",
              "      <td>95.535506</td>\n",
              "    </tr>\n",
              "  </tbody>\n",
              "</table>\n",
              "<p>5 rows × 21 columns</p>\n",
              "</div>"
            ],
            "text/plain": [
              "  trans_date_trans_time            cc_num                            merchant  \\\n",
              "0   2019-01-01 00:00:18  2703186189652095          fraud_Rippin, Kub and Mann   \n",
              "1   2019-01-01 00:00:44      630423337322     fraud_Heller, Gutmann and Zieme   \n",
              "2   2019-01-01 00:00:51    38859492057661                fraud_Lind-Buckridge   \n",
              "3   2019-01-01 00:01:16  3534093764340240  fraud_Kutch, Hermiston and Farrell   \n",
              "4   2019-01-01 00:03:06   375534208663984                 fraud_Keeling-Crist   \n",
              "\n",
              "        category     amt gender                        street            city  \\\n",
              "0       misc_net    4.97      F                561 Perry Cove  Moravian Falls   \n",
              "1    grocery_pos  107.23      F  43039 Riley Greens Suite 393          Orient   \n",
              "2  entertainment  220.11      M      594 White Dale Suite 530      Malad City   \n",
              "3  gas_transport   45.00      M   9443 Cynthia Court Apt. 038         Boulder   \n",
              "4       misc_pos   41.96      M              408 Bradley Rest        Doe Hill   \n",
              "\n",
              "  state    zip  ...      long  city_pop                                job  \\\n",
              "0    NC  28654  ...  -81.1781      3495          Psychologist, counselling   \n",
              "1    WA  99160  ... -118.2105       149  Special educational needs teacher   \n",
              "2    ID  83252  ... -112.2620      4154        Nature conservation officer   \n",
              "3    MT  59632  ... -112.1138      1939                    Patent attorney   \n",
              "4    VA  24433  ...  -79.4629        99     Dance movement psychotherapist   \n",
              "\n",
              "   merch_lat  merch_long  is_fraud  recency  lat_diff  long_diff  displacement  \n",
              "0  36.011293  -82.048315         0     -1.0  0.067507   0.870215     96.011245  \n",
              "1  49.159047 -118.186462         0     -1.0  0.271247   0.024038     29.954105  \n",
              "2  43.150704 -112.154481         0     -1.0  0.969904   0.107519    107.342986  \n",
              "3  47.034331 -112.561071         0     -1.0  0.803731   0.447271    101.178169  \n",
              "4  38.674999  -78.632459         0     -1.0  0.254299   0.830441     95.535506  \n",
              "\n",
              "[5 rows x 21 columns]"
            ]
          },
          "execution_count": 37,
          "metadata": {},
          "output_type": "execute_result"
        }
      ],
      "source": [
        "data.head()"
      ]
    },
    {
      "cell_type": "code",
      "execution_count": null,
      "id": "2dd3b9c3",
      "metadata": {
        "execution": {
          "iopub.execute_input": "2022-03-15T12:08:19.732080Z",
          "iopub.status.busy": "2022-03-15T12:08:19.731416Z",
          "iopub.status.idle": "2022-03-15T12:08:20.679211Z",
          "shell.execute_reply": "2022-03-15T12:08:20.678495Z",
          "shell.execute_reply.started": "2022-03-15T12:00:43.675493Z"
        },
        "id": "2dd3b9c3",
        "outputId": "b3648073-fbeb-49b5-c8bb-89616de0f640",
        "papermill": {
          "duration": 1.164204,
          "end_time": "2022-03-15T12:08:20.679341",
          "exception": false,
          "start_time": "2022-03-15T12:08:19.515137",
          "status": "completed"
        },
        "tags": []
      },
      "outputs": [
        {
          "name": "stdout",
          "output_type": "stream",
          "text": [
            "<class 'pandas.core.frame.DataFrame'>\n",
            "RangeIndex: 1296675 entries, 0 to 1296674\n",
            "Data columns (total 21 columns):\n",
            " #   Column                 Non-Null Count    Dtype         \n",
            "---  ------                 --------------    -----         \n",
            " 0   trans_date_trans_time  1296675 non-null  datetime64[ns]\n",
            " 1   cc_num                 1296675 non-null  int64         \n",
            " 2   merchant               1296675 non-null  object        \n",
            " 3   category               1296675 non-null  object        \n",
            " 4   amt                    1296675 non-null  float64       \n",
            " 5   gender                 1296675 non-null  object        \n",
            " 6   street                 1296675 non-null  object        \n",
            " 7   city                   1296675 non-null  object        \n",
            " 8   state                  1296675 non-null  object        \n",
            " 9   zip                    1296675 non-null  int64         \n",
            " 10  lat                    1296675 non-null  float64       \n",
            " 11  long                   1296675 non-null  float64       \n",
            " 12  city_pop               1296675 non-null  int64         \n",
            " 13  job                    1296675 non-null  object        \n",
            " 14  merch_lat              1296675 non-null  float64       \n",
            " 15  merch_long             1296675 non-null  float64       \n",
            " 16  is_fraud               1296675 non-null  int64         \n",
            " 17  recency                1296675 non-null  float64       \n",
            " 18  lat_diff               1296675 non-null  float64       \n",
            " 19  long_diff              1296675 non-null  float64       \n",
            " 20  displacement           1296675 non-null  float64       \n",
            "dtypes: datetime64[ns](1), float64(9), int64(4), object(7)\n",
            "memory usage: 207.7+ MB\n"
          ]
        }
      ],
      "source": [
        "data.info()"
      ]
    },
    {
      "cell_type": "code",
      "execution_count": null,
      "id": "fbd2196e",
      "metadata": {
        "execution": {
          "iopub.execute_input": "2022-03-15T12:08:21.112045Z",
          "iopub.status.busy": "2022-03-15T12:08:21.110759Z",
          "iopub.status.idle": "2022-03-15T12:08:21.265628Z",
          "shell.execute_reply": "2022-03-15T12:08:21.264983Z",
          "shell.execute_reply.started": "2022-03-15T12:00:44.690090Z"
        },
        "id": "fbd2196e",
        "papermill": {
          "duration": 0.374087,
          "end_time": "2022-03-15T12:08:21.265747",
          "exception": false,
          "start_time": "2022-03-15T12:08:20.891660",
          "status": "completed"
        },
        "tags": []
      },
      "outputs": [],
      "source": [
        "data = data.drop(columns = [\"lat\",\"long\",\"merch_lat\",\"merch_long\",\"lat_diff\",\"long_diff\"])"
      ]
    },
    {
      "cell_type": "code",
      "execution_count": null,
      "id": "ae700050",
      "metadata": {
        "execution": {
          "iopub.execute_input": "2022-03-15T12:08:21.687622Z",
          "iopub.status.busy": "2022-03-15T12:08:21.686647Z",
          "iopub.status.idle": "2022-03-15T12:08:22.614752Z",
          "shell.execute_reply": "2022-03-15T12:08:22.614237Z",
          "shell.execute_reply.started": "2022-03-15T12:00:44.922307Z"
        },
        "id": "ae700050",
        "outputId": "ea6babf4-9cfd-4e70-87f3-f8bd42a5d3bd",
        "papermill": {
          "duration": 1.140594,
          "end_time": "2022-03-15T12:08:22.614882",
          "exception": false,
          "start_time": "2022-03-15T12:08:21.474288",
          "status": "completed"
        },
        "tags": []
      },
      "outputs": [
        {
          "name": "stdout",
          "output_type": "stream",
          "text": [
            "<class 'pandas.core.frame.DataFrame'>\n",
            "RangeIndex: 1296675 entries, 0 to 1296674\n",
            "Data columns (total 15 columns):\n",
            " #   Column                 Non-Null Count    Dtype         \n",
            "---  ------                 --------------    -----         \n",
            " 0   trans_date_trans_time  1296675 non-null  datetime64[ns]\n",
            " 1   cc_num                 1296675 non-null  int64         \n",
            " 2   merchant               1296675 non-null  object        \n",
            " 3   category               1296675 non-null  object        \n",
            " 4   amt                    1296675 non-null  float64       \n",
            " 5   gender                 1296675 non-null  object        \n",
            " 6   street                 1296675 non-null  object        \n",
            " 7   city                   1296675 non-null  object        \n",
            " 8   state                  1296675 non-null  object        \n",
            " 9   zip                    1296675 non-null  int64         \n",
            " 10  city_pop               1296675 non-null  int64         \n",
            " 11  job                    1296675 non-null  object        \n",
            " 12  is_fraud               1296675 non-null  int64         \n",
            " 13  recency                1296675 non-null  float64       \n",
            " 14  displacement           1296675 non-null  float64       \n",
            "dtypes: datetime64[ns](1), float64(3), int64(4), object(7)\n",
            "memory usage: 148.4+ MB\n"
          ]
        }
      ],
      "source": [
        "data.info()"
      ]
    },
    {
      "cell_type": "code",
      "execution_count": null,
      "id": "5b429f0b",
      "metadata": {
        "execution": {
          "iopub.execute_input": "2022-03-15T12:08:23.047597Z",
          "iopub.status.busy": "2022-03-15T12:08:23.046412Z",
          "iopub.status.idle": "2022-03-15T12:08:23.801388Z",
          "shell.execute_reply": "2022-03-15T12:08:23.801905Z",
          "shell.execute_reply.started": "2022-03-15T12:00:45.916718Z"
        },
        "id": "5b429f0b",
        "outputId": "dd19b1aa-43c4-4c47-ae27-b82c38a5425f",
        "papermill": {
          "duration": 0.975581,
          "end_time": "2022-03-15T12:08:23.802089",
          "exception": false,
          "start_time": "2022-03-15T12:08:22.826508",
          "status": "completed"
        },
        "tags": []
      },
      "outputs": [
        {
          "name": "stdout",
          "output_type": "stream",
          "text": [
            "<class 'pandas.core.frame.DataFrame'>\n",
            "RangeIndex: 1296675 entries, 0 to 1296674\n",
            "Data columns (total 12 columns):\n",
            " #   Column                 Non-Null Count    Dtype         \n",
            "---  ------                 --------------    -----         \n",
            " 0   trans_date_trans_time  1296675 non-null  datetime64[ns]\n",
            " 1   cc_num                 1296675 non-null  int64         \n",
            " 2   merchant               1296675 non-null  object        \n",
            " 3   category               1296675 non-null  object        \n",
            " 4   amt                    1296675 non-null  float64       \n",
            " 5   gender                 1296675 non-null  object        \n",
            " 6   state                  1296675 non-null  object        \n",
            " 7   city_pop               1296675 non-null  int64         \n",
            " 8   job                    1296675 non-null  object        \n",
            " 9   is_fraud               1296675 non-null  int64         \n",
            " 10  recency                1296675 non-null  float64       \n",
            " 11  displacement           1296675 non-null  float64       \n",
            "dtypes: datetime64[ns](1), float64(3), int64(3), object(5)\n",
            "memory usage: 118.7+ MB\n"
          ]
        }
      ],
      "source": [
        "data= data.drop(columns = [\"city\",\"zip\",\"street\"])\n",
        "data.info()"
      ]
    },
    {
      "cell_type": "code",
      "execution_count": null,
      "id": "3a4a653d",
      "metadata": {
        "execution": {
          "iopub.execute_input": "2022-03-15T12:08:24.236437Z",
          "iopub.status.busy": "2022-03-15T12:08:24.232913Z",
          "iopub.status.idle": "2022-03-15T12:08:24.290917Z",
          "shell.execute_reply": "2022-03-15T12:08:24.291551Z",
          "shell.execute_reply.started": "2022-03-15T12:00:46.803779Z"
        },
        "id": "3a4a653d",
        "outputId": "5c4515c6-653d-42e6-aa79-b2bdce052b28",
        "papermill": {
          "duration": 0.273442,
          "end_time": "2022-03-15T12:08:24.291717",
          "exception": false,
          "start_time": "2022-03-15T12:08:24.018275",
          "status": "completed"
        },
        "tags": []
      },
      "outputs": [
        {
          "data": {
            "text/plain": [
              "count    1.296675e+06\n",
              "mean     8.422272e+01\n",
              "std      3.132233e+01\n",
              "min      2.625292e-02\n",
              "25%      6.214537e+01\n",
              "50%      8.781422e+01\n",
              "75%      1.075289e+02\n",
              "max      1.554701e+02\n",
              "Name: displacement, dtype: float64"
            ]
          },
          "execution_count": 42,
          "metadata": {},
          "output_type": "execute_result"
        }
      ],
      "source": [
        "data.displacement.describe()"
      ]
    },
    {
      "cell_type": "code",
      "execution_count": null,
      "id": "2cce9c3e",
      "metadata": {
        "execution": {
          "iopub.execute_input": "2022-03-15T12:08:24.733312Z",
          "iopub.status.busy": "2022-03-15T12:08:24.732558Z",
          "iopub.status.idle": "2022-03-15T12:08:24.825244Z",
          "shell.execute_reply": "2022-03-15T12:08:24.824662Z",
          "shell.execute_reply.started": "2022-03-15T12:00:46.865432Z"
        },
        "id": "2cce9c3e",
        "papermill": {
          "duration": 0.310847,
          "end_time": "2022-03-15T12:08:24.825420",
          "exception": false,
          "start_time": "2022-03-15T12:08:24.514573",
          "status": "completed"
        },
        "tags": []
      },
      "outputs": [],
      "source": [
        "data.loc[(data[\"displacement\"]<45),[\"location\"]] = \"Nearby\""
      ]
    },
    {
      "cell_type": "code",
      "execution_count": null,
      "id": "750cea36",
      "metadata": {
        "execution": {
          "iopub.execute_input": "2022-03-15T12:08:25.263460Z",
          "iopub.status.busy": "2022-03-15T12:08:25.262509Z",
          "iopub.status.idle": "2022-03-15T12:08:26.187301Z",
          "shell.execute_reply": "2022-03-15T12:08:26.186742Z",
          "shell.execute_reply.started": "2022-03-15T12:00:46.979339Z"
        },
        "id": "750cea36",
        "outputId": "e71a47b0-8092-43cf-ee88-875d49961bb4",
        "papermill": {
          "duration": 1.14707,
          "end_time": "2022-03-15T12:08:26.187442",
          "exception": false,
          "start_time": "2022-03-15T12:08:25.040372",
          "status": "completed"
        },
        "tags": []
      },
      "outputs": [
        {
          "name": "stdout",
          "output_type": "stream",
          "text": [
            "<class 'pandas.core.frame.DataFrame'>\n",
            "RangeIndex: 1296675 entries, 0 to 1296674\n",
            "Data columns (total 13 columns):\n",
            " #   Column                 Non-Null Count    Dtype         \n",
            "---  ------                 --------------    -----         \n",
            " 0   trans_date_trans_time  1296675 non-null  datetime64[ns]\n",
            " 1   cc_num                 1296675 non-null  int64         \n",
            " 2   merchant               1296675 non-null  object        \n",
            " 3   category               1296675 non-null  object        \n",
            " 4   amt                    1296675 non-null  float64       \n",
            " 5   gender                 1296675 non-null  object        \n",
            " 6   state                  1296675 non-null  object        \n",
            " 7   city_pop               1296675 non-null  int64         \n",
            " 8   job                    1296675 non-null  object        \n",
            " 9   is_fraud               1296675 non-null  int64         \n",
            " 10  recency                1296675 non-null  float64       \n",
            " 11  displacement           1296675 non-null  float64       \n",
            " 12  location               1296675 non-null  object        \n",
            "dtypes: datetime64[ns](1), float64(3), int64(3), object(6)\n",
            "memory usage: 128.6+ MB\n"
          ]
        }
      ],
      "source": [
        "data.loc[((data[\"displacement\"]>45) & (data[\"displacement\"]<90)),[\"location\"]] = \"Far Away\"\n",
        "data.loc[(data[\"displacement\"]>90),[\"location\"]] = \"Long Distance\"\n",
        "data.info()"
      ]
    },
    {
      "cell_type": "code",
      "execution_count": null,
      "id": "d8114138",
      "metadata": {
        "execution": {
          "iopub.execute_input": "2022-03-15T12:08:26.638872Z",
          "iopub.status.busy": "2022-03-15T12:08:26.638258Z",
          "iopub.status.idle": "2022-03-15T12:08:26.789667Z",
          "shell.execute_reply": "2022-03-15T12:08:26.789022Z",
          "shell.execute_reply.started": "2022-03-15T12:00:48.011594Z"
        },
        "id": "d8114138",
        "outputId": "4fc53904-36fb-4eb5-f61f-06d86cc63e14",
        "papermill": {
          "duration": 0.377293,
          "end_time": "2022-03-15T12:08:26.789815",
          "exception": false,
          "start_time": "2022-03-15T12:08:26.412522",
          "status": "completed"
        },
        "tags": []
      },
      "outputs": [
        {
          "data": {
            "text/plain": [
              "Long Distance    0.474771\n",
              "Far Away         0.394164\n",
              "Nearby           0.131064\n",
              "Name: location, dtype: float64"
            ]
          },
          "execution_count": 45,
          "metadata": {},
          "output_type": "execute_result"
        }
      ],
      "source": [
        "data.location.value_counts(normalize = True)"
      ]
    },
    {
      "cell_type": "code",
      "execution_count": null,
      "id": "257edb99",
      "metadata": {
        "execution": {
          "iopub.execute_input": "2022-03-15T12:08:27.263511Z",
          "iopub.status.busy": "2022-03-15T12:08:27.262880Z",
          "iopub.status.idle": "2022-03-15T12:08:28.088086Z",
          "shell.execute_reply": "2022-03-15T12:08:28.088561Z",
          "shell.execute_reply.started": "2022-03-15T12:00:48.167575Z"
        },
        "id": "257edb99",
        "papermill": {
          "duration": 1.07637,
          "end_time": "2022-03-15T12:08:28.088716",
          "exception": false,
          "start_time": "2022-03-15T12:08:27.012346",
          "status": "completed"
        },
        "tags": []
      },
      "outputs": [],
      "source": [
        "data[\"Time\"] = pd.to_datetime(data[\"trans_date_trans_time\"],\"%H:%M\").dt.time"
      ]
    },
    {
      "cell_type": "code",
      "execution_count": null,
      "id": "f062ffb1",
      "metadata": {
        "execution": {
          "iopub.execute_input": "2022-03-15T12:08:28.516935Z",
          "iopub.status.busy": "2022-03-15T12:08:28.516319Z",
          "iopub.status.idle": "2022-03-15T12:08:28.530717Z",
          "shell.execute_reply": "2022-03-15T12:08:28.531257Z",
          "shell.execute_reply.started": "2022-03-15T12:00:49.106341Z"
        },
        "id": "f062ffb1",
        "outputId": "f5a66755-c4f5-4694-8d74-c099a963de1a",
        "papermill": {
          "duration": 0.229526,
          "end_time": "2022-03-15T12:08:28.531404",
          "exception": false,
          "start_time": "2022-03-15T12:08:28.301878",
          "status": "completed"
        },
        "tags": []
      },
      "outputs": [
        {
          "data": {
            "text/html": [
              "<div>\n",
              "<style scoped>\n",
              "    .dataframe tbody tr th:only-of-type {\n",
              "        vertical-align: middle;\n",
              "    }\n",
              "\n",
              "    .dataframe tbody tr th {\n",
              "        vertical-align: top;\n",
              "    }\n",
              "\n",
              "    .dataframe thead th {\n",
              "        text-align: right;\n",
              "    }\n",
              "</style>\n",
              "<table border=\"1\" class=\"dataframe\">\n",
              "  <thead>\n",
              "    <tr style=\"text-align: right;\">\n",
              "      <th></th>\n",
              "      <th>trans_date_trans_time</th>\n",
              "      <th>cc_num</th>\n",
              "      <th>merchant</th>\n",
              "      <th>category</th>\n",
              "      <th>amt</th>\n",
              "      <th>gender</th>\n",
              "      <th>state</th>\n",
              "      <th>city_pop</th>\n",
              "      <th>job</th>\n",
              "      <th>is_fraud</th>\n",
              "      <th>recency</th>\n",
              "      <th>displacement</th>\n",
              "      <th>location</th>\n",
              "      <th>Time</th>\n",
              "    </tr>\n",
              "  </thead>\n",
              "  <tbody>\n",
              "    <tr>\n",
              "      <th>0</th>\n",
              "      <td>2019-01-01 00:00:18</td>\n",
              "      <td>2703186189652095</td>\n",
              "      <td>fraud_Rippin, Kub and Mann</td>\n",
              "      <td>misc_net</td>\n",
              "      <td>4.97</td>\n",
              "      <td>F</td>\n",
              "      <td>NC</td>\n",
              "      <td>3495</td>\n",
              "      <td>Psychologist, counselling</td>\n",
              "      <td>0</td>\n",
              "      <td>-1.0</td>\n",
              "      <td>96.011245</td>\n",
              "      <td>Long Distance</td>\n",
              "      <td>00:00:18</td>\n",
              "    </tr>\n",
              "    <tr>\n",
              "      <th>1</th>\n",
              "      <td>2019-01-01 00:00:44</td>\n",
              "      <td>630423337322</td>\n",
              "      <td>fraud_Heller, Gutmann and Zieme</td>\n",
              "      <td>grocery_pos</td>\n",
              "      <td>107.23</td>\n",
              "      <td>F</td>\n",
              "      <td>WA</td>\n",
              "      <td>149</td>\n",
              "      <td>Special educational needs teacher</td>\n",
              "      <td>0</td>\n",
              "      <td>-1.0</td>\n",
              "      <td>29.954105</td>\n",
              "      <td>Nearby</td>\n",
              "      <td>00:00:44</td>\n",
              "    </tr>\n",
              "    <tr>\n",
              "      <th>2</th>\n",
              "      <td>2019-01-01 00:00:51</td>\n",
              "      <td>38859492057661</td>\n",
              "      <td>fraud_Lind-Buckridge</td>\n",
              "      <td>entertainment</td>\n",
              "      <td>220.11</td>\n",
              "      <td>M</td>\n",
              "      <td>ID</td>\n",
              "      <td>4154</td>\n",
              "      <td>Nature conservation officer</td>\n",
              "      <td>0</td>\n",
              "      <td>-1.0</td>\n",
              "      <td>107.342986</td>\n",
              "      <td>Long Distance</td>\n",
              "      <td>00:00:51</td>\n",
              "    </tr>\n",
              "    <tr>\n",
              "      <th>3</th>\n",
              "      <td>2019-01-01 00:01:16</td>\n",
              "      <td>3534093764340240</td>\n",
              "      <td>fraud_Kutch, Hermiston and Farrell</td>\n",
              "      <td>gas_transport</td>\n",
              "      <td>45.00</td>\n",
              "      <td>M</td>\n",
              "      <td>MT</td>\n",
              "      <td>1939</td>\n",
              "      <td>Patent attorney</td>\n",
              "      <td>0</td>\n",
              "      <td>-1.0</td>\n",
              "      <td>101.178169</td>\n",
              "      <td>Long Distance</td>\n",
              "      <td>00:01:16</td>\n",
              "    </tr>\n",
              "    <tr>\n",
              "      <th>4</th>\n",
              "      <td>2019-01-01 00:03:06</td>\n",
              "      <td>375534208663984</td>\n",
              "      <td>fraud_Keeling-Crist</td>\n",
              "      <td>misc_pos</td>\n",
              "      <td>41.96</td>\n",
              "      <td>M</td>\n",
              "      <td>VA</td>\n",
              "      <td>99</td>\n",
              "      <td>Dance movement psychotherapist</td>\n",
              "      <td>0</td>\n",
              "      <td>-1.0</td>\n",
              "      <td>95.535506</td>\n",
              "      <td>Long Distance</td>\n",
              "      <td>00:03:06</td>\n",
              "    </tr>\n",
              "  </tbody>\n",
              "</table>\n",
              "</div>"
            ],
            "text/plain": [
              "  trans_date_trans_time            cc_num                            merchant  \\\n",
              "0   2019-01-01 00:00:18  2703186189652095          fraud_Rippin, Kub and Mann   \n",
              "1   2019-01-01 00:00:44      630423337322     fraud_Heller, Gutmann and Zieme   \n",
              "2   2019-01-01 00:00:51    38859492057661                fraud_Lind-Buckridge   \n",
              "3   2019-01-01 00:01:16  3534093764340240  fraud_Kutch, Hermiston and Farrell   \n",
              "4   2019-01-01 00:03:06   375534208663984                 fraud_Keeling-Crist   \n",
              "\n",
              "        category     amt gender state  city_pop  \\\n",
              "0       misc_net    4.97      F    NC      3495   \n",
              "1    grocery_pos  107.23      F    WA       149   \n",
              "2  entertainment  220.11      M    ID      4154   \n",
              "3  gas_transport   45.00      M    MT      1939   \n",
              "4       misc_pos   41.96      M    VA        99   \n",
              "\n",
              "                                 job  is_fraud  recency  displacement  \\\n",
              "0          Psychologist, counselling         0     -1.0     96.011245   \n",
              "1  Special educational needs teacher         0     -1.0     29.954105   \n",
              "2        Nature conservation officer         0     -1.0    107.342986   \n",
              "3                    Patent attorney         0     -1.0    101.178169   \n",
              "4     Dance movement psychotherapist         0     -1.0     95.535506   \n",
              "\n",
              "        location      Time  \n",
              "0  Long Distance  00:00:18  \n",
              "1         Nearby  00:00:44  \n",
              "2  Long Distance  00:00:51  \n",
              "3  Long Distance  00:01:16  \n",
              "4  Long Distance  00:03:06  "
            ]
          },
          "execution_count": 47,
          "metadata": {},
          "output_type": "execute_result"
        }
      ],
      "source": [
        "data.head()"
      ]
    },
    {
      "cell_type": "code",
      "execution_count": null,
      "id": "27736d22",
      "metadata": {
        "execution": {
          "iopub.execute_input": "2022-03-15T12:08:28.989460Z",
          "iopub.status.busy": "2022-03-15T12:08:28.987789Z",
          "iopub.status.idle": "2022-03-15T12:08:29.110005Z",
          "shell.execute_reply": "2022-03-15T12:08:29.109412Z",
          "shell.execute_reply.started": "2022-03-15T12:00:49.126574Z"
        },
        "id": "27736d22",
        "papermill": {
          "duration": 0.362411,
          "end_time": "2022-03-15T12:08:29.110141",
          "exception": false,
          "start_time": "2022-03-15T12:08:28.747730",
          "status": "completed"
        },
        "tags": []
      },
      "outputs": [],
      "source": [
        "data[\"Time\"] = pd.to_datetime(data[\"trans_date_trans_time\"]).dt.hour"
      ]
    },
    {
      "cell_type": "code",
      "execution_count": null,
      "id": "e448fd54",
      "metadata": {
        "execution": {
          "iopub.execute_input": "2022-03-15T12:08:29.539296Z",
          "iopub.status.busy": "2022-03-15T12:08:29.538327Z",
          "iopub.status.idle": "2022-03-15T12:08:29.770141Z",
          "shell.execute_reply": "2022-03-15T12:08:29.770634Z",
          "shell.execute_reply.started": "2022-03-15T12:00:49.278086Z"
        },
        "id": "e448fd54",
        "papermill": {
          "duration": 0.448025,
          "end_time": "2022-03-15T12:08:29.770809",
          "exception": false,
          "start_time": "2022-03-15T12:08:29.322784",
          "status": "completed"
        },
        "tags": []
      },
      "outputs": [],
      "source": [
        "data.loc[(data[\"city_pop\"]<10000),[\"city_pop_segment\"]] = \"Less Dense\"\n",
        "data.loc[((data[\"city_pop\"]>10000) & (data[\"city_pop\"]<50000)),[\"city_pop_segment\"]] = \"Adequately Dense\"\n",
        "data.loc[(data[\"city_pop\"]>50000),[\"city_pop_segment\"]] = \"Densely populated\""
      ]
    },
    {
      "cell_type": "code",
      "execution_count": null,
      "id": "5b892aca",
      "metadata": {
        "execution": {
          "iopub.execute_input": "2022-03-15T12:08:30.199913Z",
          "iopub.status.busy": "2022-03-15T12:08:30.199297Z",
          "iopub.status.idle": "2022-03-15T12:08:30.342076Z",
          "shell.execute_reply": "2022-03-15T12:08:30.341574Z",
          "shell.execute_reply.started": "2022-03-15T12:00:49.597805Z"
        },
        "id": "5b892aca",
        "outputId": "de710e3d-493e-4d68-a196-ae4544d01943",
        "papermill": {
          "duration": 0.360219,
          "end_time": "2022-03-15T12:08:30.342224",
          "exception": false,
          "start_time": "2022-03-15T12:08:29.982005",
          "status": "completed"
        },
        "tags": []
      },
      "outputs": [
        {
          "data": {
            "text/plain": [
              "Less Dense           0.699953\n",
              "Densely populated    0.187151\n",
              "Adequately Dense     0.112896\n",
              "Name: city_pop_segment, dtype: float64"
            ]
          },
          "execution_count": 50,
          "metadata": {},
          "output_type": "execute_result"
        }
      ],
      "source": [
        "data.city_pop_segment.value_counts(normalize = True)"
      ]
    },
    {
      "cell_type": "code",
      "execution_count": null,
      "id": "e48f38a1",
      "metadata": {
        "execution": {
          "iopub.execute_input": "2022-03-15T12:08:30.786209Z",
          "iopub.status.busy": "2022-03-15T12:08:30.785532Z",
          "iopub.status.idle": "2022-03-15T12:08:31.184904Z",
          "shell.execute_reply": "2022-03-15T12:08:31.185424Z",
          "shell.execute_reply.started": "2022-03-15T12:00:49.753632Z"
        },
        "id": "e48f38a1",
        "papermill": {
          "duration": 0.621845,
          "end_time": "2022-03-15T12:08:31.185589",
          "exception": false,
          "start_time": "2022-03-15T12:08:30.563744",
          "status": "completed"
        },
        "tags": []
      },
      "outputs": [],
      "source": [
        "data = data.drop(\"city_pop\",1)"
      ]
    },
    {
      "cell_type": "code",
      "execution_count": null,
      "id": "24895e3b",
      "metadata": {
        "execution": {
          "iopub.execute_input": "2022-03-15T12:08:31.693380Z",
          "iopub.status.busy": "2022-03-15T12:08:31.692421Z",
          "iopub.status.idle": "2022-03-15T12:08:32.353878Z",
          "shell.execute_reply": "2022-03-15T12:08:32.353230Z",
          "shell.execute_reply.started": "2022-03-15T12:00:50.290985Z"
        },
        "id": "24895e3b",
        "papermill": {
          "duration": 0.947971,
          "end_time": "2022-03-15T12:08:32.354049",
          "exception": false,
          "start_time": "2022-03-15T12:08:31.406078",
          "status": "completed"
        },
        "tags": []
      },
      "outputs": [],
      "source": [
        "data.recency = data.recency.apply(lambda x: float((x/60)/60))"
      ]
    },
    {
      "cell_type": "code",
      "execution_count": null,
      "id": "05785fac",
      "metadata": {
        "execution": {
          "iopub.execute_input": "2022-03-15T12:08:32.804743Z",
          "iopub.status.busy": "2022-03-15T12:08:32.804118Z",
          "iopub.status.idle": "2022-03-15T12:08:33.287714Z",
          "shell.execute_reply": "2022-03-15T12:08:33.286809Z",
          "shell.execute_reply.started": "2022-03-15T12:00:51.072841Z"
        },
        "id": "05785fac",
        "outputId": "a1ef89b1-33a1-4d0b-ebfb-aa2f822d4a08",
        "papermill": {
          "duration": 0.712729,
          "end_time": "2022-03-15T12:08:33.287849",
          "exception": false,
          "start_time": "2022-03-15T12:08:32.575120",
          "status": "completed"
        },
        "tags": []
      },
      "outputs": [
        {
          "data": {
            "text/plain": [
              "Within 6 hours        0.411834\n",
              "After 6 hours         0.191659\n",
              "Recent_Transaction    0.163714\n",
              "After Half-Day        0.148911\n",
              "After 24 hours        0.083124\n",
              "First Transaction     0.000758\n",
              "Name: recency_segment, dtype: float64"
            ]
          },
          "execution_count": 53,
          "metadata": {},
          "output_type": "execute_result"
        }
      ],
      "source": [
        "data.loc[(data[\"recency\"]<1),[\"recency_segment\"]] = \"Recent_Transaction\"\n",
        "data.loc[((data[\"recency\"]>1) & (data[\"recency\"]<6)),[\"recency_segment\"]] = \"Within 6 hours\"\n",
        "data.loc[((data[\"recency\"]>6) & (data[\"recency\"]<12)),[\"recency_segment\"]] = \"After 6 hours\"\n",
        "data.loc[((data[\"recency\"]>12) & (data[\"recency\"]<24)),[\"recency_segment\"]] = \"After Half-Day\"\n",
        "data.loc[(data[\"recency\"]>24),[\"recency_segment\"]] = \"After 24 hours\"\n",
        "data.loc[(data[\"recency\"]<0),[\"recency_segment\"]] = \"First Transaction\"\n",
        "data.recency_segment.value_counts(normalize = True)"
      ]
    },
    {
      "cell_type": "code",
      "execution_count": null,
      "id": "49db39c1",
      "metadata": {
        "execution": {
          "iopub.execute_input": "2022-03-15T12:08:33.906494Z",
          "iopub.status.busy": "2022-03-15T12:08:33.904331Z",
          "iopub.status.idle": "2022-03-15T12:08:33.910136Z",
          "shell.execute_reply": "2022-03-15T12:08:33.910563Z",
          "shell.execute_reply.started": "2022-03-15T12:00:51.611905Z"
        },
        "id": "49db39c1",
        "outputId": "d7cbe596-9ef4-4f27-9612-ec9695c227f5",
        "papermill": {
          "duration": 0.408389,
          "end_time": "2022-03-15T12:08:33.910737",
          "exception": false,
          "start_time": "2022-03-15T12:08:33.502348",
          "status": "completed"
        },
        "tags": []
      },
      "outputs": [
        {
          "data": {
            "text/plain": [
              "gas_transport     131659\n",
              "grocery_pos       123638\n",
              "home              123115\n",
              "shopping_pos      116672\n",
              "kids_pets         113035\n",
              "shopping_net       97543\n",
              "entertainment      94014\n",
              "food_dining        91461\n",
              "personal_care      90758\n",
              "health_fitness     85879\n",
              "misc_pos           79655\n",
              "misc_net           63287\n",
              "grocery_net        45452\n",
              "travel             40507\n",
              "Name: category, dtype: int64"
            ]
          },
          "execution_count": 54,
          "metadata": {},
          "output_type": "execute_result"
        }
      ],
      "source": [
        "data.category.value_counts()"
      ]
    },
    {
      "cell_type": "code",
      "execution_count": null,
      "id": "a542a4ad",
      "metadata": {
        "execution": {
          "iopub.execute_input": "2022-03-15T12:08:34.340133Z",
          "iopub.status.busy": "2022-03-15T12:08:34.339516Z",
          "iopub.status.idle": "2022-03-15T12:08:34.538040Z",
          "shell.execute_reply": "2022-03-15T12:08:34.538624Z",
          "shell.execute_reply.started": "2022-03-15T12:00:51.825732Z"
        },
        "id": "a542a4ad",
        "outputId": "5281ce7b-dc02-4843-cc6e-8d12660f8bbc",
        "papermill": {
          "duration": 0.412802,
          "end_time": "2022-03-15T12:08:34.538808",
          "exception": false,
          "start_time": "2022-03-15T12:08:34.126006",
          "status": "completed"
        },
        "tags": []
      },
      "outputs": [
        {
          "data": {
            "text/plain": [
              "fraud_Kilback LLC                       4403\n",
              "fraud_Cormier LLC                       3649\n",
              "fraud_Schumm PLC                        3634\n",
              "fraud_Kuhn LLC                          3510\n",
              "fraud_Boyer PLC                         3493\n",
              "                                        ... \n",
              "fraud_Douglas, DuBuque and McKenzie      775\n",
              "fraud_Treutel-King                       775\n",
              "fraud_Medhurst, Labadie and Gottlieb     759\n",
              "fraud_Reichert-Weissnat                  753\n",
              "fraud_Hahn, Douglas and Schowalter       727\n",
              "Name: merchant, Length: 693, dtype: int64"
            ]
          },
          "execution_count": 55,
          "metadata": {},
          "output_type": "execute_result"
        }
      ],
      "source": [
        "data.merchant.value_counts()"
      ]
    },
    {
      "cell_type": "code",
      "execution_count": null,
      "id": "3decc6c6",
      "metadata": {
        "execution": {
          "iopub.execute_input": "2022-03-15T12:08:34.968221Z",
          "iopub.status.busy": "2022-03-15T12:08:34.967613Z",
          "iopub.status.idle": "2022-03-15T12:08:34.973398Z",
          "shell.execute_reply": "2022-03-15T12:08:34.972885Z",
          "shell.execute_reply.started": "2022-03-15T12:00:52.050357Z"
        },
        "id": "3decc6c6",
        "outputId": "56754ca2-809b-42b5-babc-c962fc510922",
        "papermill": {
          "duration": 0.221359,
          "end_time": "2022-03-15T12:08:34.973514",
          "exception": false,
          "start_time": "2022-03-15T12:08:34.752155",
          "status": "completed"
        },
        "tags": []
      },
      "outputs": [
        {
          "data": {
            "text/plain": [
              "Index(['trans_date_trans_time', 'cc_num', 'merchant', 'category', 'amt',\n",
              "       'gender', 'state', 'job', 'is_fraud', 'recency', 'displacement',\n",
              "       'location', 'Time', 'city_pop_segment', 'recency_segment'],\n",
              "      dtype='object')"
            ]
          },
          "execution_count": 56,
          "metadata": {},
          "output_type": "execute_result"
        }
      ],
      "source": [
        "data.columns"
      ]
    },
    {
      "cell_type": "code",
      "execution_count": null,
      "id": "cddf4af1",
      "metadata": {
        "execution": {
          "iopub.execute_input": "2022-03-15T12:08:35.909425Z",
          "iopub.status.busy": "2022-03-15T12:08:35.908592Z",
          "iopub.status.idle": "2022-03-15T12:08:36.002060Z",
          "shell.execute_reply": "2022-03-15T12:08:36.002618Z",
          "shell.execute_reply.started": "2022-03-15T12:00:52.058195Z"
        },
        "id": "cddf4af1",
        "papermill": {
          "duration": 0.337848,
          "end_time": "2022-03-15T12:08:36.002774",
          "exception": false,
          "start_time": "2022-03-15T12:08:35.664926",
          "status": "completed"
        },
        "tags": []
      },
      "outputs": [],
      "source": [
        "data_t = data_t.drop(\"trans_num\",1)"
      ]
    },
    {
      "cell_type": "code",
      "execution_count": null,
      "id": "656f9296",
      "metadata": {
        "execution": {
          "iopub.execute_input": "2022-03-15T12:08:36.443563Z",
          "iopub.status.busy": "2022-03-15T12:08:36.442555Z",
          "iopub.status.idle": "2022-03-15T12:08:36.523065Z",
          "shell.execute_reply": "2022-03-15T12:08:36.523613Z",
          "shell.execute_reply.started": "2022-03-15T12:00:52.197013Z"
        },
        "id": "656f9296",
        "papermill": {
          "duration": 0.300157,
          "end_time": "2022-03-15T12:08:36.523779",
          "exception": false,
          "start_time": "2022-03-15T12:08:36.223622",
          "status": "completed"
        },
        "tags": []
      },
      "outputs": [],
      "source": [
        "data_t = data_t.drop(columns=[\"first\",\"last\"])"
      ]
    },
    {
      "cell_type": "code",
      "execution_count": null,
      "id": "bb6148f0",
      "metadata": {
        "execution": {
          "iopub.execute_input": "2022-03-15T12:08:36.963786Z",
          "iopub.status.busy": "2022-03-15T12:08:36.963210Z",
          "iopub.status.idle": "2022-03-15T12:08:37.249415Z",
          "shell.execute_reply": "2022-03-15T12:08:37.248768Z",
          "shell.execute_reply.started": "2022-03-15T12:00:52.287512Z"
        },
        "id": "bb6148f0",
        "papermill": {
          "duration": 0.505779,
          "end_time": "2022-03-15T12:08:37.249602",
          "exception": false,
          "start_time": "2022-03-15T12:08:36.743823",
          "status": "completed"
        },
        "tags": []
      },
      "outputs": [],
      "source": [
        "data_t[\"recency\"] = data_t.groupby(by=\"cc_num\")[\"unix_time\"].diff()"
      ]
    },
    {
      "cell_type": "code",
      "execution_count": null,
      "id": "e6be3ff2",
      "metadata": {
        "execution": {
          "iopub.execute_input": "2022-03-15T12:08:37.694873Z",
          "iopub.status.busy": "2022-03-15T12:08:37.694335Z",
          "iopub.status.idle": "2022-03-15T12:08:37.702228Z",
          "shell.execute_reply": "2022-03-15T12:08:37.702759Z",
          "shell.execute_reply.started": "2022-03-15T12:00:52.654922Z"
        },
        "id": "e6be3ff2",
        "papermill": {
          "duration": 0.226773,
          "end_time": "2022-03-15T12:08:37.702904",
          "exception": false,
          "start_time": "2022-03-15T12:08:37.476131",
          "status": "completed"
        },
        "tags": []
      },
      "outputs": [],
      "source": [
        "data_t.loc[data_t.recency.isnull(),[\"recency\"]] = -1"
      ]
    },
    {
      "cell_type": "code",
      "execution_count": null,
      "id": "b348b039",
      "metadata": {
        "execution": {
          "iopub.execute_input": "2022-03-15T12:08:38.133035Z",
          "iopub.status.busy": "2022-03-15T12:08:38.132474Z",
          "iopub.status.idle": "2022-03-15T12:08:38.343974Z",
          "shell.execute_reply": "2022-03-15T12:08:38.344460Z",
          "shell.execute_reply.started": "2022-03-15T12:00:52.668475Z"
        },
        "id": "b348b039",
        "papermill": {
          "duration": 0.42529,
          "end_time": "2022-03-15T12:08:38.344624",
          "exception": false,
          "start_time": "2022-03-15T12:08:37.919334",
          "status": "completed"
        },
        "tags": []
      },
      "outputs": [],
      "source": [
        "data_t[\"trans_date_trans_time\"] = pd.to_datetime(data_t[\"trans_date_trans_time\"])"
      ]
    },
    {
      "cell_type": "code",
      "execution_count": null,
      "id": "3382762b",
      "metadata": {
        "execution": {
          "iopub.execute_input": "2022-03-15T12:08:38.781922Z",
          "iopub.status.busy": "2022-03-15T12:08:38.781329Z",
          "iopub.status.idle": "2022-03-15T12:08:38.853883Z",
          "shell.execute_reply": "2022-03-15T12:08:38.854347Z",
          "shell.execute_reply.started": "2022-03-15T12:00:52.952756Z"
        },
        "id": "3382762b",
        "papermill": {
          "duration": 0.291518,
          "end_time": "2022-03-15T12:08:38.854542",
          "exception": false,
          "start_time": "2022-03-15T12:08:38.563024",
          "status": "completed"
        },
        "tags": []
      },
      "outputs": [],
      "source": [
        "data_t= data_t.drop(\"unix_time\",1)"
      ]
    },
    {
      "cell_type": "code",
      "execution_count": null,
      "id": "9f51ecb2",
      "metadata": {
        "execution": {
          "iopub.execute_input": "2022-03-15T12:08:39.291668Z",
          "iopub.status.busy": "2022-03-15T12:08:39.291105Z",
          "iopub.status.idle": "2022-03-15T12:08:39.337176Z",
          "shell.execute_reply": "2022-03-15T12:08:39.336625Z",
          "shell.execute_reply.started": "2022-03-15T12:00:53.029397Z"
        },
        "id": "9f51ecb2",
        "papermill": {
          "duration": 0.266898,
          "end_time": "2022-03-15T12:08:39.337326",
          "exception": false,
          "start_time": "2022-03-15T12:08:39.070428",
          "status": "completed"
        },
        "tags": []
      },
      "outputs": [],
      "source": [
        "data_t = data_t.drop(columns=[\"Unnamed: 0\"])"
      ]
    },
    {
      "cell_type": "code",
      "execution_count": null,
      "id": "f3303bb3",
      "metadata": {
        "execution": {
          "iopub.execute_input": "2022-03-15T12:08:39.775464Z",
          "iopub.status.busy": "2022-03-15T12:08:39.774667Z",
          "iopub.status.idle": "2022-03-15T12:08:39.820008Z",
          "shell.execute_reply": "2022-03-15T12:08:39.820495Z",
          "shell.execute_reply.started": "2022-03-15T12:00:53.095899Z"
        },
        "id": "f3303bb3",
        "papermill": {
          "duration": 0.26296,
          "end_time": "2022-03-15T12:08:39.820697",
          "exception": false,
          "start_time": "2022-03-15T12:08:39.557737",
          "status": "completed"
        },
        "tags": []
      },
      "outputs": [],
      "source": [
        "data_t = data_t.drop(\"dob\",1)"
      ]
    },
    {
      "cell_type": "code",
      "execution_count": null,
      "id": "eab2460c",
      "metadata": {
        "execution": {
          "iopub.execute_input": "2022-03-15T12:08:40.257608Z",
          "iopub.status.busy": "2022-03-15T12:08:40.257031Z",
          "iopub.status.idle": "2022-03-15T12:08:40.267732Z",
          "shell.execute_reply": "2022-03-15T12:08:40.268342Z",
          "shell.execute_reply.started": "2022-03-15T12:00:53.146290Z"
        },
        "id": "eab2460c",
        "papermill": {
          "duration": 0.231278,
          "end_time": "2022-03-15T12:08:40.268497",
          "exception": false,
          "start_time": "2022-03-15T12:08:40.037219",
          "status": "completed"
        },
        "tags": []
      },
      "outputs": [],
      "source": [
        "data_t[\"lat_diff\"] = abs(data_t.lat - data_t.merch_lat)\n",
        "data_t[\"long_diff\"] = abs(data_t[\"long\"] - data_t[\"merch_long\"])"
      ]
    },
    {
      "cell_type": "code",
      "execution_count": null,
      "id": "0de5acde",
      "metadata": {
        "execution": {
          "iopub.execute_input": "2022-03-15T12:08:40.710351Z",
          "iopub.status.busy": "2022-03-15T12:08:40.709720Z",
          "iopub.status.idle": "2022-03-15T12:08:40.717086Z",
          "shell.execute_reply": "2022-03-15T12:08:40.717617Z",
          "shell.execute_reply.started": "2022-03-15T12:00:53.160554Z"
        },
        "id": "0de5acde",
        "papermill": {
          "duration": 0.233042,
          "end_time": "2022-03-15T12:08:40.717781",
          "exception": false,
          "start_time": "2022-03-15T12:08:40.484739",
          "status": "completed"
        },
        "tags": []
      },
      "outputs": [],
      "source": [
        "data_t[\"displacement\"] = np.sqrt(pow((data_t[\"lat_diff\"]*110),2) + pow((data_t[\"long_diff\"]*110),2))"
      ]
    },
    {
      "cell_type": "code",
      "execution_count": null,
      "id": "45e28e04",
      "metadata": {
        "execution": {
          "iopub.execute_input": "2022-03-15T12:08:41.158869Z",
          "iopub.status.busy": "2022-03-15T12:08:41.155628Z",
          "iopub.status.idle": "2022-03-15T12:08:41.224264Z",
          "shell.execute_reply": "2022-03-15T12:08:41.223657Z",
          "shell.execute_reply.started": "2022-03-15T12:00:53.174852Z"
        },
        "id": "45e28e04",
        "papermill": {
          "duration": 0.291763,
          "end_time": "2022-03-15T12:08:41.224400",
          "exception": false,
          "start_time": "2022-03-15T12:08:40.932637",
          "status": "completed"
        },
        "tags": []
      },
      "outputs": [],
      "source": [
        "data_t = data_t.drop(columns = [\"lat\",\"long\",\"merch_lat\",\"merch_long\",\"lat_diff\",\"long_diff\"])"
      ]
    },
    {
      "cell_type": "code",
      "execution_count": null,
      "id": "bf4598ee",
      "metadata": {
        "execution": {
          "iopub.execute_input": "2022-03-15T12:08:41.668049Z",
          "iopub.status.busy": "2022-03-15T12:08:41.667404Z",
          "iopub.status.idle": "2022-03-15T12:08:41.699042Z",
          "shell.execute_reply": "2022-03-15T12:08:41.699462Z",
          "shell.execute_reply.started": "2022-03-15T12:00:53.292029Z"
        },
        "id": "bf4598ee",
        "papermill": {
          "duration": 0.25819,
          "end_time": "2022-03-15T12:08:41.699641",
          "exception": false,
          "start_time": "2022-03-15T12:08:41.441451",
          "status": "completed"
        },
        "tags": []
      },
      "outputs": [],
      "source": [
        "data_t= data_t.drop(columns = [\"city\",\"zip\",\"street\"])"
      ]
    },
    {
      "cell_type": "code",
      "execution_count": null,
      "id": "6ec7f7b0",
      "metadata": {
        "execution": {
          "iopub.execute_input": "2022-03-15T12:08:42.144701Z",
          "iopub.status.busy": "2022-03-15T12:08:42.144010Z",
          "iopub.status.idle": "2022-03-15T12:08:42.176839Z",
          "shell.execute_reply": "2022-03-15T12:08:42.177329Z",
          "shell.execute_reply.started": "2022-03-15T12:00:53.332092Z"
        },
        "id": "6ec7f7b0",
        "papermill": {
          "duration": 0.258899,
          "end_time": "2022-03-15T12:08:42.177497",
          "exception": false,
          "start_time": "2022-03-15T12:08:41.918598",
          "status": "completed"
        },
        "tags": []
      },
      "outputs": [],
      "source": [
        "data_t.loc[(data_t[\"displacement\"]<45),[\"location\"]] = \"Nearby\""
      ]
    },
    {
      "cell_type": "code",
      "execution_count": null,
      "id": "e787bc23",
      "metadata": {
        "execution": {
          "iopub.execute_input": "2022-03-15T12:08:42.621354Z",
          "iopub.status.busy": "2022-03-15T12:08:42.620670Z",
          "iopub.status.idle": "2022-03-15T12:08:42.678370Z",
          "shell.execute_reply": "2022-03-15T12:08:42.677779Z",
          "shell.execute_reply.started": "2022-03-15T12:00:53.376336Z"
        },
        "id": "e787bc23",
        "papermill": {
          "duration": 0.280737,
          "end_time": "2022-03-15T12:08:42.678503",
          "exception": false,
          "start_time": "2022-03-15T12:08:42.397766",
          "status": "completed"
        },
        "tags": []
      },
      "outputs": [],
      "source": [
        "data_t.loc[((data_t[\"displacement\"]>45) & (data_t[\"displacement\"]<90)),[\"location\"]] = \"Far Away\"\n",
        "data_t.loc[(data_t[\"displacement\"]>90),[\"location\"]] = \"Long Distance\""
      ]
    },
    {
      "cell_type": "code",
      "execution_count": null,
      "id": "f7600486",
      "metadata": {
        "execution": {
          "iopub.execute_input": "2022-03-15T12:08:43.106915Z",
          "iopub.status.busy": "2022-03-15T12:08:43.106354Z",
          "iopub.status.idle": "2022-03-15T12:08:43.563724Z",
          "shell.execute_reply": "2022-03-15T12:08:43.563151Z",
          "shell.execute_reply.started": "2022-03-15T12:00:53.457885Z"
        },
        "id": "f7600486",
        "papermill": {
          "duration": 0.673418,
          "end_time": "2022-03-15T12:08:43.563868",
          "exception": false,
          "start_time": "2022-03-15T12:08:42.890450",
          "status": "completed"
        },
        "tags": []
      },
      "outputs": [],
      "source": [
        "data_t[\"Time\"] = pd.to_datetime(data_t[\"trans_date_trans_time\"],\"%H:%M\").dt.time"
      ]
    },
    {
      "cell_type": "code",
      "execution_count": null,
      "id": "f032812e",
      "metadata": {
        "execution": {
          "iopub.execute_input": "2022-03-15T12:08:43.996870Z",
          "iopub.status.busy": "2022-03-15T12:08:43.996299Z",
          "iopub.status.idle": "2022-03-15T12:08:44.076908Z",
          "shell.execute_reply": "2022-03-15T12:08:44.077387Z",
          "shell.execute_reply.started": "2022-03-15T12:00:53.862556Z"
        },
        "id": "f032812e",
        "papermill": {
          "duration": 0.298781,
          "end_time": "2022-03-15T12:08:44.077563",
          "exception": false,
          "start_time": "2022-03-15T12:08:43.778782",
          "status": "completed"
        },
        "tags": []
      },
      "outputs": [],
      "source": [
        "data_t[\"Time\"] = pd.to_datetime(data_t[\"trans_date_trans_time\"]).dt.hour"
      ]
    },
    {
      "cell_type": "code",
      "execution_count": null,
      "id": "57b722aa",
      "metadata": {
        "execution": {
          "iopub.execute_input": "2022-03-15T12:08:44.514277Z",
          "iopub.status.busy": "2022-03-15T12:08:44.513590Z",
          "iopub.status.idle": "2022-03-15T12:08:44.605065Z",
          "shell.execute_reply": "2022-03-15T12:08:44.605538Z",
          "shell.execute_reply.started": "2022-03-15T12:00:54.074736Z"
        },
        "id": "57b722aa",
        "papermill": {
          "duration": 0.311848,
          "end_time": "2022-03-15T12:08:44.605760",
          "exception": false,
          "start_time": "2022-03-15T12:08:44.293912",
          "status": "completed"
        },
        "tags": []
      },
      "outputs": [],
      "source": [
        "data_t.loc[(data_t[\"city_pop\"]<10000),[\"city_pop_segment\"]] = \"Less Dense\"\n",
        "data_t.loc[((data_t[\"city_pop\"]>10000) & (data_t[\"city_pop\"]<50000)),[\"city_pop_segment\"]] = \"Adequately Dense\"\n",
        "data_t.loc[(data_t[\"city_pop\"]>50000),[\"city_pop_segment\"]] = \"Densely populated\""
      ]
    },
    {
      "cell_type": "code",
      "execution_count": null,
      "id": "b015dbda",
      "metadata": {
        "execution": {
          "iopub.execute_input": "2022-03-15T12:08:45.046647Z",
          "iopub.status.busy": "2022-03-15T12:08:45.046076Z",
          "iopub.status.idle": "2022-03-15T12:08:45.202997Z",
          "shell.execute_reply": "2022-03-15T12:08:45.203447Z",
          "shell.execute_reply.started": "2022-03-15T12:00:54.210918Z"
        },
        "id": "b015dbda",
        "papermill": {
          "duration": 0.38225,
          "end_time": "2022-03-15T12:08:45.203610",
          "exception": false,
          "start_time": "2022-03-15T12:08:44.821360",
          "status": "completed"
        },
        "tags": []
      },
      "outputs": [],
      "source": [
        "data_t = data_t.drop(\"city_pop\",1)"
      ]
    },
    {
      "cell_type": "code",
      "execution_count": null,
      "id": "5bc23b34",
      "metadata": {
        "execution": {
          "iopub.execute_input": "2022-03-15T12:08:45.650593Z",
          "iopub.status.busy": "2022-03-15T12:08:45.649947Z",
          "iopub.status.idle": "2022-03-15T12:08:45.949277Z",
          "shell.execute_reply": "2022-03-15T12:08:45.948676Z",
          "shell.execute_reply.started": "2022-03-15T12:00:54.367433Z"
        },
        "id": "5bc23b34",
        "papermill": {
          "duration": 0.521799,
          "end_time": "2022-03-15T12:08:45.949435",
          "exception": false,
          "start_time": "2022-03-15T12:08:45.427636",
          "status": "completed"
        },
        "tags": []
      },
      "outputs": [],
      "source": [
        "data_t.recency = data_t.recency.apply(lambda x: float((x/60)/60))"
      ]
    },
    {
      "cell_type": "code",
      "execution_count": null,
      "id": "cee8031c",
      "metadata": {
        "execution": {
          "iopub.execute_input": "2022-03-15T12:08:46.411111Z",
          "iopub.status.busy": "2022-03-15T12:08:46.410501Z",
          "iopub.status.idle": "2022-03-15T12:08:46.540729Z",
          "shell.execute_reply": "2022-03-15T12:08:46.540215Z",
          "shell.execute_reply.started": "2022-03-15T12:00:54.697881Z"
        },
        "id": "cee8031c",
        "papermill": {
          "duration": 0.376319,
          "end_time": "2022-03-15T12:08:46.540891",
          "exception": false,
          "start_time": "2022-03-15T12:08:46.164572",
          "status": "completed"
        },
        "tags": []
      },
      "outputs": [],
      "source": [
        "data_t.loc[(data_t[\"recency\"]<1),[\"recency_segment\"]] = \"Recent_Transaction\"\n",
        "data_t.loc[((data_t[\"recency\"]>1) & (data_t[\"recency\"]<6)),[\"recency_segment\"]] = \"Within 6 hours\"\n",
        "data_t.loc[((data_t[\"recency\"]>6) & (data_t[\"recency\"]<12)),[\"recency_segment\"]] = \"After 6 hours\"\n",
        "data_t.loc[((data_t[\"recency\"]>12) & (data_t[\"recency\"]<24)),[\"recency_segment\"]] = \"After Half-Day\"\n",
        "data_t.loc[(data_t[\"recency\"]>24),[\"recency_segment\"]] = \"After 24 hours\"\n",
        "data_t.loc[(data_t[\"recency\"]<0),[\"recency_segment\"]] = \"First Transaction\""
      ]
    },
    {
      "cell_type": "code",
      "execution_count": null,
      "id": "272fc3e7",
      "metadata": {
        "execution": {
          "iopub.execute_input": "2022-03-15T12:08:46.998029Z",
          "iopub.status.busy": "2022-03-15T12:08:46.997384Z",
          "iopub.status.idle": "2022-03-15T12:08:46.999905Z",
          "shell.execute_reply": "2022-03-15T12:08:47.000530Z",
          "shell.execute_reply.started": "2022-03-15T12:00:54.905152Z"
        },
        "id": "272fc3e7",
        "outputId": "5d9f05e8-8d1d-4258-9909-fe867c703fe4",
        "papermill": {
          "duration": 0.238256,
          "end_time": "2022-03-15T12:08:47.000695",
          "exception": false,
          "start_time": "2022-03-15T12:08:46.762439",
          "status": "completed"
        },
        "tags": []
      },
      "outputs": [
        {
          "data": {
            "text/plain": [
              "Index(['trans_date_trans_time', 'cc_num', 'merchant', 'category', 'amt',\n",
              "       'gender', 'state', 'job', 'is_fraud', 'recency', 'displacement',\n",
              "       'location', 'Time', 'city_pop_segment', 'recency_segment'],\n",
              "      dtype='object')"
            ]
          },
          "execution_count": 77,
          "metadata": {},
          "output_type": "execute_result"
        }
      ],
      "source": [
        "data_t.columns"
      ]
    },
    {
      "cell_type": "code",
      "execution_count": null,
      "id": "000de423",
      "metadata": {
        "execution": {
          "iopub.execute_input": "2022-03-15T12:08:47.923551Z",
          "iopub.status.busy": "2022-03-15T12:08:47.922844Z",
          "iopub.status.idle": "2022-03-15T12:08:49.010701Z",
          "shell.execute_reply": "2022-03-15T12:08:49.011200Z",
          "shell.execute_reply.started": "2022-03-15T12:00:54.913686Z"
        },
        "id": "000de423",
        "outputId": "1f5a04a8-3500-4f77-97a3-1ed16cb45419",
        "papermill": {
          "duration": 1.321761,
          "end_time": "2022-03-15T12:08:49.011361",
          "exception": false,
          "start_time": "2022-03-15T12:08:47.689600",
          "status": "completed"
        },
        "tags": []
      },
      "outputs": [
        {
          "name": "stdout",
          "output_type": "stream",
          "text": [
            "<class 'pandas.core.frame.DataFrame'>\n",
            "RangeIndex: 1296675 entries, 0 to 1296674\n",
            "Data columns (total 15 columns):\n",
            " #   Column                 Non-Null Count    Dtype         \n",
            "---  ------                 --------------    -----         \n",
            " 0   trans_date_trans_time  1296675 non-null  datetime64[ns]\n",
            " 1   cc_num                 1296675 non-null  int64         \n",
            " 2   merchant               1296675 non-null  object        \n",
            " 3   category               1296675 non-null  object        \n",
            " 4   amt                    1296675 non-null  float64       \n",
            " 5   gender                 1296675 non-null  object        \n",
            " 6   state                  1296675 non-null  object        \n",
            " 7   job                    1296675 non-null  object        \n",
            " 8   is_fraud               1296675 non-null  int64         \n",
            " 9   recency                1296675 non-null  float64       \n",
            " 10  displacement           1296675 non-null  float64       \n",
            " 11  location               1296675 non-null  object        \n",
            " 12  Time                   1296675 non-null  int64         \n",
            " 13  city_pop_segment       1296675 non-null  object        \n",
            " 14  recency_segment        1296600 non-null  object        \n",
            "dtypes: datetime64[ns](1), float64(3), int64(3), object(8)\n",
            "memory usage: 148.4+ MB\n"
          ]
        }
      ],
      "source": [
        "data.info()"
      ]
    },
    {
      "cell_type": "code",
      "execution_count": null,
      "id": "d6912d23",
      "metadata": {
        "execution": {
          "iopub.execute_input": "2022-03-15T12:08:49.470050Z",
          "iopub.status.busy": "2022-03-15T12:08:49.469100Z",
          "iopub.status.idle": "2022-03-15T12:08:49.486592Z",
          "shell.execute_reply": "2022-03-15T12:08:49.486152Z",
          "shell.execute_reply.started": "2022-03-15T12:00:56.043594Z"
        },
        "id": "d6912d23",
        "outputId": "55196d63-e060-4e11-9763-d166cba19181",
        "papermill": {
          "duration": 0.248454,
          "end_time": "2022-03-15T12:08:49.486714",
          "exception": false,
          "start_time": "2022-03-15T12:08:49.238260",
          "status": "completed"
        },
        "tags": []
      },
      "outputs": [
        {
          "data": {
            "text/html": [
              "<div>\n",
              "<style scoped>\n",
              "    .dataframe tbody tr th:only-of-type {\n",
              "        vertical-align: middle;\n",
              "    }\n",
              "\n",
              "    .dataframe tbody tr th {\n",
              "        vertical-align: top;\n",
              "    }\n",
              "\n",
              "    .dataframe thead th {\n",
              "        text-align: right;\n",
              "    }\n",
              "</style>\n",
              "<table border=\"1\" class=\"dataframe\">\n",
              "  <thead>\n",
              "    <tr style=\"text-align: right;\">\n",
              "      <th></th>\n",
              "      <th>trans_date_trans_time</th>\n",
              "      <th>cc_num</th>\n",
              "      <th>merchant</th>\n",
              "      <th>category</th>\n",
              "      <th>amt</th>\n",
              "      <th>gender</th>\n",
              "      <th>state</th>\n",
              "      <th>job</th>\n",
              "      <th>is_fraud</th>\n",
              "      <th>recency</th>\n",
              "      <th>displacement</th>\n",
              "      <th>location</th>\n",
              "      <th>Time</th>\n",
              "      <th>city_pop_segment</th>\n",
              "      <th>recency_segment</th>\n",
              "    </tr>\n",
              "  </thead>\n",
              "  <tbody>\n",
              "    <tr>\n",
              "      <th>0</th>\n",
              "      <td>2019-01-01 00:00:18</td>\n",
              "      <td>2703186189652095</td>\n",
              "      <td>fraud_Rippin, Kub and Mann</td>\n",
              "      <td>misc_net</td>\n",
              "      <td>4.97</td>\n",
              "      <td>F</td>\n",
              "      <td>NC</td>\n",
              "      <td>Psychologist, counselling</td>\n",
              "      <td>0</td>\n",
              "      <td>-0.000278</td>\n",
              "      <td>96.011245</td>\n",
              "      <td>Long Distance</td>\n",
              "      <td>0</td>\n",
              "      <td>Less Dense</td>\n",
              "      <td>First Transaction</td>\n",
              "    </tr>\n",
              "    <tr>\n",
              "      <th>1</th>\n",
              "      <td>2019-01-01 00:00:44</td>\n",
              "      <td>630423337322</td>\n",
              "      <td>fraud_Heller, Gutmann and Zieme</td>\n",
              "      <td>grocery_pos</td>\n",
              "      <td>107.23</td>\n",
              "      <td>F</td>\n",
              "      <td>WA</td>\n",
              "      <td>Special educational needs teacher</td>\n",
              "      <td>0</td>\n",
              "      <td>-0.000278</td>\n",
              "      <td>29.954105</td>\n",
              "      <td>Nearby</td>\n",
              "      <td>0</td>\n",
              "      <td>Less Dense</td>\n",
              "      <td>First Transaction</td>\n",
              "    </tr>\n",
              "    <tr>\n",
              "      <th>2</th>\n",
              "      <td>2019-01-01 00:00:51</td>\n",
              "      <td>38859492057661</td>\n",
              "      <td>fraud_Lind-Buckridge</td>\n",
              "      <td>entertainment</td>\n",
              "      <td>220.11</td>\n",
              "      <td>M</td>\n",
              "      <td>ID</td>\n",
              "      <td>Nature conservation officer</td>\n",
              "      <td>0</td>\n",
              "      <td>-0.000278</td>\n",
              "      <td>107.342986</td>\n",
              "      <td>Long Distance</td>\n",
              "      <td>0</td>\n",
              "      <td>Less Dense</td>\n",
              "      <td>First Transaction</td>\n",
              "    </tr>\n",
              "    <tr>\n",
              "      <th>3</th>\n",
              "      <td>2019-01-01 00:01:16</td>\n",
              "      <td>3534093764340240</td>\n",
              "      <td>fraud_Kutch, Hermiston and Farrell</td>\n",
              "      <td>gas_transport</td>\n",
              "      <td>45.00</td>\n",
              "      <td>M</td>\n",
              "      <td>MT</td>\n",
              "      <td>Patent attorney</td>\n",
              "      <td>0</td>\n",
              "      <td>-0.000278</td>\n",
              "      <td>101.178169</td>\n",
              "      <td>Long Distance</td>\n",
              "      <td>0</td>\n",
              "      <td>Less Dense</td>\n",
              "      <td>First Transaction</td>\n",
              "    </tr>\n",
              "    <tr>\n",
              "      <th>4</th>\n",
              "      <td>2019-01-01 00:03:06</td>\n",
              "      <td>375534208663984</td>\n",
              "      <td>fraud_Keeling-Crist</td>\n",
              "      <td>misc_pos</td>\n",
              "      <td>41.96</td>\n",
              "      <td>M</td>\n",
              "      <td>VA</td>\n",
              "      <td>Dance movement psychotherapist</td>\n",
              "      <td>0</td>\n",
              "      <td>-0.000278</td>\n",
              "      <td>95.535506</td>\n",
              "      <td>Long Distance</td>\n",
              "      <td>0</td>\n",
              "      <td>Less Dense</td>\n",
              "      <td>First Transaction</td>\n",
              "    </tr>\n",
              "  </tbody>\n",
              "</table>\n",
              "</div>"
            ],
            "text/plain": [
              "  trans_date_trans_time            cc_num                            merchant  \\\n",
              "0   2019-01-01 00:00:18  2703186189652095          fraud_Rippin, Kub and Mann   \n",
              "1   2019-01-01 00:00:44      630423337322     fraud_Heller, Gutmann and Zieme   \n",
              "2   2019-01-01 00:00:51    38859492057661                fraud_Lind-Buckridge   \n",
              "3   2019-01-01 00:01:16  3534093764340240  fraud_Kutch, Hermiston and Farrell   \n",
              "4   2019-01-01 00:03:06   375534208663984                 fraud_Keeling-Crist   \n",
              "\n",
              "        category     amt gender state                                job  \\\n",
              "0       misc_net    4.97      F    NC          Psychologist, counselling   \n",
              "1    grocery_pos  107.23      F    WA  Special educational needs teacher   \n",
              "2  entertainment  220.11      M    ID        Nature conservation officer   \n",
              "3  gas_transport   45.00      M    MT                    Patent attorney   \n",
              "4       misc_pos   41.96      M    VA     Dance movement psychotherapist   \n",
              "\n",
              "   is_fraud   recency  displacement       location  Time city_pop_segment  \\\n",
              "0         0 -0.000278     96.011245  Long Distance     0       Less Dense   \n",
              "1         0 -0.000278     29.954105         Nearby     0       Less Dense   \n",
              "2         0 -0.000278    107.342986  Long Distance     0       Less Dense   \n",
              "3         0 -0.000278    101.178169  Long Distance     0       Less Dense   \n",
              "4         0 -0.000278     95.535506  Long Distance     0       Less Dense   \n",
              "\n",
              "     recency_segment  \n",
              "0  First Transaction  \n",
              "1  First Transaction  \n",
              "2  First Transaction  \n",
              "3  First Transaction  \n",
              "4  First Transaction  "
            ]
          },
          "execution_count": 79,
          "metadata": {},
          "output_type": "execute_result"
        }
      ],
      "source": [
        "data.head()"
      ]
    },
    {
      "cell_type": "code",
      "execution_count": null,
      "id": "1b75dfc3",
      "metadata": {
        "execution": {
          "iopub.execute_input": "2022-03-15T12:08:49.943207Z",
          "iopub.status.busy": "2022-03-15T12:08:49.942313Z",
          "iopub.status.idle": "2022-03-15T12:08:50.243139Z",
          "shell.execute_reply": "2022-03-15T12:08:50.242455Z",
          "shell.execute_reply.started": "2022-03-15T12:00:56.066043Z"
        },
        "id": "1b75dfc3",
        "papermill": {
          "duration": 0.531509,
          "end_time": "2022-03-15T12:08:50.243276",
          "exception": false,
          "start_time": "2022-03-15T12:08:49.711767",
          "status": "completed"
        },
        "tags": []
      },
      "outputs": [],
      "source": [
        "data_fraud = data[data[\"is_fraud\"]==1]"
      ]
    },
    {
      "cell_type": "code",
      "execution_count": null,
      "id": "ea2d81fb",
      "metadata": {
        "execution": {
          "iopub.execute_input": "2022-03-15T12:08:50.704439Z",
          "iopub.status.busy": "2022-03-15T12:08:50.703786Z",
          "iopub.status.idle": "2022-03-15T12:08:50.939218Z",
          "shell.execute_reply": "2022-03-15T12:08:50.938660Z",
          "shell.execute_reply.started": "2022-03-15T12:00:56.473296Z"
        },
        "id": "ea2d81fb",
        "outputId": "ade8ced5-6044-4276-d5b8-32844250c4c9",
        "papermill": {
          "duration": 0.467988,
          "end_time": "2022-03-15T12:08:50.939375",
          "exception": false,
          "start_time": "2022-03-15T12:08:50.471387",
          "status": "completed"
        },
        "tags": []
      },
      "outputs": [
        {
          "data": {
            "image/png": "[encoded data removed]",
            "text/plain": [
              "<Figure size 432x288 with 1 Axes>"
            ]
          },
          "metadata": {
            "needs_background": "light"
          },
          "output_type": "display_data"
        }
      ],
      "source": [
        "sns.kdeplot(data_fraud[\"Time\"])\n",
        "plt.xlim(left = 0,right = 24)\n",
        "plt.show()"
      ]
    },
    {
      "cell_type": "code",
      "execution_count": null,
      "id": "44bbd76d",
      "metadata": {
        "execution": {
          "iopub.execute_input": "2022-03-15T12:08:51.846142Z",
          "iopub.status.busy": "2022-03-15T12:08:51.842722Z",
          "iopub.status.idle": "2022-03-15T12:08:52.009383Z",
          "shell.execute_reply": "2022-03-15T12:08:52.008735Z",
          "shell.execute_reply.started": "2022-03-15T12:00:56.697886Z"
        },
        "id": "44bbd76d",
        "outputId": "f40bb14a-2f29-49c6-b69f-ac2a65544e57",
        "papermill": {
          "duration": 0.395487,
          "end_time": "2022-03-15T12:08:52.009531",
          "exception": false,
          "start_time": "2022-03-15T12:08:51.614044",
          "status": "completed"
        },
        "tags": []
      },
      "outputs": [
        {
          "data": {
            "image/png": "[encoded data removed]",
            "text/plain": [
              "<Figure size 432x288 with 1 Axes>"
            ]
          },
          "metadata": {
            "needs_background": "light"
          },
          "output_type": "display_data"
        }
      ],
      "source": [
        "sns.countplot(data_fraud[\"city_pop_segment\"])\n",
        "plt.show()"
      ]
    },
    {
      "cell_type": "code",
      "execution_count": null,
      "id": "4c0b13d6",
      "metadata": {
        "execution": {
          "iopub.execute_input": "2022-03-15T12:08:52.912965Z",
          "iopub.status.busy": "2022-03-15T12:08:52.912383Z",
          "iopub.status.idle": "2022-03-15T12:08:53.486787Z",
          "shell.execute_reply": "2022-03-15T12:08:53.487278Z",
          "shell.execute_reply.started": "2022-03-15T12:00:56.881322Z"
        },
        "id": "4c0b13d6",
        "outputId": "f20654fe-519a-4283-c306-ab776f137c72",
        "papermill": {
          "duration": 0.795401,
          "end_time": "2022-03-15T12:08:53.487433",
          "exception": false,
          "start_time": "2022-03-15T12:08:52.692032",
          "status": "completed"
        },
        "tags": []
      },
      "outputs": [
        {
          "data": {
            "image/png": "[encoded data removed]",
            "text/plain": [
              "<Figure size 576x720 with 1 Axes>"
            ]
          },
          "metadata": {
            "needs_background": "light"
          },
          "output_type": "display_data"
        }
      ],
      "source": [
        "plt.figure(figsize = [8,10])\n",
        "sns.countplot(y=data_fraud.state)\n",
        "plt.show()"
      ]
    },
    {
      "cell_type": "code",
      "execution_count": null,
      "id": "2e88e5f1",
      "metadata": {
        "execution": {
          "iopub.execute_input": "2022-03-15T12:08:54.385328Z",
          "iopub.status.busy": "2022-03-15T12:08:54.375938Z",
          "iopub.status.idle": "2022-03-15T12:08:54.629332Z",
          "shell.execute_reply": "2022-03-15T12:08:54.629842Z",
          "shell.execute_reply.started": "2022-03-15T12:00:57.521191Z"
        },
        "id": "2e88e5f1",
        "outputId": "e316fbe3-2ab8-4543-8169-4f15b761eef5",
        "papermill": {
          "duration": 0.480032,
          "end_time": "2022-03-15T12:08:54.630020",
          "exception": false,
          "start_time": "2022-03-15T12:08:54.149988",
          "status": "completed"
        },
        "tags": []
      },
      "outputs": [
        {
          "data": {
            "image/png": "[encoded data removed]",
            "text/plain": [
              "<Figure size 432x288 with 1 Axes>"
            ]
          },
          "metadata": {
            "needs_background": "light"
          },
          "output_type": "display_data"
        }
      ],
      "source": [
        "sns.kdeplot(data_fraud.trans_date_trans_time)\n",
        "plt.xticks(rotation = 90)\n",
        "plt.show()"
      ]
    },
    {
      "cell_type": "code",
      "execution_count": null,
      "id": "5658ab72",
      "metadata": {
        "execution": {
          "iopub.execute_input": "2022-03-15T12:08:55.541253Z",
          "iopub.status.busy": "2022-03-15T12:08:55.540337Z",
          "iopub.status.idle": "2022-03-15T12:08:55.726596Z",
          "shell.execute_reply": "2022-03-15T12:08:55.727045Z",
          "shell.execute_reply.started": "2022-03-15T12:00:57.826779Z"
        },
        "id": "5658ab72",
        "outputId": "26c55fa7-c895-4eb3-d368-91f19c54cc3a",
        "papermill": {
          "duration": 0.419005,
          "end_time": "2022-03-15T12:08:55.727212",
          "exception": false,
          "start_time": "2022-03-15T12:08:55.308207",
          "status": "completed"
        },
        "tags": []
      },
      "outputs": [
        {
          "data": {
            "image/png": "[encoded data removed]",
            "text/plain": [
              "<Figure size 432x288 with 1 Axes>"
            ]
          },
          "metadata": {
            "needs_background": "light"
          },
          "output_type": "display_data"
        }
      ],
      "source": [
        "sns.countplot(y=data_fraud.recency_segment)\n",
        "plt.show()"
      ]
    },
    {
      "cell_type": "code",
      "execution_count": null,
      "id": "f9c9236c",
      "metadata": {
        "execution": {
          "iopub.execute_input": "2022-03-15T12:08:56.181503Z",
          "iopub.status.busy": "2022-03-15T12:08:56.180580Z",
          "iopub.status.idle": "2022-03-15T12:08:57.731679Z",
          "shell.execute_reply": "2022-03-15T12:08:57.732231Z",
          "shell.execute_reply.started": "2022-03-15T12:00:58.030637Z"
        },
        "id": "f9c9236c",
        "outputId": "41f8b141-6820-47ee-d4b0-6cc059af77e0",
        "papermill": {
          "duration": 1.784033,
          "end_time": "2022-03-15T12:08:57.732403",
          "exception": false,
          "start_time": "2022-03-15T12:08:55.948370",
          "status": "completed"
        },
        "tags": []
      },
      "outputs": [
        {
          "data": {
            "image/png": "[encoded data removed]",
            "text/plain": [
              "<Figure size 432x288 with 1 Axes>"
            ]
          },
          "metadata": {
            "needs_background": "light"
          },
          "output_type": "display_data"
        }
      ],
      "source": [
        "sns.countplot(y=data.recency_segment)\n",
        "plt.show()"
      ]
    },
    {
      "cell_type": "code",
      "execution_count": null,
      "id": "b44dc1d1",
      "metadata": {
        "execution": {
          "iopub.execute_input": "2022-03-15T12:08:58.628714Z",
          "iopub.status.busy": "2022-03-15T12:08:58.627799Z",
          "iopub.status.idle": "2022-03-15T12:08:58.831414Z",
          "shell.execute_reply": "2022-03-15T12:08:58.831896Z",
          "shell.execute_reply.started": "2022-03-15T12:00:59.688091Z"
        },
        "id": "b44dc1d1",
        "outputId": "0625585c-021e-48ab-e9ed-d435abd4ac85",
        "papermill": {
          "duration": 0.429949,
          "end_time": "2022-03-15T12:08:58.832063",
          "exception": false,
          "start_time": "2022-03-15T12:08:58.402114",
          "status": "completed"
        },
        "tags": []
      },
      "outputs": [
        {
          "data": {
            "image/png": "[encoded data removed]",
            "text/plain": [
              "<Figure size 432x288 with 1 Axes>"
            ]
          },
          "metadata": {
            "needs_background": "light"
          },
          "output_type": "display_data"
        }
      ],
      "source": [
        "sns.kdeplot(data_fraud.recency)\n",
        "plt.xlim(right = 50,left = -1)\n",
        "plt.show()"
      ]
    },
    {
      "cell_type": "code",
      "execution_count": null,
      "id": "89c87a50",
      "metadata": {
        "execution": {
          "iopub.execute_input": "2022-03-15T12:08:59.740570Z",
          "iopub.status.busy": "2022-03-15T12:08:59.739596Z",
          "iopub.status.idle": "2022-03-15T12:08:59.931666Z",
          "shell.execute_reply": "2022-03-15T12:08:59.932261Z",
          "shell.execute_reply.started": "2022-03-15T12:00:59.920098Z"
        },
        "id": "89c87a50",
        "outputId": "1dd2b1d3-6e0a-4e29-d8d1-e95932aa1d46",
        "papermill": {
          "duration": 0.421595,
          "end_time": "2022-03-15T12:08:59.932498",
          "exception": false,
          "start_time": "2022-03-15T12:08:59.510903",
          "status": "completed"
        },
        "tags": []
      },
      "outputs": [
        {
          "data": {
            "image/png": "[encoded data removed]",
            "text/plain": [
              "<Figure size 432x288 with 1 Axes>"
            ]
          },
          "metadata": {
            "needs_background": "light"
          },
          "output_type": "display_data"
        }
      ],
      "source": [
        "sns.kdeplot(data_fraud[data_fraud[\"recency_segment\"] == \"Recent_Transaction\"].Time)\n",
        "plt.xlim(left=0,right=24)\n",
        "plt.show()"
      ]
    },
    {
      "cell_type": "code",
      "execution_count": null,
      "id": "05138476",
      "metadata": {
        "execution": {
          "iopub.execute_input": "2022-03-15T12:09:00.842493Z",
          "iopub.status.busy": "2022-03-15T12:09:00.841596Z",
          "iopub.status.idle": "2022-03-15T12:09:01.023314Z",
          "shell.execute_reply": "2022-03-15T12:09:01.023780Z",
          "shell.execute_reply.started": "2022-03-15T12:01:00.133631Z"
        },
        "id": "05138476",
        "outputId": "32996418-d9a1-4bb4-b377-4beb0cc948f3",
        "papermill": {
          "duration": 0.406709,
          "end_time": "2022-03-15T12:09:01.023942",
          "exception": false,
          "start_time": "2022-03-15T12:09:00.617233",
          "status": "completed"
        },
        "tags": []
      },
      "outputs": [
        {
          "data": {
            "text/plain": [
              "7.62970498474059"
            ]
          },
          "execution_count": 89,
          "metadata": {},
          "output_type": "execute_result"
        }
      ],
      "source": [
        "(data_fraud[data[\"recency_segment\"] == \"First Transaction\"][\"is_fraud\"].sum()/len(data[data[\"recency\"]<0][\"is_fraud\"]))*100"
      ]
    },
    {
      "cell_type": "code",
      "execution_count": null,
      "id": "775e5b09",
      "metadata": {
        "execution": {
          "iopub.execute_input": "2022-03-15T12:09:01.932037Z",
          "iopub.status.busy": "2022-03-15T12:09:01.931085Z",
          "iopub.status.idle": "2022-03-15T12:09:02.176517Z",
          "shell.execute_reply": "2022-03-15T12:09:02.176035Z",
          "shell.execute_reply.started": "2022-03-15T12:01:00.333631Z"
        },
        "id": "775e5b09",
        "outputId": "ca98303f-5e85-48e3-d303-06dfa7632c67",
        "papermill": {
          "duration": 0.471963,
          "end_time": "2022-03-15T12:09:02.176651",
          "exception": false,
          "start_time": "2022-03-15T12:09:01.704688",
          "status": "completed"
        },
        "tags": []
      },
      "outputs": [
        {
          "data": {
            "image/png": "[encoded data removed]",
            "text/plain": [
              "<Figure size 432x288 with 1 Axes>"
            ]
          },
          "metadata": {
            "needs_background": "light"
          },
          "output_type": "display_data"
        }
      ],
      "source": [
        "sns.countplot(y=data_fraud.category)\n",
        "plt.show()"
      ]
    },
    {
      "cell_type": "code",
      "execution_count": null,
      "id": "f1c685c8",
      "metadata": {
        "execution": {
          "iopub.execute_input": "2022-03-15T12:09:03.078287Z",
          "iopub.status.busy": "2022-03-15T12:09:03.077346Z",
          "iopub.status.idle": "2022-03-15T12:09:03.408375Z",
          "shell.execute_reply": "2022-03-15T12:09:03.407925Z",
          "shell.execute_reply.started": "2022-03-15T12:01:00.594997Z"
        },
        "id": "f1c685c8",
        "outputId": "c212bbdb-e55e-44c0-9f14-6419bf2d026e",
        "papermill": {
          "duration": 0.562829,
          "end_time": "2022-03-15T12:09:03.408498",
          "exception": false,
          "start_time": "2022-03-15T12:09:02.845669",
          "status": "completed"
        },
        "tags": []
      },
      "outputs": [
        {
          "data": {
            "image/png": "[encoded data removed]",
            "text/plain": [
              "<Figure size 864x432 with 2 Axes>"
            ]
          },
          "metadata": {
            "needs_background": "light"
          },
          "output_type": "display_data"
        }
      ],
      "source": [
        "plt.figure(figsize=[12,6])\n",
        "plt.subplot(121)\n",
        "sns.kdeplot(x=data_fraud[data_fraud.category == \"grocery_pos\"].Time)\n",
        "plt.xlim(left=0,right=24)\n",
        "plt.title(label = \"Offline Grocery Transactions Frauds\", fontdict = {\"color\": \"Red\", \"size\": 15, \"weight\" : \"5\"})\n",
        "plt.subplot(122)\n",
        "sns.kdeplot(x=data_fraud[data_fraud.category == \"shopping_net\"].Time)\n",
        "plt.title(label = \"Internet Shopping Transactions Frauds\", fontdict = {\"color\": \"Green\", \"size\": 15, \"weight\" : \"5\"})\n",
        "plt.xlim(left=0,right=24)\n",
        "plt.show()"
      ]
    },
    {
      "cell_type": "code",
      "execution_count": null,
      "id": "71f89632",
      "metadata": {
        "execution": {
          "iopub.execute_input": "2022-03-15T12:09:04.345075Z",
          "iopub.status.busy": "2022-03-15T12:09:04.344402Z",
          "iopub.status.idle": "2022-03-15T12:09:05.582514Z",
          "shell.execute_reply": "2022-03-15T12:09:05.582926Z",
          "shell.execute_reply.started": "2022-03-15T12:01:00.990202Z"
        },
        "id": "71f89632",
        "outputId": "8acd99df-f0dc-4df8-9636-e3aaf50071dc",
        "papermill": {
          "duration": 1.472085,
          "end_time": "2022-03-15T12:09:05.583117",
          "exception": false,
          "start_time": "2022-03-15T12:09:04.111032",
          "status": "completed"
        },
        "tags": []
      },
      "outputs": [
        {
          "data": {
            "image/png": "[encoded data removed]",
            "text/plain": [
              "<Figure size 864x720 with 2 Axes>"
            ]
          },
          "metadata": {
            "needs_background": "light"
          },
          "output_type": "display_data"
        }
      ],
      "source": [
        "plt.figure(figsize=[12,10])\n",
        "plt.subplot(121)\n",
        "sns.countplot(y=data_fraud[data_fraud.category == \"grocery_pos\"].state)\n",
        "plt.title(label = \"Offline Grocery Transactions Frauds \\n by States\", fontdict = {\"color\": \"Red\", \"size\": 15, \"weight\" : \"5\"})\n",
        "plt.subplot(122)\n",
        "sns.countplot(y=data_fraud[data_fraud.category == \"shopping_net\"].state)\n",
        "plt.title(label = \"Internet Shopping Transactions Frauds \\n by States\", fontdict = {\"color\": \"Green\", \"size\": 15, \"weight\" : \"5\"})\n",
        "plt.show()"
      ]
    },
    {
      "cell_type": "code",
      "execution_count": null,
      "id": "17a14b12",
      "metadata": {
        "execution": {
          "iopub.execute_input": "2022-03-15T12:09:06.503000Z",
          "iopub.status.busy": "2022-03-15T12:09:06.502364Z",
          "iopub.status.idle": "2022-03-15T12:09:06.667855Z",
          "shell.execute_reply": "2022-03-15T12:09:06.667375Z",
          "shell.execute_reply.started": "2022-03-15T12:01:02.405863Z"
        },
        "id": "17a14b12",
        "outputId": "2d277d67-8565-446c-9355-b5d757f2ccbb",
        "papermill": {
          "duration": 0.401181,
          "end_time": "2022-03-15T12:09:06.668022",
          "exception": false,
          "start_time": "2022-03-15T12:09:06.266841",
          "status": "completed"
        },
        "tags": []
      },
      "outputs": [
        {
          "data": {
            "image/png": "[encoded data removed]",
            "text/plain": [
              "<Figure size 432x288 with 1 Axes>"
            ]
          },
          "metadata": {
            "needs_background": "light"
          },
          "output_type": "display_data"
        }
      ],
      "source": [
        "sns.countplot(data_fraud.location)\n",
        "plt.show()"
      ]
    },
    {
      "cell_type": "code",
      "execution_count": null,
      "id": "f47243b9",
      "metadata": {
        "execution": {
          "iopub.execute_input": "2022-03-15T12:09:07.737800Z",
          "iopub.status.busy": "2022-03-15T12:09:07.737219Z",
          "iopub.status.idle": "2022-03-15T12:09:07.890123Z",
          "shell.execute_reply": "2022-03-15T12:09:07.889586Z",
          "shell.execute_reply.started": "2022-03-15T12:01:02.593256Z"
        },
        "id": "f47243b9",
        "outputId": "c1a9b18e-9724-4b07-8dba-51b12245b705",
        "papermill": {
          "duration": 0.396294,
          "end_time": "2022-03-15T12:09:07.890282",
          "exception": false,
          "start_time": "2022-03-15T12:09:07.493988",
          "status": "completed"
        },
        "tags": []
      },
      "outputs": [
        {
          "data": {
            "image/png": "[encoded data removed]",
            "text/plain": [
              "<Figure size 432x288 with 1 Axes>"
            ]
          },
          "metadata": {
            "needs_background": "light"
          },
          "output_type": "display_data"
        }
      ],
      "source": [
        "sns.countplot(data_fraud.gender)\n",
        "plt.show()"
      ]
    },
    {
      "cell_type": "markdown",
      "id": "1323697b",
      "metadata": {
        "id": "1323697b",
        "papermill": {
          "duration": 0.259086,
          "end_time": "2022-03-15T12:09:08.389269",
          "exception": false,
          "start_time": "2022-03-15T12:09:08.130183",
          "status": "completed"
        },
        "tags": []
      },
      "source": [
        "We can see that both are equally vulnerable to fraud transactions"
      ]
    },
    {
      "cell_type": "code",
      "execution_count": null,
      "id": "6e007b5a",
      "metadata": {
        "execution": {
          "iopub.execute_input": "2022-03-15T12:09:08.861134Z",
          "iopub.status.busy": "2022-03-15T12:09:08.860150Z",
          "iopub.status.idle": "2022-03-15T12:09:09.701260Z",
          "shell.execute_reply": "2022-03-15T12:09:09.701755Z",
          "shell.execute_reply.started": "2022-03-15T12:01:02.764761Z"
        },
        "id": "6e007b5a",
        "outputId": "cc7be403-f69d-432a-8788-e37717ee3fef",
        "papermill": {
          "duration": 1.078265,
          "end_time": "2022-03-15T12:09:09.701911",
          "exception": false,
          "start_time": "2022-03-15T12:09:08.623646",
          "status": "completed"
        },
        "tags": []
      },
      "outputs": [
        {
          "data": {
            "image/png": "[encoded data removed]",
            "text/plain": [
              "<Figure size 1080x720 with 1 Axes>"
            ]
          },
          "metadata": {
            "needs_background": "light"
          },
          "output_type": "display_data"
        }
      ],
      "source": [
        "plt.figure(figsize = [15,10])\n",
        "sns.countplot(y=data_fraud.state, hue=data_fraud.gender)\n",
        "plt.show()"
      ]
    },
    {
      "cell_type": "code",
      "execution_count": null,
      "id": "ef54e13c",
      "metadata": {
        "execution": {
          "iopub.execute_input": "2022-03-15T12:09:10.638164Z",
          "iopub.status.busy": "2022-03-15T12:09:10.637206Z",
          "iopub.status.idle": "2022-03-15T12:09:10.849521Z",
          "shell.execute_reply": "2022-03-15T12:09:10.850083Z",
          "shell.execute_reply.started": "2022-03-15T12:01:03.657458Z"
        },
        "id": "ef54e13c",
        "outputId": "15486dd0-e2e9-4054-b0db-e60521ff3b85",
        "papermill": {
          "duration": 0.449085,
          "end_time": "2022-03-15T12:09:10.850257",
          "exception": false,
          "start_time": "2022-03-15T12:09:10.401172",
          "status": "completed"
        },
        "tags": []
      },
      "outputs": [
        {
          "data": {
            "image/png": "[encoded data removed]",
            "text/plain": [
              "<Figure size 432x288 with 1 Axes>"
            ]
          },
          "metadata": {
            "needs_background": "light"
          },
          "output_type": "display_data"
        }
      ],
      "source": [
        "sns.kdeplot(data_fraud.amt)\n",
        "plt.xlim(left=0)\n",
        "plt.show()"
      ]
    },
    {
      "cell_type": "code",
      "execution_count": null,
      "id": "8f3a627b",
      "metadata": {
        "execution": {
          "iopub.execute_input": "2022-03-15T12:09:11.798814Z",
          "iopub.status.busy": "2022-03-15T12:09:11.797794Z",
          "iopub.status.idle": "2022-03-15T12:09:14.223349Z",
          "shell.execute_reply": "2022-03-15T12:09:14.223845Z",
          "shell.execute_reply.started": "2022-03-15T12:01:03.885692Z"
        },
        "id": "8f3a627b",
        "outputId": "c91069bd-5559-4629-99e9-e09ebb361060",
        "papermill": {
          "duration": 2.661033,
          "end_time": "2022-03-15T12:09:14.224028",
          "exception": false,
          "start_time": "2022-03-15T12:09:11.562995",
          "status": "completed"
        },
        "tags": []
      },
      "outputs": [
        {
          "data": {
            "image/png": "[encoded data removed]",
            "text/plain": [
              "<Figure size 432x288 with 1 Axes>"
            ]
          },
          "metadata": {
            "needs_background": "light"
          },
          "output_type": "display_data"
        }
      ],
      "source": [
        "sns.kdeplot(data_fraud.amt,hue=data.gender)\n",
        "plt.xlim(left=0)\n",
        "plt.show()"
      ]
    },
    {
      "cell_type": "code",
      "execution_count": null,
      "id": "1bc1d20e",
      "metadata": {
        "execution": {
          "iopub.execute_input": "2022-03-15T12:09:15.163286Z",
          "iopub.status.busy": "2022-03-15T12:09:15.162475Z",
          "iopub.status.idle": "2022-03-15T12:09:15.811376Z",
          "shell.execute_reply": "2022-03-15T12:09:15.812024Z",
          "shell.execute_reply.started": "2022-03-15T12:01:06.474268Z"
        },
        "id": "1bc1d20e",
        "outputId": "e9648d3f-1cc3-4bec-c81b-6c0b904bf113",
        "papermill": {
          "duration": 0.884996,
          "end_time": "2022-03-15T12:09:15.812214",
          "exception": false,
          "start_time": "2022-03-15T12:09:14.927218",
          "status": "completed"
        },
        "tags": []
      },
      "outputs": [
        {
          "data": {
            "image/png": "[encoded data removed]",
            "text/plain": [
              "<Figure size 720x864 with 1 Axes>"
            ]
          },
          "metadata": {
            "needs_background": "light"
          },
          "output_type": "display_data"
        }
      ],
      "source": [
        "data_state = data_fraud.groupby(by = \"state\").sum()\n",
        "plt.figure(figsize=[10,12]),\n",
        "sns.barplot(y = data_state.index,x=data_state.amt)\n",
        "plt.show()"
      ]
    },
    {
      "cell_type": "code",
      "execution_count": null,
      "id": "afd5918b",
      "metadata": {
        "execution": {
          "iopub.execute_input": "2022-03-15T12:09:16.766624Z",
          "iopub.status.busy": "2022-03-15T12:09:16.765581Z",
          "iopub.status.idle": "2022-03-15T12:09:17.020888Z",
          "shell.execute_reply": "2022-03-15T12:09:17.021364Z",
          "shell.execute_reply.started": "2022-03-15T12:01:07.181415Z"
        },
        "id": "afd5918b",
        "outputId": "5a13f098-19aa-4a05-eea4-e2a83d7bbf60",
        "papermill": {
          "duration": 0.491485,
          "end_time": "2022-03-15T12:09:17.021529",
          "exception": false,
          "start_time": "2022-03-15T12:09:16.530044",
          "status": "completed"
        },
        "tags": []
      },
      "outputs": [
        {
          "data": {
            "image/png": "[encoded data removed]",
            "text/plain": [
              "<Figure size 432x288 with 1 Axes>"
            ]
          },
          "metadata": {
            "needs_background": "light"
          },
          "output_type": "display_data"
        }
      ],
      "source": [
        "data_cat = data_fraud.groupby(by = \"category\").sum()\n",
        "sns.barplot(y = data_cat.index,x=data_cat.amt)\n",
        "plt.show()"
      ]
    },
    {
      "cell_type": "code",
      "execution_count": null,
      "id": "158e10cc",
      "metadata": {
        "execution": {
          "iopub.execute_input": "2022-03-15T12:09:18.015023Z",
          "iopub.status.busy": "2022-03-15T12:09:18.014269Z",
          "iopub.status.idle": "2022-03-15T12:09:18.267836Z",
          "shell.execute_reply": "2022-03-15T12:09:18.268550Z",
          "shell.execute_reply.started": "2022-03-15T12:01:07.460011Z"
        },
        "id": "158e10cc",
        "outputId": "552cfeb6-edc2-4b5f-d64c-4cbd0fdbb0c5",
        "papermill": {
          "duration": 0.508083,
          "end_time": "2022-03-15T12:09:18.268753",
          "exception": false,
          "start_time": "2022-03-15T12:09:17.760670",
          "status": "completed"
        },
        "tags": []
      },
      "outputs": [
        {
          "data": {
            "image/png": "[encoded data removed]",
            "text/plain": [
              "<Figure size 432x288 with 1 Axes>"
            ]
          },
          "metadata": {
            "needs_background": "light"
          },
          "output_type": "display_data"
        },
        {
          "data": {
            "text/html": [
              "<div>\n",
              "<style scoped>\n",
              "    .dataframe tbody tr th:only-of-type {\n",
              "        vertical-align: middle;\n",
              "    }\n",
              "\n",
              "    .dataframe tbody tr th {\n",
              "        vertical-align: top;\n",
              "    }\n",
              "\n",
              "    .dataframe thead th {\n",
              "        text-align: right;\n",
              "    }\n",
              "</style>\n",
              "<table border=\"1\" class=\"dataframe\">\n",
              "  <thead>\n",
              "    <tr style=\"text-align: right;\">\n",
              "      <th></th>\n",
              "      <th>Category</th>\n",
              "      <th>Ticket Size</th>\n",
              "    </tr>\n",
              "  </thead>\n",
              "  <tbody>\n",
              "    <tr>\n",
              "      <th>11</th>\n",
              "      <td>shopping_net</td>\n",
              "      <td>999.254939</td>\n",
              "    </tr>\n",
              "    <tr>\n",
              "      <th>12</th>\n",
              "      <td>shopping_pos</td>\n",
              "      <td>876.921815</td>\n",
              "    </tr>\n",
              "    <tr>\n",
              "      <th>8</th>\n",
              "      <td>misc_net</td>\n",
              "      <td>797.012852</td>\n",
              "    </tr>\n",
              "    <tr>\n",
              "      <th>0</th>\n",
              "      <td>entertainment</td>\n",
              "      <td>503.535579</td>\n",
              "    </tr>\n",
              "    <tr>\n",
              "      <th>4</th>\n",
              "      <td>grocery_pos</td>\n",
              "      <td>311.989616</td>\n",
              "    </tr>\n",
              "    <tr>\n",
              "      <th>6</th>\n",
              "      <td>home</td>\n",
              "      <td>257.432626</td>\n",
              "    </tr>\n",
              "    <tr>\n",
              "      <th>9</th>\n",
              "      <td>misc_pos</td>\n",
              "      <td>218.284080</td>\n",
              "    </tr>\n",
              "    <tr>\n",
              "      <th>1</th>\n",
              "      <td>food_dining</td>\n",
              "      <td>120.076954</td>\n",
              "    </tr>\n",
              "    <tr>\n",
              "      <th>10</th>\n",
              "      <td>personal_care</td>\n",
              "      <td>26.170545</td>\n",
              "    </tr>\n",
              "    <tr>\n",
              "      <th>5</th>\n",
              "      <td>health_fitness</td>\n",
              "      <td>20.248421</td>\n",
              "    </tr>\n",
              "    <tr>\n",
              "      <th>7</th>\n",
              "      <td>kids_pets</td>\n",
              "      <td>18.121674</td>\n",
              "    </tr>\n",
              "    <tr>\n",
              "      <th>2</th>\n",
              "      <td>gas_transport</td>\n",
              "      <td>12.288204</td>\n",
              "    </tr>\n",
              "    <tr>\n",
              "      <th>3</th>\n",
              "      <td>grocery_net</td>\n",
              "      <td>12.162836</td>\n",
              "    </tr>\n",
              "    <tr>\n",
              "      <th>13</th>\n",
              "      <td>travel</td>\n",
              "      <td>9.064569</td>\n",
              "    </tr>\n",
              "  </tbody>\n",
              "</table>\n",
              "</div>"
            ],
            "text/plain": [
              "          Category  Ticket Size\n",
              "11    shopping_net   999.254939\n",
              "12    shopping_pos   876.921815\n",
              "8         misc_net   797.012852\n",
              "0    entertainment   503.535579\n",
              "4      grocery_pos   311.989616\n",
              "6             home   257.432626\n",
              "9         misc_pos   218.284080\n",
              "1      food_dining   120.076954\n",
              "10   personal_care    26.170545\n",
              "5   health_fitness    20.248421\n",
              "7        kids_pets    18.121674\n",
              "2    gas_transport    12.288204\n",
              "3      grocery_net    12.162836\n",
              "13          travel     9.064569"
            ]
          },
          "execution_count": 100,
          "metadata": {},
          "output_type": "execute_result"
        }
      ],
      "source": [
        "sns.barplot(y=data_cat.index,x= (data_cat.amt/data_cat.is_fraud))\n",
        "plt.show()\n",
        "data_ticket = pd.DataFrame({\"Category\" : data_cat.index,\"Ticket Size\": data_cat.amt/data_cat.is_fraud})\n",
        "data_ticket.reset_index(inplace=True)\n",
        "data_ticket.drop(\"category\",1,inplace=True)\n",
        "data_ticket.sort_values(by=\"Ticket Size\",ascending=False)"
      ]
    },
    {
      "cell_type": "code",
      "execution_count": null,
      "id": "da17c36d",
      "metadata": {
        "execution": {
          "iopub.execute_input": "2022-03-15T12:09:20.750653Z",
          "iopub.status.busy": "2022-03-15T12:09:20.748941Z",
          "iopub.status.idle": "2022-03-15T12:09:22.093266Z",
          "shell.execute_reply": "2022-03-15T12:09:22.092651Z",
          "shell.execute_reply.started": "2022-03-15T12:01:07.731796Z"
        },
        "id": "da17c36d",
        "papermill": {
          "duration": 1.582358,
          "end_time": "2022-03-15T12:09:22.093416",
          "exception": false,
          "start_time": "2022-03-15T12:09:20.511058",
          "status": "completed"
        },
        "tags": []
      },
      "outputs": [],
      "source": [
        "data4 = data.drop(columns=[\"trans_date_trans_time\",\"cc_num\",\"merchant\",\"job\",\"state\"])\n",
        "data5 = pd.get_dummies(data=data4,columns=[\"category\",\"gender\",\"recency_segment\",\"city_pop_segment\",\"location\"], drop_first=True)\n",
        "\n",
        "\n",
        "data6 = data_t.drop(columns=[\"trans_date_trans_time\",\"cc_num\",\"merchant\",\"job\",\"state\"])\n",
        "data_test = pd.get_dummies(data=data6,columns=[\"category\",\"gender\",\"recency_segment\",\"city_pop_segment\",\"location\"], drop_first=True)"
      ]
    },
    {
      "cell_type": "code",
      "execution_count": null,
      "id": "f741b21c",
      "metadata": {
        "execution": {
          "iopub.execute_input": "2022-03-15T12:09:22.570865Z",
          "iopub.status.busy": "2022-03-15T12:09:22.569652Z",
          "iopub.status.idle": "2022-03-15T12:09:22.638195Z",
          "shell.execute_reply": "2022-03-15T12:09:22.637664Z",
          "shell.execute_reply.started": "2022-03-15T12:01:09.388260Z"
        },
        "id": "f741b21c",
        "outputId": "76b03c4d-f163-45c1-adec-748414cc7e80",
        "papermill": {
          "duration": 0.310311,
          "end_time": "2022-03-15T12:09:22.638320",
          "exception": false,
          "start_time": "2022-03-15T12:09:22.328009",
          "status": "completed"
        },
        "tags": []
      },
      "outputs": [
        {
          "name": "stdout",
          "output_type": "stream",
          "text": [
            "<class 'pandas.core.frame.DataFrame'>\n",
            "RangeIndex: 1296675 entries, 0 to 1296674\n",
            "Data columns (total 28 columns):\n",
            " #   Column                              Non-Null Count    Dtype  \n",
            "---  ------                              --------------    -----  \n",
            " 0   amt                                 1296675 non-null  float64\n",
            " 1   is_fraud                            1296675 non-null  int64  \n",
            " 2   recency                             1296675 non-null  float64\n",
            " 3   displacement                        1296675 non-null  float64\n",
            " 4   Time                                1296675 non-null  int64  \n",
            " 5   category_food_dining                1296675 non-null  uint8  \n",
            " 6   category_gas_transport              1296675 non-null  uint8  \n",
            " 7   category_grocery_net                1296675 non-null  uint8  \n",
            " 8   category_grocery_pos                1296675 non-null  uint8  \n",
            " 9   category_health_fitness             1296675 non-null  uint8  \n",
            " 10  category_home                       1296675 non-null  uint8  \n",
            " 11  category_kids_pets                  1296675 non-null  uint8  \n",
            " 12  category_misc_net                   1296675 non-null  uint8  \n",
            " 13  category_misc_pos                   1296675 non-null  uint8  \n",
            " 14  category_personal_care              1296675 non-null  uint8  \n",
            " 15  category_shopping_net               1296675 non-null  uint8  \n",
            " 16  category_shopping_pos               1296675 non-null  uint8  \n",
            " 17  category_travel                     1296675 non-null  uint8  \n",
            " 18  gender_M                            1296675 non-null  uint8  \n",
            " 19  recency_segment_After 6 hours       1296675 non-null  uint8  \n",
            " 20  recency_segment_After Half-Day      1296675 non-null  uint8  \n",
            " 21  recency_segment_First Transaction   1296675 non-null  uint8  \n",
            " 22  recency_segment_Recent_Transaction  1296675 non-null  uint8  \n",
            " 23  recency_segment_Within 6 hours      1296675 non-null  uint8  \n",
            " 24  city_pop_segment_Densely populated  1296675 non-null  uint8  \n",
            " 25  city_pop_segment_Less Dense         1296675 non-null  uint8  \n",
            " 26  location_Long Distance              1296675 non-null  uint8  \n",
            " 27  location_Nearby                     1296675 non-null  uint8  \n",
            "dtypes: float64(3), int64(2), uint8(23)\n",
            "memory usage: 77.9 MB\n"
          ]
        }
      ],
      "source": [
        "data5.info()"
      ]
    },
    {
      "cell_type": "code",
      "execution_count": null,
      "id": "8bc62d6d",
      "metadata": {
        "execution": {
          "iopub.execute_input": "2022-03-15T12:09:23.593576Z",
          "iopub.status.busy": "2022-03-15T12:09:23.592806Z",
          "iopub.status.idle": "2022-03-15T12:09:23.707578Z",
          "shell.execute_reply": "2022-03-15T12:09:23.707138Z",
          "shell.execute_reply.started": "2022-03-15T12:01:09.663412Z"
        },
        "id": "8bc62d6d",
        "papermill": {
          "duration": 0.362696,
          "end_time": "2022-03-15T12:09:23.707700",
          "exception": false,
          "start_time": "2022-03-15T12:09:23.345004",
          "status": "completed"
        },
        "tags": []
      },
      "outputs": [],
      "source": [
        "from sklearn.preprocessing import StandardScaler\n",
        "\n",
        "sc=StandardScaler()"
      ]
    },
    {
      "cell_type": "code",
      "execution_count": null,
      "id": "109e6802",
      "metadata": {
        "execution": {
          "iopub.execute_input": "2022-03-15T12:09:24.187660Z",
          "iopub.status.busy": "2022-03-15T12:09:24.187110Z",
          "iopub.status.idle": "2022-03-15T12:09:24.354226Z",
          "shell.execute_reply": "2022-03-15T12:09:24.353586Z",
          "shell.execute_reply.started": "2022-03-15T12:01:09.807843Z"
        },
        "id": "109e6802",
        "papermill": {
          "duration": 0.40929,
          "end_time": "2022-03-15T12:09:24.354377",
          "exception": false,
          "start_time": "2022-03-15T12:09:23.945087",
          "status": "completed"
        },
        "tags": []
      },
      "outputs": [],
      "source": [
        "data5[[\"amt\",\"Time\",\"displacement\",\"recency\"]] = sc.fit_transform(data5[[\"amt\",\"Time\",\"displacement\",\"recency\"]])"
      ]
    },
    {
      "cell_type": "code",
      "execution_count": null,
      "id": "d28662d0",
      "metadata": {
        "execution": {
          "iopub.execute_input": "2022-03-15T12:09:24.836896Z",
          "iopub.status.busy": "2022-03-15T12:09:24.836253Z",
          "iopub.status.idle": "2022-03-15T12:09:24.854429Z",
          "shell.execute_reply": "2022-03-15T12:09:24.853840Z",
          "shell.execute_reply.started": "2022-03-15T12:01:10.061419Z"
        },
        "id": "d28662d0",
        "outputId": "04b1f369-739b-4e71-b23f-0f7bf42924d6",
        "papermill": {
          "duration": 0.262356,
          "end_time": "2022-03-15T12:09:24.854590",
          "exception": false,
          "start_time": "2022-03-15T12:09:24.592234",
          "status": "completed"
        },
        "tags": []
      },
      "outputs": [
        {
          "data": {
            "text/html": [
              "<div>\n",
              "<style scoped>\n",
              "    .dataframe tbody tr th:only-of-type {\n",
              "        vertical-align: middle;\n",
              "    }\n",
              "\n",
              "    .dataframe tbody tr th {\n",
              "        vertical-align: top;\n",
              "    }\n",
              "\n",
              "    .dataframe thead th {\n",
              "        text-align: right;\n",
              "    }\n",
              "</style>\n",
              "<table border=\"1\" class=\"dataframe\">\n",
              "  <thead>\n",
              "    <tr style=\"text-align: right;\">\n",
              "      <th></th>\n",
              "      <th>amt</th>\n",
              "      <th>is_fraud</th>\n",
              "      <th>recency</th>\n",
              "      <th>displacement</th>\n",
              "      <th>Time</th>\n",
              "      <th>category_food_dining</th>\n",
              "      <th>category_gas_transport</th>\n",
              "      <th>category_grocery_net</th>\n",
              "      <th>category_grocery_pos</th>\n",
              "      <th>category_health_fitness</th>\n",
              "      <th>...</th>\n",
              "      <th>gender_M</th>\n",
              "      <th>recency_segment_After 6 hours</th>\n",
              "      <th>recency_segment_After Half-Day</th>\n",
              "      <th>recency_segment_First Transaction</th>\n",
              "      <th>recency_segment_Recent_Transaction</th>\n",
              "      <th>recency_segment_Within 6 hours</th>\n",
              "      <th>city_pop_segment_Densely populated</th>\n",
              "      <th>city_pop_segment_Less Dense</th>\n",
              "      <th>location_Long Distance</th>\n",
              "      <th>location_Nearby</th>\n",
              "    </tr>\n",
              "  </thead>\n",
              "  <tbody>\n",
              "    <tr>\n",
              "      <th>0</th>\n",
              "      <td>-0.407826</td>\n",
              "      <td>0</td>\n",
              "      <td>-0.685836</td>\n",
              "      <td>0.376362</td>\n",
              "      <td>-1.878145</td>\n",
              "      <td>0</td>\n",
              "      <td>0</td>\n",
              "      <td>0</td>\n",
              "      <td>0</td>\n",
              "      <td>0</td>\n",
              "      <td>...</td>\n",
              "      <td>0</td>\n",
              "      <td>0</td>\n",
              "      <td>0</td>\n",
              "      <td>1</td>\n",
              "      <td>0</td>\n",
              "      <td>0</td>\n",
              "      <td>0</td>\n",
              "      <td>1</td>\n",
              "      <td>1</td>\n",
              "      <td>0</td>\n",
              "    </tr>\n",
              "    <tr>\n",
              "      <th>1</th>\n",
              "      <td>0.230039</td>\n",
              "      <td>0</td>\n",
              "      <td>-0.685836</td>\n",
              "      <td>-1.732586</td>\n",
              "      <td>-1.878145</td>\n",
              "      <td>0</td>\n",
              "      <td>0</td>\n",
              "      <td>0</td>\n",
              "      <td>1</td>\n",
              "      <td>0</td>\n",
              "      <td>...</td>\n",
              "      <td>0</td>\n",
              "      <td>0</td>\n",
              "      <td>0</td>\n",
              "      <td>1</td>\n",
              "      <td>0</td>\n",
              "      <td>0</td>\n",
              "      <td>0</td>\n",
              "      <td>1</td>\n",
              "      <td>0</td>\n",
              "      <td>1</td>\n",
              "    </tr>\n",
              "    <tr>\n",
              "      <th>2</th>\n",
              "      <td>0.934149</td>\n",
              "      <td>0</td>\n",
              "      <td>-0.685836</td>\n",
              "      <td>0.738140</td>\n",
              "      <td>-1.878145</td>\n",
              "      <td>0</td>\n",
              "      <td>0</td>\n",
              "      <td>0</td>\n",
              "      <td>0</td>\n",
              "      <td>0</td>\n",
              "      <td>...</td>\n",
              "      <td>1</td>\n",
              "      <td>0</td>\n",
              "      <td>0</td>\n",
              "      <td>1</td>\n",
              "      <td>0</td>\n",
              "      <td>0</td>\n",
              "      <td>0</td>\n",
              "      <td>1</td>\n",
              "      <td>1</td>\n",
              "      <td>0</td>\n",
              "    </tr>\n",
              "    <tr>\n",
              "      <th>3</th>\n",
              "      <td>-0.158132</td>\n",
              "      <td>0</td>\n",
              "      <td>-0.685836</td>\n",
              "      <td>0.541322</td>\n",
              "      <td>-1.878145</td>\n",
              "      <td>0</td>\n",
              "      <td>1</td>\n",
              "      <td>0</td>\n",
              "      <td>0</td>\n",
              "      <td>0</td>\n",
              "      <td>...</td>\n",
              "      <td>1</td>\n",
              "      <td>0</td>\n",
              "      <td>0</td>\n",
              "      <td>1</td>\n",
              "      <td>0</td>\n",
              "      <td>0</td>\n",
              "      <td>0</td>\n",
              "      <td>1</td>\n",
              "      <td>1</td>\n",
              "      <td>0</td>\n",
              "    </tr>\n",
              "    <tr>\n",
              "      <th>4</th>\n",
              "      <td>-0.177094</td>\n",
              "      <td>0</td>\n",
              "      <td>-0.685836</td>\n",
              "      <td>0.361173</td>\n",
              "      <td>-1.878145</td>\n",
              "      <td>0</td>\n",
              "      <td>0</td>\n",
              "      <td>0</td>\n",
              "      <td>0</td>\n",
              "      <td>0</td>\n",
              "      <td>...</td>\n",
              "      <td>1</td>\n",
              "      <td>0</td>\n",
              "      <td>0</td>\n",
              "      <td>1</td>\n",
              "      <td>0</td>\n",
              "      <td>0</td>\n",
              "      <td>0</td>\n",
              "      <td>1</td>\n",
              "      <td>1</td>\n",
              "      <td>0</td>\n",
              "    </tr>\n",
              "  </tbody>\n",
              "</table>\n",
              "<p>5 rows × 28 columns</p>\n",
              "</div>"
            ],
            "text/plain": [
              "        amt  is_fraud   recency  displacement      Time  category_food_dining  \\\n",
              "0 -0.407826         0 -0.685836      0.376362 -1.878145                     0   \n",
              "1  0.230039         0 -0.685836     -1.732586 -1.878145                     0   \n",
              "2  0.934149         0 -0.685836      0.738140 -1.878145                     0   \n",
              "3 -0.158132         0 -0.685836      0.541322 -1.878145                     0   \n",
              "4 -0.177094         0 -0.685836      0.361173 -1.878145                     0   \n",
              "\n",
              "   category_gas_transport  category_grocery_net  category_grocery_pos  \\\n",
              "0                       0                     0                     0   \n",
              "1                       0                     0                     1   \n",
              "2                       0                     0                     0   \n",
              "3                       1                     0                     0   \n",
              "4                       0                     0                     0   \n",
              "\n",
              "   category_health_fitness  ...  gender_M  recency_segment_After 6 hours  \\\n",
              "0                        0  ...         0                              0   \n",
              "1                        0  ...         0                              0   \n",
              "2                        0  ...         1                              0   \n",
              "3                        0  ...         1                              0   \n",
              "4                        0  ...         1                              0   \n",
              "\n",
              "   recency_segment_After Half-Day  recency_segment_First Transaction  \\\n",
              "0                               0                                  1   \n",
              "1                               0                                  1   \n",
              "2                               0                                  1   \n",
              "3                               0                                  1   \n",
              "4                               0                                  1   \n",
              "\n",
              "   recency_segment_Recent_Transaction  recency_segment_Within 6 hours  \\\n",
              "0                                   0                               0   \n",
              "1                                   0                               0   \n",
              "2                                   0                               0   \n",
              "3                                   0                               0   \n",
              "4                                   0                               0   \n",
              "\n",
              "   city_pop_segment_Densely populated  city_pop_segment_Less Dense  \\\n",
              "0                                   0                            1   \n",
              "1                                   0                            1   \n",
              "2                                   0                            1   \n",
              "3                                   0                            1   \n",
              "4                                   0                            1   \n",
              "\n",
              "   location_Long Distance  location_Nearby  \n",
              "0                       1                0  \n",
              "1                       0                1  \n",
              "2                       1                0  \n",
              "3                       1                0  \n",
              "4                       1                0  \n",
              "\n",
              "[5 rows x 28 columns]"
            ]
          },
          "execution_count": 105,
          "metadata": {},
          "output_type": "execute_result"
        }
      ],
      "source": [
        "data5.head()"
      ]
    },
    {
      "cell_type": "code",
      "execution_count": null,
      "id": "82024c18",
      "metadata": {
        "execution": {
          "iopub.execute_input": "2022-03-15T12:09:25.809390Z",
          "iopub.status.busy": "2022-03-15T12:09:25.808702Z",
          "iopub.status.idle": "2022-03-15T12:09:25.866166Z",
          "shell.execute_reply": "2022-03-15T12:09:25.866643Z",
          "shell.execute_reply.started": "2022-03-15T12:01:10.083269Z"
        },
        "id": "82024c18",
        "papermill": {
          "duration": 0.301798,
          "end_time": "2022-03-15T12:09:25.866795",
          "exception": false,
          "start_time": "2022-03-15T12:09:25.564997",
          "status": "completed"
        },
        "tags": []
      },
      "outputs": [],
      "source": [
        "y= data5.is_fraud[:]\n",
        "x=data5.drop(\"is_fraud\",1)"
      ]
    },
    {
      "cell_type": "code",
      "execution_count": null,
      "id": "1301351c",
      "metadata": {
        "execution": {
          "iopub.execute_input": "2022-03-15T12:09:26.350570Z",
          "iopub.status.busy": "2022-03-15T12:09:26.349910Z",
          "iopub.status.idle": "2022-03-15T12:09:26.426798Z",
          "shell.execute_reply": "2022-03-15T12:09:26.427292Z",
          "shell.execute_reply.started": "2022-03-15T12:01:10.180183Z"
        },
        "id": "1301351c",
        "outputId": "0f404a25-a9ad-45e3-989c-016b090ec90d",
        "papermill": {
          "duration": 0.323943,
          "end_time": "2022-03-15T12:09:26.427472",
          "exception": false,
          "start_time": "2022-03-15T12:09:26.103529",
          "status": "completed"
        },
        "tags": []
      },
      "outputs": [
        {
          "name": "stdout",
          "output_type": "stream",
          "text": [
            "<class 'pandas.core.frame.DataFrame'>\n",
            "RangeIndex: 1296675 entries, 0 to 1296674\n",
            "Data columns (total 28 columns):\n",
            " #   Column                              Non-Null Count    Dtype  \n",
            "---  ------                              --------------    -----  \n",
            " 0   amt                                 1296675 non-null  float64\n",
            " 1   is_fraud                            1296675 non-null  int64  \n",
            " 2   recency                             1296675 non-null  float64\n",
            " 3   displacement                        1296675 non-null  float64\n",
            " 4   Time                                1296675 non-null  float64\n",
            " 5   category_food_dining                1296675 non-null  uint8  \n",
            " 6   category_gas_transport              1296675 non-null  uint8  \n",
            " 7   category_grocery_net                1296675 non-null  uint8  \n",
            " 8   category_grocery_pos                1296675 non-null  uint8  \n",
            " 9   category_health_fitness             1296675 non-null  uint8  \n",
            " 10  category_home                       1296675 non-null  uint8  \n",
            " 11  category_kids_pets                  1296675 non-null  uint8  \n",
            " 12  category_misc_net                   1296675 non-null  uint8  \n",
            " 13  category_misc_pos                   1296675 non-null  uint8  \n",
            " 14  category_personal_care              1296675 non-null  uint8  \n",
            " 15  category_shopping_net               1296675 non-null  uint8  \n",
            " 16  category_shopping_pos               1296675 non-null  uint8  \n",
            " 17  category_travel                     1296675 non-null  uint8  \n",
            " 18  gender_M                            1296675 non-null  uint8  \n",
            " 19  recency_segment_After 6 hours       1296675 non-null  uint8  \n",
            " 20  recency_segment_After Half-Day      1296675 non-null  uint8  \n",
            " 21  recency_segment_First Transaction   1296675 non-null  uint8  \n",
            " 22  recency_segment_Recent_Transaction  1296675 non-null  uint8  \n",
            " 23  recency_segment_Within 6 hours      1296675 non-null  uint8  \n",
            " 24  city_pop_segment_Densely populated  1296675 non-null  uint8  \n",
            " 25  city_pop_segment_Less Dense         1296675 non-null  uint8  \n",
            " 26  location_Long Distance              1296675 non-null  uint8  \n",
            " 27  location_Nearby                     1296675 non-null  uint8  \n",
            "dtypes: float64(4), int64(1), uint8(23)\n",
            "memory usage: 77.9 MB\n"
          ]
        }
      ],
      "source": [
        "data5.info()"
      ]
    },
    {
      "cell_type": "code",
      "execution_count": null,
      "id": "d8b84473",
      "metadata": {
        "execution": {
          "iopub.execute_input": "2022-03-15T12:09:27.441221Z",
          "iopub.status.busy": "2022-03-15T12:09:27.440231Z",
          "iopub.status.idle": "2022-03-15T12:09:29.419401Z",
          "shell.execute_reply": "2022-03-15T12:09:29.420299Z",
          "shell.execute_reply.started": "2022-03-15T12:01:10.271305Z"
        },
        "id": "d8b84473",
        "papermill": {
          "duration": 2.238566,
          "end_time": "2022-03-15T12:09:29.420561",
          "exception": false,
          "start_time": "2022-03-15T12:09:27.181995",
          "status": "completed"
        },
        "tags": []
      },
      "outputs": [],
      "source": [
        "import statsmodels.api as sm\n",
        "\n",
        "model1 = sm.GLM(y,sm.add_constant(x),family = sm.families.Binomial())"
      ]
    },
    {
      "cell_type": "code",
      "execution_count": null,
      "id": "bda4de7d",
      "metadata": {
        "execution": {
          "iopub.execute_input": "2022-03-15T12:09:29.950932Z",
          "iopub.status.busy": "2022-03-15T12:09:29.949746Z",
          "iopub.status.idle": "2022-03-15T12:09:49.441807Z",
          "shell.execute_reply": "2022-03-15T12:09:49.441269Z",
          "shell.execute_reply.started": "2022-03-15T12:01:12.731147Z"
        },
        "id": "bda4de7d",
        "outputId": "612c5cef-eaba-4b57-ea77-376f7958b0ce",
        "papermill": {
          "duration": 19.739606,
          "end_time": "2022-03-15T12:09:49.441958",
          "exception": false,
          "start_time": "2022-03-15T12:09:29.702352",
          "status": "completed"
        },
        "tags": []
      },
      "outputs": [
        {
          "data": {
            "text/html": [
              "<table class=\"simpletable\">\n",
              "<caption>Generalized Linear Model Regression Results</caption>\n",
              "<tr>\n",
              "  <th>Dep. Variable:</th>       <td>is_fraud</td>     <th>  No. Observations:  </th>  <td>1296675</td>\n",
              "</tr>\n",
              "<tr>\n",
              "  <th>Model:</th>                  <td>GLM</td>       <th>  Df Residuals:      </th>  <td>1296647</td>\n",
              "</tr>\n",
              "<tr>\n",
              "  <th>Model Family:</th>        <td>Binomial</td>     <th>  Df Model:          </th>  <td>    27</td> \n",
              "</tr>\n",
              "<tr>\n",
              "  <th>Link Function:</th>         <td>Logit</td>      <th>  Scale:             </th> <td>  1.0000</td>\n",
              "</tr>\n",
              "<tr>\n",
              "  <th>Method:</th>                <td>IRLS</td>       <th>  Log-Likelihood:    </th> <td> -35796.</td>\n",
              "</tr>\n",
              "<tr>\n",
              "  <th>Date:</th>            <td>Tue, 15 Mar 2022</td> <th>  Deviance:          </th> <td>  71592.</td>\n",
              "</tr>\n",
              "<tr>\n",
              "  <th>Time:</th>                <td>12:09:49</td>     <th>  Pearson chi2:      </th> <td>2.32e+16</td>\n",
              "</tr>\n",
              "<tr>\n",
              "  <th>No. Iterations:</th>         <td>12</td>        <th>  Pseudo R-squ. (CS):</th>  <td>0.01585</td>\n",
              "</tr>\n",
              "<tr>\n",
              "  <th>Covariance Type:</th>     <td>nonrobust</td>    <th>                     </th>     <td> </td>   \n",
              "</tr>\n",
              "</table>\n",
              "<table class=\"simpletable\">\n",
              "<tr>\n",
              "                   <td></td>                     <th>coef</th>     <th>std err</th>      <th>z</th>      <th>P>|z|</th>  <th>[0.025</th>    <th>0.975]</th>  \n",
              "</tr>\n",
              "<tr>\n",
              "  <th>const</th>                              <td>   -7.7486</td> <td>    0.141</td> <td>  -54.827</td> <td> 0.000</td> <td>   -8.026</td> <td>   -7.472</td>\n",
              "</tr>\n",
              "<tr>\n",
              "  <th>amt</th>                                <td>    0.4236</td> <td>    0.005</td> <td>   77.804</td> <td> 0.000</td> <td>    0.413</td> <td>    0.434</td>\n",
              "</tr>\n",
              "<tr>\n",
              "  <th>recency</th>                            <td>    0.0387</td> <td>    0.036</td> <td>    1.086</td> <td> 0.277</td> <td>   -0.031</td> <td>    0.109</td>\n",
              "</tr>\n",
              "<tr>\n",
              "  <th>displacement</th>                       <td>   -0.0250</td> <td>    0.029</td> <td>   -0.862</td> <td> 0.389</td> <td>   -0.082</td> <td>    0.032</td>\n",
              "</tr>\n",
              "<tr>\n",
              "  <th>Time</th>                               <td>    0.7163</td> <td>    0.016</td> <td>   43.508</td> <td> 0.000</td> <td>    0.684</td> <td>    0.749</td>\n",
              "</tr>\n",
              "<tr>\n",
              "  <th>category_food_dining</th>               <td>   -0.3879</td> <td>    0.105</td> <td>   -3.706</td> <td> 0.000</td> <td>   -0.593</td> <td>   -0.183</td>\n",
              "</tr>\n",
              "<tr>\n",
              "  <th>category_gas_transport</th>             <td>    1.9510</td> <td>    0.082</td> <td>   23.846</td> <td> 0.000</td> <td>    1.791</td> <td>    2.111</td>\n",
              "</tr>\n",
              "<tr>\n",
              "  <th>category_grocery_net</th>               <td>    1.5267</td> <td>    0.112</td> <td>   13.613</td> <td> 0.000</td> <td>    1.307</td> <td>    1.746</td>\n",
              "</tr>\n",
              "<tr>\n",
              "  <th>category_grocery_pos</th>               <td>    2.8371</td> <td>    0.074</td> <td>   38.111</td> <td> 0.000</td> <td>    2.691</td> <td>    2.983</td>\n",
              "</tr>\n",
              "<tr>\n",
              "  <th>category_health_fitness</th>            <td>   -0.5328</td> <td>    0.109</td> <td>   -4.893</td> <td> 0.000</td> <td>   -0.746</td> <td>   -0.319</td>\n",
              "</tr>\n",
              "<tr>\n",
              "  <th>category_home</th>                      <td>   -0.4951</td> <td>    0.097</td> <td>   -5.110</td> <td> 0.000</td> <td>   -0.685</td> <td>   -0.305</td>\n",
              "</tr>\n",
              "<tr>\n",
              "  <th>category_kids_pets</th>                 <td>   -0.2073</td> <td>    0.092</td> <td>   -2.245</td> <td> 0.025</td> <td>   -0.388</td> <td>   -0.026</td>\n",
              "</tr>\n",
              "<tr>\n",
              "  <th>category_misc_net</th>                  <td>    2.2242</td> <td>    0.076</td> <td>   29.337</td> <td> 0.000</td> <td>    2.076</td> <td>    2.373</td>\n",
              "</tr>\n",
              "<tr>\n",
              "  <th>category_misc_pos</th>                  <td>    0.4956</td> <td>    0.092</td> <td>    5.367</td> <td> 0.000</td> <td>    0.315</td> <td>    0.677</td>\n",
              "</tr>\n",
              "<tr>\n",
              "  <th>category_personal_care</th>             <td>   -0.0344</td> <td>    0.094</td> <td>   -0.365</td> <td> 0.715</td> <td>   -0.219</td> <td>    0.150</td>\n",
              "</tr>\n",
              "<tr>\n",
              "  <th>category_shopping_net</th>              <td>    1.6448</td> <td>    0.072</td> <td>   22.735</td> <td> 0.000</td> <td>    1.503</td> <td>    1.787</td>\n",
              "</tr>\n",
              "<tr>\n",
              "  <th>category_shopping_pos</th>              <td>    0.6863</td> <td>    0.078</td> <td>    8.803</td> <td> 0.000</td> <td>    0.533</td> <td>    0.839</td>\n",
              "</tr>\n",
              "<tr>\n",
              "  <th>category_travel</th>                    <td>   -6.2249</td> <td>    0.327</td> <td>  -19.064</td> <td> 0.000</td> <td>   -6.865</td> <td>   -5.585</td>\n",
              "</tr>\n",
              "<tr>\n",
              "  <th>gender_M</th>                           <td>    0.3241</td> <td>    0.025</td> <td>   13.112</td> <td> 0.000</td> <td>    0.276</td> <td>    0.373</td>\n",
              "</tr>\n",
              "<tr>\n",
              "  <th>recency_segment_After 6 hours</th>      <td>    0.3901</td> <td>    0.125</td> <td>    3.120</td> <td> 0.002</td> <td>    0.145</td> <td>    0.635</td>\n",
              "</tr>\n",
              "<tr>\n",
              "  <th>recency_segment_After Half-Day</th>     <td>    1.1960</td> <td>    0.106</td> <td>   11.292</td> <td> 0.000</td> <td>    0.988</td> <td>    1.404</td>\n",
              "</tr>\n",
              "<tr>\n",
              "  <th>recency_segment_First Transaction</th>  <td>    3.7935</td> <td>    0.189</td> <td>   20.025</td> <td> 0.000</td> <td>    3.422</td> <td>    4.165</td>\n",
              "</tr>\n",
              "<tr>\n",
              "  <th>recency_segment_Recent_Transaction</th> <td>    2.0405</td> <td>    0.138</td> <td>   14.738</td> <td> 0.000</td> <td>    1.769</td> <td>    2.312</td>\n",
              "</tr>\n",
              "<tr>\n",
              "  <th>recency_segment_Within 6 hours</th>     <td>    0.6942</td> <td>    0.133</td> <td>    5.214</td> <td> 0.000</td> <td>    0.433</td> <td>    0.955</td>\n",
              "</tr>\n",
              "<tr>\n",
              "  <th>city_pop_segment_Densely populated</th> <td>   -0.0570</td> <td>    0.045</td> <td>   -1.260</td> <td> 0.208</td> <td>   -0.146</td> <td>    0.032</td>\n",
              "</tr>\n",
              "<tr>\n",
              "  <th>city_pop_segment_Less Dense</th>        <td>    0.0464</td> <td>    0.038</td> <td>    1.208</td> <td> 0.227</td> <td>   -0.029</td> <td>    0.122</td>\n",
              "</tr>\n",
              "<tr>\n",
              "  <th>location_Long Distance</th>             <td>    0.0226</td> <td>    0.046</td> <td>    0.490</td> <td> 0.624</td> <td>   -0.068</td> <td>    0.113</td>\n",
              "</tr>\n",
              "<tr>\n",
              "  <th>location_Nearby</th>                    <td>   -0.0991</td> <td>    0.054</td> <td>   -1.823</td> <td> 0.068</td> <td>   -0.206</td> <td>    0.007</td>\n",
              "</tr>\n",
              "</table>"
            ],
            "text/plain": [
              "<class 'statsmodels.iolib.summary.Summary'>\n",
              "\"\"\"\n",
              "                 Generalized Linear Model Regression Results                  \n",
              "==============================================================================\n",
              "Dep. Variable:               is_fraud   No. Observations:              1296675\n",
              "Model:                            GLM   Df Residuals:                  1296647\n",
              "Model Family:                Binomial   Df Model:                           27\n",
              "Link Function:                  Logit   Scale:                          1.0000\n",
              "Method:                          IRLS   Log-Likelihood:                -35796.\n",
              "Date:                Tue, 15 Mar 2022   Deviance:                       71592.\n",
              "Time:                        12:09:49   Pearson chi2:                 2.32e+16\n",
              "No. Iterations:                    12   Pseudo R-squ. (CS):            0.01585\n",
              "Covariance Type:            nonrobust                                         \n",
              "======================================================================================================\n",
              "                                         coef    std err          z      P>|z|      [0.025      0.975]\n",
              "------------------------------------------------------------------------------------------------------\n",
              "const                                 -7.7486      0.141    -54.827      0.000      -8.026      -7.472\n",
              "amt                                    0.4236      0.005     77.804      0.000       0.413       0.434\n",
              "recency                                0.0387      0.036      1.086      0.277      -0.031       0.109\n",
              "displacement                          -0.0250      0.029     -0.862      0.389      -0.082       0.032\n",
              "Time                                   0.7163      0.016     43.508      0.000       0.684       0.749\n",
              "category_food_dining                  -0.3879      0.105     -3.706      0.000      -0.593      -0.183\n",
              "category_gas_transport                 1.9510      0.082     23.846      0.000       1.791       2.111\n",
              "category_grocery_net                   1.5267      0.112     13.613      0.000       1.307       1.746\n",
              "category_grocery_pos                   2.8371      0.074     38.111      0.000       2.691       2.983\n",
              "category_health_fitness               -0.5328      0.109     -4.893      0.000      -0.746      -0.319\n",
              "category_home                         -0.4951      0.097     -5.110      0.000      -0.685      -0.305\n",
              "category_kids_pets                    -0.2073      0.092     -2.245      0.025      -0.388      -0.026\n",
              "category_misc_net                      2.2242      0.076     29.337      0.000       2.076       2.373\n",
              "category_misc_pos                      0.4956      0.092      5.367      0.000       0.315       0.677\n",
              "category_personal_care                -0.0344      0.094     -0.365      0.715      -0.219       0.150\n",
              "category_shopping_net                  1.6448      0.072     22.735      0.000       1.503       1.787\n",
              "category_shopping_pos                  0.6863      0.078      8.803      0.000       0.533       0.839\n",
              "category_travel                       -6.2249      0.327    -19.064      0.000      -6.865      -5.585\n",
              "gender_M                               0.3241      0.025     13.112      0.000       0.276       0.373\n",
              "recency_segment_After 6 hours          0.3901      0.125      3.120      0.002       0.145       0.635\n",
              "recency_segment_After Half-Day         1.1960      0.106     11.292      0.000       0.988       1.404\n",
              "recency_segment_First Transaction      3.7935      0.189     20.025      0.000       3.422       4.165\n",
              "recency_segment_Recent_Transaction     2.0405      0.138     14.738      0.000       1.769       2.312\n",
              "recency_segment_Within 6 hours         0.6942      0.133      5.214      0.000       0.433       0.955\n",
              "city_pop_segment_Densely populated    -0.0570      0.045     -1.260      0.208      -0.146       0.032\n",
              "city_pop_segment_Less Dense            0.0464      0.038      1.208      0.227      -0.029       0.122\n",
              "location_Long Distance                 0.0226      0.046      0.490      0.624      -0.068       0.113\n",
              "location_Nearby                       -0.0991      0.054     -1.823      0.068      -0.206       0.007\n",
              "======================================================================================================\n",
              "\"\"\""
            ]
          },
          "execution_count": 109,
          "metadata": {},
          "output_type": "execute_result"
        }
      ],
      "source": [
        "res = model1.fit()\n",
        "res.summary()"
      ]
    },
    {
      "cell_type": "code",
      "execution_count": null,
      "id": "8c9bfe4c",
      "metadata": {
        "execution": {
          "iopub.execute_input": "2022-03-15T12:09:50.873981Z",
          "iopub.status.busy": "2022-03-15T12:09:50.873371Z",
          "iopub.status.idle": "2022-03-15T12:09:51.035013Z",
          "shell.execute_reply": "2022-03-15T12:09:51.034419Z",
          "shell.execute_reply.started": "2022-03-15T12:01:36.515547Z"
        },
        "id": "8c9bfe4c",
        "papermill": {
          "duration": 0.404358,
          "end_time": "2022-03-15T12:09:51.035160",
          "exception": false,
          "start_time": "2022-03-15T12:09:50.630802",
          "status": "completed"
        },
        "tags": []
      },
      "outputs": [],
      "source": [
        "from sklearn.feature_selection import RFE\n",
        "from sklearn.linear_model import LogisticRegression"
      ]
    },
    {
      "cell_type": "code",
      "execution_count": null,
      "id": "83bb346f",
      "metadata": {
        "execution": {
          "iopub.execute_input": "2022-03-15T12:09:51.524877Z",
          "iopub.status.busy": "2022-03-15T12:09:51.524276Z",
          "iopub.status.idle": "2022-03-15T12:11:37.760776Z",
          "shell.execute_reply": "2022-03-15T12:11:37.761733Z",
          "shell.execute_reply.started": "2022-03-15T12:01:36.715490Z"
        },
        "id": "83bb346f",
        "papermill": {
          "duration": 106.484228,
          "end_time": "2022-03-15T12:11:37.762045",
          "exception": false,
          "start_time": "2022-03-15T12:09:51.277817",
          "status": "completed"
        },
        "tags": []
      },
      "outputs": [],
      "source": [
        "logreg = LogisticRegression()\n",
        "rfe = RFE(estimator = logreg, n_features_to_select= 22)\n",
        "rfe_res = rfe.fit(x,y)"
      ]
    },
    {
      "cell_type": "code",
      "execution_count": null,
      "id": "ddeb08d5",
      "metadata": {
        "execution": {
          "iopub.execute_input": "2022-03-15T12:11:38.298697Z",
          "iopub.status.busy": "2022-03-15T12:11:38.297942Z",
          "iopub.status.idle": "2022-03-15T12:11:38.301139Z",
          "shell.execute_reply": "2022-03-15T12:11:38.301613Z",
          "shell.execute_reply.started": "2022-03-15T12:03:48.216436Z"
        },
        "id": "ddeb08d5",
        "outputId": "bb0aef04-d05a-4fcb-9e24-0a4645a8616b",
        "papermill": {
          "duration": 0.251139,
          "end_time": "2022-03-15T12:11:38.301794",
          "exception": false,
          "start_time": "2022-03-15T12:11:38.050655",
          "status": "completed"
        },
        "tags": []
      },
      "outputs": [
        {
          "data": {
            "text/plain": [
              "Index(['amt', 'Time', 'category_food_dining', 'category_gas_transport',\n",
              "       'category_grocery_net', 'category_grocery_pos',\n",
              "       'category_health_fitness', 'category_home', 'category_kids_pets',\n",
              "       'category_misc_net', 'category_misc_pos', 'category_shopping_net',\n",
              "       'category_shopping_pos', 'category_travel', 'gender_M',\n",
              "       'recency_segment_After 6 hours', 'recency_segment_After Half-Day',\n",
              "       'recency_segment_First Transaction',\n",
              "       'recency_segment_Recent_Transaction', 'recency_segment_Within 6 hours',\n",
              "       'city_pop_segment_Densely populated', 'location_Nearby'],\n",
              "      dtype='object')"
            ]
          },
          "execution_count": 112,
          "metadata": {},
          "output_type": "execute_result"
        }
      ],
      "source": [
        "x.columns[rfe_res.support_]"
      ]
    },
    {
      "cell_type": "code",
      "execution_count": null,
      "id": "af6d273d",
      "metadata": {
        "execution": {
          "iopub.execute_input": "2022-03-15T12:11:38.776304Z",
          "iopub.status.busy": "2022-03-15T12:11:38.775356Z",
          "iopub.status.idle": "2022-03-15T12:11:38.782499Z",
          "shell.execute_reply": "2022-03-15T12:11:38.783053Z",
          "shell.execute_reply.started": "2022-03-15T12:03:48.226787Z"
        },
        "id": "af6d273d",
        "outputId": "d24c870b-8318-45ce-b19e-e2d0ff91ff7f",
        "papermill": {
          "duration": 0.244937,
          "end_time": "2022-03-15T12:11:38.783199",
          "exception": false,
          "start_time": "2022-03-15T12:11:38.538262",
          "status": "completed"
        },
        "tags": []
      },
      "outputs": [
        {
          "data": {
            "text/plain": [
              "[('amt', True, 1),\n",
              " ('recency', False, 6),\n",
              " ('displacement', False, 4),\n",
              " ('Time', True, 1),\n",
              " ('category_food_dining', True, 1),\n",
              " ('category_gas_transport', True, 1),\n",
              " ('category_grocery_net', True, 1),\n",
              " ('category_grocery_pos', True, 1),\n",
              " ('category_health_fitness', True, 1),\n",
              " ('category_home', True, 1),\n",
              " ('category_kids_pets', True, 1),\n",
              " ('category_misc_net', True, 1),\n",
              " ('category_misc_pos', True, 1),\n",
              " ('category_personal_care', False, 2),\n",
              " ('category_shopping_net', True, 1),\n",
              " ('category_shopping_pos', True, 1),\n",
              " ('category_travel', True, 1),\n",
              " ('gender_M', True, 1),\n",
              " ('recency_segment_After 6 hours', True, 1),\n",
              " ('recency_segment_After Half-Day', True, 1),\n",
              " ('recency_segment_First Transaction', True, 1),\n",
              " ('recency_segment_Recent_Transaction', True, 1),\n",
              " ('recency_segment_Within 6 hours', True, 1),\n",
              " ('city_pop_segment_Densely populated', True, 1),\n",
              " ('city_pop_segment_Less Dense', False, 3),\n",
              " ('location_Long Distance', False, 5),\n",
              " ('location_Nearby', True, 1)]"
            ]
          },
          "execution_count": 113,
          "metadata": {},
          "output_type": "execute_result"
        }
      ],
      "source": [
        "list(zip(x.columns,rfe.support_,rfe.ranking_))"
      ]
    },
    {
      "cell_type": "code",
      "execution_count": null,
      "id": "35871068",
      "metadata": {
        "execution": {
          "iopub.execute_input": "2022-03-15T12:11:39.262877Z",
          "iopub.status.busy": "2022-03-15T12:11:39.262053Z",
          "iopub.status.idle": "2022-03-15T12:11:39.265400Z",
          "shell.execute_reply": "2022-03-15T12:11:39.265846Z",
          "shell.execute_reply.started": "2022-03-15T12:03:48.246223Z"
        },
        "id": "35871068",
        "papermill": {
          "duration": 0.242911,
          "end_time": "2022-03-15T12:11:39.266018",
          "exception": false,
          "start_time": "2022-03-15T12:11:39.023107",
          "status": "completed"
        },
        "tags": []
      },
      "outputs": [],
      "source": [
        "cols = x.columns[rfe_res.support_]"
      ]
    },
    {
      "cell_type": "code",
      "execution_count": null,
      "id": "bb0d3097",
      "metadata": {
        "execution": {
          "iopub.execute_input": "2022-03-15T12:11:40.254348Z",
          "iopub.status.busy": "2022-03-15T12:11:40.253390Z",
          "iopub.status.idle": "2022-03-15T12:11:56.996096Z",
          "shell.execute_reply": "2022-03-15T12:11:56.996652Z",
          "shell.execute_reply.started": "2022-03-15T12:03:48.256683Z"
        },
        "id": "bb0d3097",
        "outputId": "bab2b53a-d203-4946-adb5-9f225854ae11",
        "papermill": {
          "duration": 16.985909,
          "end_time": "2022-03-15T12:11:56.996841",
          "exception": false,
          "start_time": "2022-03-15T12:11:40.010932",
          "status": "completed"
        },
        "tags": []
      },
      "outputs": [
        {
          "data": {
            "text/html": [
              "<table class=\"simpletable\">\n",
              "<caption>Generalized Linear Model Regression Results</caption>\n",
              "<tr>\n",
              "  <th>Dep. Variable:</th>       <td>is_fraud</td>     <th>  No. Observations:  </th>  <td>1296675</td>\n",
              "</tr>\n",
              "<tr>\n",
              "  <th>Model:</th>                  <td>GLM</td>       <th>  Df Residuals:      </th>  <td>1296652</td>\n",
              "</tr>\n",
              "<tr>\n",
              "  <th>Model Family:</th>        <td>Binomial</td>     <th>  Df Model:          </th>  <td>    22</td> \n",
              "</tr>\n",
              "<tr>\n",
              "  <th>Link Function:</th>         <td>Logit</td>      <th>  Scale:             </th> <td>  1.0000</td>\n",
              "</tr>\n",
              "<tr>\n",
              "  <th>Method:</th>                <td>IRLS</td>       <th>  Log-Likelihood:    </th> <td> -35798.</td>\n",
              "</tr>\n",
              "<tr>\n",
              "  <th>Date:</th>            <td>Tue, 15 Mar 2022</td> <th>  Deviance:          </th> <td>  71596.</td>\n",
              "</tr>\n",
              "<tr>\n",
              "  <th>Time:</th>                <td>12:11:56</td>     <th>  Pearson chi2:      </th> <td>2.32e+16</td>\n",
              "</tr>\n",
              "<tr>\n",
              "  <th>No. Iterations:</th>         <td>12</td>        <th>  Pseudo R-squ. (CS):</th>  <td>0.01585</td>\n",
              "</tr>\n",
              "<tr>\n",
              "  <th>Covariance Type:</th>     <td>nonrobust</td>    <th>                     </th>     <td> </td>   \n",
              "</tr>\n",
              "</table>\n",
              "<table class=\"simpletable\">\n",
              "<tr>\n",
              "                   <td></td>                     <th>coef</th>     <th>std err</th>      <th>z</th>      <th>P>|z|</th>  <th>[0.025</th>    <th>0.975]</th>  \n",
              "</tr>\n",
              "<tr>\n",
              "  <th>const</th>                              <td>   -7.6190</td> <td>    0.087</td> <td>  -87.823</td> <td> 0.000</td> <td>   -7.789</td> <td>   -7.449</td>\n",
              "</tr>\n",
              "<tr>\n",
              "  <th>amt</th>                                <td>    0.4236</td> <td>    0.005</td> <td>   77.828</td> <td> 0.000</td> <td>    0.413</td> <td>    0.434</td>\n",
              "</tr>\n",
              "<tr>\n",
              "  <th>Time</th>                               <td>    0.7157</td> <td>    0.016</td> <td>   43.481</td> <td> 0.000</td> <td>    0.683</td> <td>    0.748</td>\n",
              "</tr>\n",
              "<tr>\n",
              "  <th>category_food_dining</th>               <td>   -0.3713</td> <td>    0.094</td> <td>   -3.944</td> <td> 0.000</td> <td>   -0.556</td> <td>   -0.187</td>\n",
              "</tr>\n",
              "<tr>\n",
              "  <th>category_gas_transport</th>             <td>    1.9677</td> <td>    0.068</td> <td>   28.907</td> <td> 0.000</td> <td>    1.834</td> <td>    2.101</td>\n",
              "</tr>\n",
              "<tr>\n",
              "  <th>category_grocery_net</th>               <td>    1.5397</td> <td>    0.103</td> <td>   15.022</td> <td> 0.000</td> <td>    1.339</td> <td>    1.741</td>\n",
              "</tr>\n",
              "<tr>\n",
              "  <th>category_grocery_pos</th>               <td>    2.8527</td> <td>    0.059</td> <td>   48.363</td> <td> 0.000</td> <td>    2.737</td> <td>    2.968</td>\n",
              "</tr>\n",
              "<tr>\n",
              "  <th>category_health_fitness</th>            <td>   -0.5157</td> <td>    0.099</td> <td>   -5.220</td> <td> 0.000</td> <td>   -0.709</td> <td>   -0.322</td>\n",
              "</tr>\n",
              "<tr>\n",
              "  <th>category_home</th>                      <td>   -0.4782</td> <td>    0.085</td> <td>   -5.602</td> <td> 0.000</td> <td>   -0.646</td> <td>   -0.311</td>\n",
              "</tr>\n",
              "<tr>\n",
              "  <th>category_kids_pets</th>                 <td>   -0.1906</td> <td>    0.080</td> <td>   -2.378</td> <td> 0.017</td> <td>   -0.348</td> <td>   -0.034</td>\n",
              "</tr>\n",
              "<tr>\n",
              "  <th>category_misc_net</th>                  <td>    2.2407</td> <td>    0.061</td> <td>   36.968</td> <td> 0.000</td> <td>    2.122</td> <td>    2.360</td>\n",
              "</tr>\n",
              "<tr>\n",
              "  <th>category_misc_pos</th>                  <td>    0.5114</td> <td>    0.080</td> <td>    6.371</td> <td> 0.000</td> <td>    0.354</td> <td>    0.669</td>\n",
              "</tr>\n",
              "<tr>\n",
              "  <th>category_shopping_net</th>              <td>    1.6594</td> <td>    0.056</td> <td>   29.586</td> <td> 0.000</td> <td>    1.549</td> <td>    1.769</td>\n",
              "</tr>\n",
              "<tr>\n",
              "  <th>category_shopping_pos</th>              <td>    0.7005</td> <td>    0.063</td> <td>   11.088</td> <td> 0.000</td> <td>    0.577</td> <td>    0.824</td>\n",
              "</tr>\n",
              "<tr>\n",
              "  <th>category_travel</th>                    <td>   -6.2082</td> <td>    0.323</td> <td>  -19.192</td> <td> 0.000</td> <td>   -6.842</td> <td>   -5.574</td>\n",
              "</tr>\n",
              "<tr>\n",
              "  <th>gender_M</th>                           <td>    0.3235</td> <td>    0.025</td> <td>   13.099</td> <td> 0.000</td> <td>    0.275</td> <td>    0.372</td>\n",
              "</tr>\n",
              "<tr>\n",
              "  <th>recency_segment_After 6 hours</th>      <td>    0.2891</td> <td>    0.081</td> <td>    3.550</td> <td> 0.000</td> <td>    0.129</td> <td>    0.449</td>\n",
              "</tr>\n",
              "<tr>\n",
              "  <th>recency_segment_After Half-Day</th>     <td>    1.1196</td> <td>    0.077</td> <td>   14.450</td> <td> 0.000</td> <td>    0.968</td> <td>    1.271</td>\n",
              "</tr>\n",
              "<tr>\n",
              "  <th>recency_segment_First Transaction</th>  <td>    3.6655</td> <td>    0.148</td> <td>   24.753</td> <td> 0.000</td> <td>    3.375</td> <td>    3.956</td>\n",
              "</tr>\n",
              "<tr>\n",
              "  <th>recency_segment_Recent_Transaction</th> <td>    1.9156</td> <td>    0.074</td> <td>   25.838</td> <td> 0.000</td> <td>    1.770</td> <td>    2.061</td>\n",
              "</tr>\n",
              "<tr>\n",
              "  <th>recency_segment_Within 6 hours</th>     <td>    0.5769</td> <td>    0.075</td> <td>    7.672</td> <td> 0.000</td> <td>    0.429</td> <td>    0.724</td>\n",
              "</tr>\n",
              "<tr>\n",
              "  <th>city_pop_segment_Densely populated</th> <td>   -0.0959</td> <td>    0.032</td> <td>   -3.041</td> <td> 0.002</td> <td>   -0.158</td> <td>   -0.034</td>\n",
              "</tr>\n",
              "<tr>\n",
              "  <th>location_Nearby</th>                    <td>   -0.0616</td> <td>    0.037</td> <td>   -1.659</td> <td> 0.097</td> <td>   -0.134</td> <td>    0.011</td>\n",
              "</tr>\n",
              "</table>"
            ],
            "text/plain": [
              "<class 'statsmodels.iolib.summary.Summary'>\n",
              "\"\"\"\n",
              "                 Generalized Linear Model Regression Results                  \n",
              "==============================================================================\n",
              "Dep. Variable:               is_fraud   No. Observations:              1296675\n",
              "Model:                            GLM   Df Residuals:                  1296652\n",
              "Model Family:                Binomial   Df Model:                           22\n",
              "Link Function:                  Logit   Scale:                          1.0000\n",
              "Method:                          IRLS   Log-Likelihood:                -35798.\n",
              "Date:                Tue, 15 Mar 2022   Deviance:                       71596.\n",
              "Time:                        12:11:56   Pearson chi2:                 2.32e+16\n",
              "No. Iterations:                    12   Pseudo R-squ. (CS):            0.01585\n",
              "Covariance Type:            nonrobust                                         \n",
              "======================================================================================================\n",
              "                                         coef    std err          z      P>|z|      [0.025      0.975]\n",
              "------------------------------------------------------------------------------------------------------\n",
              "const                                 -7.6190      0.087    -87.823      0.000      -7.789      -7.449\n",
              "amt                                    0.4236      0.005     77.828      0.000       0.413       0.434\n",
              "Time                                   0.7157      0.016     43.481      0.000       0.683       0.748\n",
              "category_food_dining                  -0.3713      0.094     -3.944      0.000      -0.556      -0.187\n",
              "category_gas_transport                 1.9677      0.068     28.907      0.000       1.834       2.101\n",
              "category_grocery_net                   1.5397      0.103     15.022      0.000       1.339       1.741\n",
              "category_grocery_pos                   2.8527      0.059     48.363      0.000       2.737       2.968\n",
              "category_health_fitness               -0.5157      0.099     -5.220      0.000      -0.709      -0.322\n",
              "category_home                         -0.4782      0.085     -5.602      0.000      -0.646      -0.311\n",
              "category_kids_pets                    -0.1906      0.080     -2.378      0.017      -0.348      -0.034\n",
              "category_misc_net                      2.2407      0.061     36.968      0.000       2.122       2.360\n",
              "category_misc_pos                      0.5114      0.080      6.371      0.000       0.354       0.669\n",
              "category_shopping_net                  1.6594      0.056     29.586      0.000       1.549       1.769\n",
              "category_shopping_pos                  0.7005      0.063     11.088      0.000       0.577       0.824\n",
              "category_travel                       -6.2082      0.323    -19.192      0.000      -6.842      -5.574\n",
              "gender_M                               0.3235      0.025     13.099      0.000       0.275       0.372\n",
              "recency_segment_After 6 hours          0.2891      0.081      3.550      0.000       0.129       0.449\n",
              "recency_segment_After Half-Day         1.1196      0.077     14.450      0.000       0.968       1.271\n",
              "recency_segment_First Transaction      3.6655      0.148     24.753      0.000       3.375       3.956\n",
              "recency_segment_Recent_Transaction     1.9156      0.074     25.838      0.000       1.770       2.061\n",
              "recency_segment_Within 6 hours         0.5769      0.075      7.672      0.000       0.429       0.724\n",
              "city_pop_segment_Densely populated    -0.0959      0.032     -3.041      0.002      -0.158      -0.034\n",
              "location_Nearby                       -0.0616      0.037     -1.659      0.097      -0.134       0.011\n",
              "======================================================================================================\n",
              "\"\"\""
            ]
          },
          "execution_count": 115,
          "metadata": {},
          "output_type": "execute_result"
        }
      ],
      "source": [
        "model2 = sm.GLM(y,sm.add_constant(x[cols]),family = sm.families.Binomial())\n",
        "res2 = model2.fit()\n",
        "res2.summary()"
      ]
    },
    {
      "cell_type": "code",
      "execution_count": null,
      "id": "488d31cb",
      "metadata": {
        "execution": {
          "iopub.execute_input": "2022-03-15T12:11:57.952598Z",
          "iopub.status.busy": "2022-03-15T12:11:57.951997Z",
          "iopub.status.idle": "2022-03-15T12:11:57.955372Z",
          "shell.execute_reply": "2022-03-15T12:11:57.956022Z",
          "shell.execute_reply.started": "2022-03-15T12:04:08.298688Z"
        },
        "id": "488d31cb",
        "papermill": {
          "duration": 0.243047,
          "end_time": "2022-03-15T12:11:57.956190",
          "exception": false,
          "start_time": "2022-03-15T12:11:57.713143",
          "status": "completed"
        },
        "tags": []
      },
      "outputs": [],
      "source": [
        "cols = cols.drop([\"recency_segment_After 6 hours\",\"location_Nearby\"],1)"
      ]
    },
    {
      "cell_type": "code",
      "execution_count": null,
      "id": "a7e0ecc7",
      "metadata": {
        "execution": {
          "iopub.execute_input": "2022-03-15T12:11:58.915800Z",
          "iopub.status.busy": "2022-03-15T12:11:58.915210Z",
          "iopub.status.idle": "2022-03-15T12:12:13.866874Z",
          "shell.execute_reply": "2022-03-15T12:12:13.867341Z",
          "shell.execute_reply.started": "2022-03-15T12:04:08.305619Z"
        },
        "id": "a7e0ecc7",
        "outputId": "fcf3afcc-6288-415f-e2a2-b94b06794ce9",
        "papermill": {
          "duration": 15.194227,
          "end_time": "2022-03-15T12:12:13.867518",
          "exception": false,
          "start_time": "2022-03-15T12:11:58.673291",
          "status": "completed"
        },
        "tags": []
      },
      "outputs": [
        {
          "data": {
            "text/html": [
              "<table class=\"simpletable\">\n",
              "<caption>Generalized Linear Model Regression Results</caption>\n",
              "<tr>\n",
              "  <th>Dep. Variable:</th>       <td>is_fraud</td>     <th>  No. Observations:  </th>  <td>1296675</td>\n",
              "</tr>\n",
              "<tr>\n",
              "  <th>Model:</th>                  <td>GLM</td>       <th>  Df Residuals:      </th>  <td>1296654</td>\n",
              "</tr>\n",
              "<tr>\n",
              "  <th>Model Family:</th>        <td>Binomial</td>     <th>  Df Model:          </th>  <td>    20</td> \n",
              "</tr>\n",
              "<tr>\n",
              "  <th>Link Function:</th>         <td>Logit</td>      <th>  Scale:             </th> <td>  1.0000</td>\n",
              "</tr>\n",
              "<tr>\n",
              "  <th>Method:</th>                <td>IRLS</td>       <th>  Log-Likelihood:    </th> <td> -35806.</td>\n",
              "</tr>\n",
              "<tr>\n",
              "  <th>Date:</th>            <td>Tue, 15 Mar 2022</td> <th>  Deviance:          </th> <td>  71611.</td>\n",
              "</tr>\n",
              "<tr>\n",
              "  <th>Time:</th>                <td>12:12:13</td>     <th>  Pearson chi2:      </th> <td>2.32e+16</td>\n",
              "</tr>\n",
              "<tr>\n",
              "  <th>No. Iterations:</th>         <td>12</td>        <th>  Pseudo R-squ. (CS):</th>  <td>0.01583</td>\n",
              "</tr>\n",
              "<tr>\n",
              "  <th>Covariance Type:</th>     <td>nonrobust</td>    <th>                     </th>     <td> </td>   \n",
              "</tr>\n",
              "</table>\n",
              "<table class=\"simpletable\">\n",
              "<tr>\n",
              "                   <td></td>                     <th>coef</th>     <th>std err</th>      <th>z</th>      <th>P>|z|</th>  <th>[0.025</th>    <th>0.975]</th>  \n",
              "</tr>\n",
              "<tr>\n",
              "  <th>const</th>                              <td>   -7.4127</td> <td>    0.060</td> <td> -123.399</td> <td> 0.000</td> <td>   -7.530</td> <td>   -7.295</td>\n",
              "</tr>\n",
              "<tr>\n",
              "  <th>amt</th>                                <td>    0.4235</td> <td>    0.005</td> <td>   77.830</td> <td> 0.000</td> <td>    0.413</td> <td>    0.434</td>\n",
              "</tr>\n",
              "<tr>\n",
              "  <th>Time</th>                               <td>    0.7160</td> <td>    0.016</td> <td>   43.516</td> <td> 0.000</td> <td>    0.684</td> <td>    0.748</td>\n",
              "</tr>\n",
              "<tr>\n",
              "  <th>category_food_dining</th>               <td>   -0.3716</td> <td>    0.094</td> <td>   -3.947</td> <td> 0.000</td> <td>   -0.556</td> <td>   -0.187</td>\n",
              "</tr>\n",
              "<tr>\n",
              "  <th>category_gas_transport</th>             <td>    1.9706</td> <td>    0.068</td> <td>   28.953</td> <td> 0.000</td> <td>    1.837</td> <td>    2.104</td>\n",
              "</tr>\n",
              "<tr>\n",
              "  <th>category_grocery_net</th>               <td>    1.5447</td> <td>    0.102</td> <td>   15.072</td> <td> 0.000</td> <td>    1.344</td> <td>    1.746</td>\n",
              "</tr>\n",
              "<tr>\n",
              "  <th>category_grocery_pos</th>               <td>    2.8551</td> <td>    0.059</td> <td>   48.414</td> <td> 0.000</td> <td>    2.739</td> <td>    2.971</td>\n",
              "</tr>\n",
              "<tr>\n",
              "  <th>category_health_fitness</th>            <td>   -0.5158</td> <td>    0.099</td> <td>   -5.221</td> <td> 0.000</td> <td>   -0.709</td> <td>   -0.322</td>\n",
              "</tr>\n",
              "<tr>\n",
              "  <th>category_home</th>                      <td>   -0.4781</td> <td>    0.085</td> <td>   -5.602</td> <td> 0.000</td> <td>   -0.645</td> <td>   -0.311</td>\n",
              "</tr>\n",
              "<tr>\n",
              "  <th>category_kids_pets</th>                 <td>   -0.1906</td> <td>    0.080</td> <td>   -2.378</td> <td> 0.017</td> <td>   -0.348</td> <td>   -0.034</td>\n",
              "</tr>\n",
              "<tr>\n",
              "  <th>category_misc_net</th>                  <td>    2.2421</td> <td>    0.061</td> <td>   36.994</td> <td> 0.000</td> <td>    2.123</td> <td>    2.361</td>\n",
              "</tr>\n",
              "<tr>\n",
              "  <th>category_misc_pos</th>                  <td>    0.5121</td> <td>    0.080</td> <td>    6.380</td> <td> 0.000</td> <td>    0.355</td> <td>    0.669</td>\n",
              "</tr>\n",
              "<tr>\n",
              "  <th>category_shopping_net</th>              <td>    1.6605</td> <td>    0.056</td> <td>   29.607</td> <td> 0.000</td> <td>    1.551</td> <td>    1.770</td>\n",
              "</tr>\n",
              "<tr>\n",
              "  <th>category_shopping_pos</th>              <td>    0.7006</td> <td>    0.063</td> <td>   11.090</td> <td> 0.000</td> <td>    0.577</td> <td>    0.824</td>\n",
              "</tr>\n",
              "<tr>\n",
              "  <th>category_travel</th>                    <td>   -6.2040</td> <td>    0.323</td> <td>  -19.186</td> <td> 0.000</td> <td>   -6.838</td> <td>   -5.570</td>\n",
              "</tr>\n",
              "<tr>\n",
              "  <th>gender_M</th>                           <td>    0.3220</td> <td>    0.025</td> <td>   13.043</td> <td> 0.000</td> <td>    0.274</td> <td>    0.370</td>\n",
              "</tr>\n",
              "<tr>\n",
              "  <th>recency_segment_After Half-Day</th>     <td>    0.9048</td> <td>    0.046</td> <td>   19.799</td> <td> 0.000</td> <td>    0.815</td> <td>    0.994</td>\n",
              "</tr>\n",
              "<tr>\n",
              "  <th>recency_segment_First Transaction</th>  <td>    3.4496</td> <td>    0.134</td> <td>   25.708</td> <td> 0.000</td> <td>    3.187</td> <td>    3.713</td>\n",
              "</tr>\n",
              "<tr>\n",
              "  <th>recency_segment_Recent_Transaction</th> <td>    1.7009</td> <td>    0.040</td> <td>   42.723</td> <td> 0.000</td> <td>    1.623</td> <td>    1.779</td>\n",
              "</tr>\n",
              "<tr>\n",
              "  <th>recency_segment_Within 6 hours</th>     <td>    0.3620</td> <td>    0.042</td> <td>    8.683</td> <td> 0.000</td> <td>    0.280</td> <td>    0.444</td>\n",
              "</tr>\n",
              "<tr>\n",
              "  <th>city_pop_segment_Densely populated</th> <td>   -0.0959</td> <td>    0.032</td> <td>   -3.041</td> <td> 0.002</td> <td>   -0.158</td> <td>   -0.034</td>\n",
              "</tr>\n",
              "</table>"
            ],
            "text/plain": [
              "<class 'statsmodels.iolib.summary.Summary'>\n",
              "\"\"\"\n",
              "                 Generalized Linear Model Regression Results                  \n",
              "==============================================================================\n",
              "Dep. Variable:               is_fraud   No. Observations:              1296675\n",
              "Model:                            GLM   Df Residuals:                  1296654\n",
              "Model Family:                Binomial   Df Model:                           20\n",
              "Link Function:                  Logit   Scale:                          1.0000\n",
              "Method:                          IRLS   Log-Likelihood:                -35806.\n",
              "Date:                Tue, 15 Mar 2022   Deviance:                       71611.\n",
              "Time:                        12:12:13   Pearson chi2:                 2.32e+16\n",
              "No. Iterations:                    12   Pseudo R-squ. (CS):            0.01583\n",
              "Covariance Type:            nonrobust                                         \n",
              "======================================================================================================\n",
              "                                         coef    std err          z      P>|z|      [0.025      0.975]\n",
              "------------------------------------------------------------------------------------------------------\n",
              "const                                 -7.4127      0.060   -123.399      0.000      -7.530      -7.295\n",
              "amt                                    0.4235      0.005     77.830      0.000       0.413       0.434\n",
              "Time                                   0.7160      0.016     43.516      0.000       0.684       0.748\n",
              "category_food_dining                  -0.3716      0.094     -3.947      0.000      -0.556      -0.187\n",
              "category_gas_transport                 1.9706      0.068     28.953      0.000       1.837       2.104\n",
              "category_grocery_net                   1.5447      0.102     15.072      0.000       1.344       1.746\n",
              "category_grocery_pos                   2.8551      0.059     48.414      0.000       2.739       2.971\n",
              "category_health_fitness               -0.5158      0.099     -5.221      0.000      -0.709      -0.322\n",
              "category_home                         -0.4781      0.085     -5.602      0.000      -0.645      -0.311\n",
              "category_kids_pets                    -0.1906      0.080     -2.378      0.017      -0.348      -0.034\n",
              "category_misc_net                      2.2421      0.061     36.994      0.000       2.123       2.361\n",
              "category_misc_pos                      0.5121      0.080      6.380      0.000       0.355       0.669\n",
              "category_shopping_net                  1.6605      0.056     29.607      0.000       1.551       1.770\n",
              "category_shopping_pos                  0.7006      0.063     11.090      0.000       0.577       0.824\n",
              "category_travel                       -6.2040      0.323    -19.186      0.000      -6.838      -5.570\n",
              "gender_M                               0.3220      0.025     13.043      0.000       0.274       0.370\n",
              "recency_segment_After Half-Day         0.9048      0.046     19.799      0.000       0.815       0.994\n",
              "recency_segment_First Transaction      3.4496      0.134     25.708      0.000       3.187       3.713\n",
              "recency_segment_Recent_Transaction     1.7009      0.040     42.723      0.000       1.623       1.779\n",
              "recency_segment_Within 6 hours         0.3620      0.042      8.683      0.000       0.280       0.444\n",
              "city_pop_segment_Densely populated    -0.0959      0.032     -3.041      0.002      -0.158      -0.034\n",
              "======================================================================================================\n",
              "\"\"\""
            ]
          },
          "execution_count": 117,
          "metadata": {},
          "output_type": "execute_result"
        }
      ],
      "source": [
        "model3 = sm.GLM(y,sm.add_constant(x[cols]),family = sm.families.Binomial())\n",
        "res3 = model3.fit()\n",
        "res3.summary()"
      ]
    },
    {
      "cell_type": "code",
      "execution_count": null,
      "id": "43fb57bd",
      "metadata": {
        "execution": {
          "iopub.execute_input": "2022-03-15T12:12:15.364084Z",
          "iopub.status.busy": "2022-03-15T12:12:15.363191Z",
          "iopub.status.idle": "2022-03-15T12:12:15.369219Z",
          "shell.execute_reply": "2022-03-15T12:12:15.369732Z",
          "shell.execute_reply.started": "2022-03-15T12:04:26.997580Z"
        },
        "id": "43fb57bd",
        "papermill": {
          "duration": 0.275084,
          "end_time": "2022-03-15T12:12:15.369899",
          "exception": false,
          "start_time": "2022-03-15T12:12:15.094815",
          "status": "completed"
        },
        "tags": []
      },
      "outputs": [],
      "source": [
        "from statsmodels.stats.outliers_influence import variance_inflation_factor"
      ]
    },
    {
      "cell_type": "code",
      "execution_count": null,
      "id": "719fdb67",
      "metadata": {
        "execution": {
          "iopub.execute_input": "2022-03-15T12:12:15.854453Z",
          "iopub.status.busy": "2022-03-15T12:12:15.853770Z",
          "iopub.status.idle": "2022-03-15T12:13:13.845178Z",
          "shell.execute_reply": "2022-03-15T12:13:13.846141Z",
          "shell.execute_reply.started": "2022-03-15T12:04:27.006388Z"
        },
        "id": "719fdb67",
        "papermill": {
          "duration": 58.234812,
          "end_time": "2022-03-15T12:13:13.846430",
          "exception": false,
          "start_time": "2022-03-15T12:12:15.611618",
          "status": "completed"
        },
        "tags": []
      },
      "outputs": [],
      "source": [
        "vif = pd.DataFrame({\"Features\":cols})\n",
        "vif[\"VIF\"] = [variance_inflation_factor(x[cols].values,i) for i in range(x[cols].shape[1])]\n",
        "vif = vif.sort_values(by=\"VIF\",ascending = False)"
      ]
    },
    {
      "cell_type": "code",
      "execution_count": null,
      "id": "4ddf7996",
      "metadata": {
        "execution": {
          "iopub.execute_input": "2022-03-15T12:13:14.419724Z",
          "iopub.status.busy": "2022-03-15T12:13:14.418926Z",
          "iopub.status.idle": "2022-03-15T12:13:14.424188Z",
          "shell.execute_reply": "2022-03-15T12:13:14.424736Z",
          "shell.execute_reply.started": "2022-03-15T12:05:39.841961Z"
        },
        "id": "4ddf7996",
        "outputId": "19d9d64a-40ac-42b3-802f-3071fa534555",
        "papermill": {
          "duration": 0.269959,
          "end_time": "2022-03-15T12:13:14.424901",
          "exception": false,
          "start_time": "2022-03-15T12:13:14.154942",
          "status": "completed"
        },
        "tags": []
      },
      "outputs": [
        {
          "data": {
            "text/html": [
              "<div>\n",
              "<style scoped>\n",
              "    .dataframe tbody tr th:only-of-type {\n",
              "        vertical-align: middle;\n",
              "    }\n",
              "\n",
              "    .dataframe tbody tr th {\n",
              "        vertical-align: top;\n",
              "    }\n",
              "\n",
              "    .dataframe thead th {\n",
              "        text-align: right;\n",
              "    }\n",
              "</style>\n",
              "<table border=\"1\" class=\"dataframe\">\n",
              "  <thead>\n",
              "    <tr style=\"text-align: right;\">\n",
              "      <th></th>\n",
              "      <th>Features</th>\n",
              "      <th>VIF</th>\n",
              "    </tr>\n",
              "  </thead>\n",
              "  <tbody>\n",
              "    <tr>\n",
              "      <th>18</th>\n",
              "      <td>recency_segment_Within 6 hours</td>\n",
              "      <td>2.016160</td>\n",
              "    </tr>\n",
              "    <tr>\n",
              "      <th>1</th>\n",
              "      <td>Time</td>\n",
              "      <td>1.886867</td>\n",
              "    </tr>\n",
              "    <tr>\n",
              "      <th>14</th>\n",
              "      <td>gender_M</td>\n",
              "      <td>1.686097</td>\n",
              "    </tr>\n",
              "    <tr>\n",
              "      <th>3</th>\n",
              "      <td>category_gas_transport</td>\n",
              "      <td>1.523325</td>\n",
              "    </tr>\n",
              "    <tr>\n",
              "      <th>5</th>\n",
              "      <td>category_grocery_pos</td>\n",
              "      <td>1.503281</td>\n",
              "    </tr>\n",
              "    <tr>\n",
              "      <th>17</th>\n",
              "      <td>recency_segment_Recent_Transaction</td>\n",
              "      <td>1.412568</td>\n",
              "    </tr>\n",
              "    <tr>\n",
              "      <th>15</th>\n",
              "      <td>recency_segment_After Half-Day</td>\n",
              "      <td>1.360641</td>\n",
              "    </tr>\n",
              "    <tr>\n",
              "      <th>7</th>\n",
              "      <td>category_home</td>\n",
              "      <td>1.283113</td>\n",
              "    </tr>\n",
              "    <tr>\n",
              "      <th>8</th>\n",
              "      <td>category_kids_pets</td>\n",
              "      <td>1.253831</td>\n",
              "    </tr>\n",
              "    <tr>\n",
              "      <th>12</th>\n",
              "      <td>category_shopping_pos</td>\n",
              "      <td>1.237905</td>\n",
              "    </tr>\n",
              "    <tr>\n",
              "      <th>19</th>\n",
              "      <td>city_pop_segment_Densely populated</td>\n",
              "      <td>1.214209</td>\n",
              "    </tr>\n",
              "    <tr>\n",
              "      <th>11</th>\n",
              "      <td>category_shopping_net</td>\n",
              "      <td>1.205085</td>\n",
              "    </tr>\n",
              "    <tr>\n",
              "      <th>6</th>\n",
              "      <td>category_health_fitness</td>\n",
              "      <td>1.198547</td>\n",
              "    </tr>\n",
              "    <tr>\n",
              "      <th>2</th>\n",
              "      <td>category_food_dining</td>\n",
              "      <td>1.196638</td>\n",
              "    </tr>\n",
              "    <tr>\n",
              "      <th>9</th>\n",
              "      <td>category_misc_net</td>\n",
              "      <td>1.193791</td>\n",
              "    </tr>\n",
              "    <tr>\n",
              "      <th>10</th>\n",
              "      <td>category_misc_pos</td>\n",
              "      <td>1.188263</td>\n",
              "    </tr>\n",
              "    <tr>\n",
              "      <th>4</th>\n",
              "      <td>category_grocery_net</td>\n",
              "      <td>1.186603</td>\n",
              "    </tr>\n",
              "    <tr>\n",
              "      <th>13</th>\n",
              "      <td>category_travel</td>\n",
              "      <td>1.096962</td>\n",
              "    </tr>\n",
              "    <tr>\n",
              "      <th>0</th>\n",
              "      <td>amt</td>\n",
              "      <td>1.016155</td>\n",
              "    </tr>\n",
              "    <tr>\n",
              "      <th>16</th>\n",
              "      <td>recency_segment_First Transaction</td>\n",
              "      <td>1.002218</td>\n",
              "    </tr>\n",
              "  </tbody>\n",
              "</table>\n",
              "</div>"
            ],
            "text/plain": [
              "                              Features       VIF\n",
              "18      recency_segment_Within 6 hours  2.016160\n",
              "1                                 Time  1.886867\n",
              "14                            gender_M  1.686097\n",
              "3               category_gas_transport  1.523325\n",
              "5                 category_grocery_pos  1.503281\n",
              "17  recency_segment_Recent_Transaction  1.412568\n",
              "15      recency_segment_After Half-Day  1.360641\n",
              "7                        category_home  1.283113\n",
              "8                   category_kids_pets  1.253831\n",
              "12               category_shopping_pos  1.237905\n",
              "19  city_pop_segment_Densely populated  1.214209\n",
              "11               category_shopping_net  1.205085\n",
              "6              category_health_fitness  1.198547\n",
              "2                 category_food_dining  1.196638\n",
              "9                    category_misc_net  1.193791\n",
              "10                   category_misc_pos  1.188263\n",
              "4                 category_grocery_net  1.186603\n",
              "13                     category_travel  1.096962\n",
              "0                                  amt  1.016155\n",
              "16   recency_segment_First Transaction  1.002218"
            ]
          },
          "execution_count": 120,
          "metadata": {},
          "output_type": "execute_result"
        }
      ],
      "source": [
        "vif"
      ]
    },
    {
      "cell_type": "code",
      "execution_count": null,
      "id": "5a34ca30",
      "metadata": {
        "execution": {
          "iopub.execute_input": "2022-03-15T12:13:15.963002Z",
          "iopub.status.busy": "2022-03-15T12:13:15.962049Z",
          "iopub.status.idle": "2022-03-15T12:13:16.148060Z",
          "shell.execute_reply": "2022-03-15T12:13:16.149033Z",
          "shell.execute_reply.started": "2022-03-15T12:05:39.874134Z"
        },
        "id": "5a34ca30",
        "papermill": {
          "duration": 0.440904,
          "end_time": "2022-03-15T12:13:16.149297",
          "exception": false,
          "start_time": "2022-03-15T12:13:15.708393",
          "status": "completed"
        },
        "tags": []
      },
      "outputs": [],
      "source": [
        "pred = res3.predict(sm.add_constant(x[cols]))"
      ]
    },
    {
      "cell_type": "code",
      "execution_count": null,
      "id": "05a1da07",
      "metadata": {
        "execution": {
          "iopub.execute_input": "2022-03-15T12:13:16.694420Z",
          "iopub.status.busy": "2022-03-15T12:13:16.692488Z",
          "iopub.status.idle": "2022-03-15T12:13:16.698401Z",
          "shell.execute_reply": "2022-03-15T12:13:16.697901Z",
          "shell.execute_reply.started": "2022-03-15T12:05:40.152676Z"
        },
        "id": "05a1da07",
        "papermill": {
          "duration": 0.263107,
          "end_time": "2022-03-15T12:13:16.698535",
          "exception": false,
          "start_time": "2022-03-15T12:13:16.435428",
          "status": "completed"
        },
        "tags": []
      },
      "outputs": [],
      "source": [
        "predictions = pd.DataFrame({\"Actual\": y,\"Pred_Prob\" : pred})"
      ]
    },
    {
      "cell_type": "code",
      "execution_count": null,
      "id": "1f85ff82",
      "metadata": {
        "execution": {
          "iopub.execute_input": "2022-03-15T12:13:17.207413Z",
          "iopub.status.busy": "2022-03-15T12:13:17.206715Z",
          "iopub.status.idle": "2022-03-15T12:13:17.209358Z",
          "shell.execute_reply": "2022-03-15T12:13:17.209846Z",
          "shell.execute_reply.started": "2022-03-15T12:05:40.182475Z"
        },
        "id": "1f85ff82",
        "outputId": "2f0ad621-f31f-4a11-f8a9-93f54f005e3c",
        "papermill": {
          "duration": 0.26545,
          "end_time": "2022-03-15T12:13:17.210021",
          "exception": false,
          "start_time": "2022-03-15T12:13:16.944571",
          "status": "completed"
        },
        "tags": []
      },
      "outputs": [
        {
          "data": {
            "text/html": [
              "<div>\n",
              "<style scoped>\n",
              "    .dataframe tbody tr th:only-of-type {\n",
              "        vertical-align: middle;\n",
              "    }\n",
              "\n",
              "    .dataframe tbody tr th {\n",
              "        vertical-align: top;\n",
              "    }\n",
              "\n",
              "    .dataframe thead th {\n",
              "        text-align: right;\n",
              "    }\n",
              "</style>\n",
              "<table border=\"1\" class=\"dataframe\">\n",
              "  <thead>\n",
              "    <tr style=\"text-align: right;\">\n",
              "      <th></th>\n",
              "      <th>Actual</th>\n",
              "      <th>Pred_Prob</th>\n",
              "    </tr>\n",
              "  </thead>\n",
              "  <tbody>\n",
              "    <tr>\n",
              "      <th>0</th>\n",
              "      <td>0</td>\n",
              "      <td>0.037746</td>\n",
              "    </tr>\n",
              "    <tr>\n",
              "      <th>1</th>\n",
              "      <td>0</td>\n",
              "      <td>0.086650</td>\n",
              "    </tr>\n",
              "    <tr>\n",
              "      <th>2</th>\n",
              "      <td>0</td>\n",
              "      <td>0.010050</td>\n",
              "    </tr>\n",
              "    <tr>\n",
              "      <th>3</th>\n",
              "      <td>0</td>\n",
              "      <td>0.043852</td>\n",
              "    </tr>\n",
              "    <tr>\n",
              "      <th>4</th>\n",
              "      <td>0</td>\n",
              "      <td>0.010471</td>\n",
              "    </tr>\n",
              "  </tbody>\n",
              "</table>\n",
              "</div>"
            ],
            "text/plain": [
              "   Actual  Pred_Prob\n",
              "0       0   0.037746\n",
              "1       0   0.086650\n",
              "2       0   0.010050\n",
              "3       0   0.043852\n",
              "4       0   0.010471"
            ]
          },
          "execution_count": 123,
          "metadata": {},
          "output_type": "execute_result"
        }
      ],
      "source": [
        "predictions.head()"
      ]
    },
    {
      "cell_type": "code",
      "execution_count": null,
      "id": "2aa2c3aa",
      "metadata": {
        "execution": {
          "iopub.execute_input": "2022-03-15T12:13:17.746141Z",
          "iopub.status.busy": "2022-03-15T12:13:17.745442Z",
          "iopub.status.idle": "2022-03-15T12:13:31.968188Z",
          "shell.execute_reply": "2022-03-15T12:13:31.967595Z",
          "shell.execute_reply.started": "2022-03-15T12:05:40.213027Z"
        },
        "id": "2aa2c3aa",
        "papermill": {
          "duration": 14.487298,
          "end_time": "2022-03-15T12:13:31.968334",
          "exception": false,
          "start_time": "2022-03-15T12:13:17.481036",
          "status": "completed"
        },
        "tags": []
      },
      "outputs": [],
      "source": [
        "threshold = [0.01,0.02,0.03,0.04,0.05,0.06,0.07,0.08,0.09,0.1,0.2,0.3,0.4,0.5,0.6,0.7,0.8,0.9]\n",
        "\n",
        "for z in threshold:\n",
        "  predictions[z] = predictions[\"Pred_Prob\"].map(lambda x: 0 if x<z else 1)"
      ]
    },
    {
      "cell_type": "code",
      "execution_count": null,
      "id": "4109373c",
      "metadata": {
        "execution": {
          "iopub.execute_input": "2022-03-15T12:13:32.519922Z",
          "iopub.status.busy": "2022-03-15T12:13:32.519312Z",
          "iopub.status.idle": "2022-03-15T12:13:32.534476Z",
          "shell.execute_reply": "2022-03-15T12:13:32.533931Z",
          "shell.execute_reply.started": "2022-03-15T12:05:54.900528Z"
        },
        "id": "4109373c",
        "outputId": "9d5d301d-88d3-4a19-9beb-b606ad093400",
        "papermill": {
          "duration": 0.306331,
          "end_time": "2022-03-15T12:13:32.534612",
          "exception": false,
          "start_time": "2022-03-15T12:13:32.228281",
          "status": "completed"
        },
        "tags": []
      },
      "outputs": [
        {
          "data": {
            "text/html": [
              "<div>\n",
              "<style scoped>\n",
              "    .dataframe tbody tr th:only-of-type {\n",
              "        vertical-align: middle;\n",
              "    }\n",
              "\n",
              "    .dataframe tbody tr th {\n",
              "        vertical-align: top;\n",
              "    }\n",
              "\n",
              "    .dataframe thead th {\n",
              "        text-align: right;\n",
              "    }\n",
              "</style>\n",
              "<table border=\"1\" class=\"dataframe\">\n",
              "  <thead>\n",
              "    <tr style=\"text-align: right;\">\n",
              "      <th></th>\n",
              "      <th>Actual</th>\n",
              "      <th>Pred_Prob</th>\n",
              "      <th>0.01</th>\n",
              "      <th>0.02</th>\n",
              "      <th>0.03</th>\n",
              "      <th>0.04</th>\n",
              "      <th>0.05</th>\n",
              "      <th>0.06</th>\n",
              "      <th>0.07</th>\n",
              "      <th>0.08</th>\n",
              "      <th>0.09</th>\n",
              "      <th>0.1</th>\n",
              "      <th>0.2</th>\n",
              "      <th>0.3</th>\n",
              "      <th>0.4</th>\n",
              "      <th>0.5</th>\n",
              "      <th>0.6</th>\n",
              "      <th>0.7</th>\n",
              "      <th>0.8</th>\n",
              "      <th>0.9</th>\n",
              "    </tr>\n",
              "  </thead>\n",
              "  <tbody>\n",
              "    <tr>\n",
              "      <th>0</th>\n",
              "      <td>0</td>\n",
              "      <td>0.037746</td>\n",
              "      <td>1</td>\n",
              "      <td>1</td>\n",
              "      <td>1</td>\n",
              "      <td>0</td>\n",
              "      <td>0</td>\n",
              "      <td>0</td>\n",
              "      <td>0</td>\n",
              "      <td>0</td>\n",
              "      <td>0</td>\n",
              "      <td>0</td>\n",
              "      <td>0</td>\n",
              "      <td>0</td>\n",
              "      <td>0</td>\n",
              "      <td>0</td>\n",
              "      <td>0</td>\n",
              "      <td>0</td>\n",
              "      <td>0</td>\n",
              "      <td>0</td>\n",
              "    </tr>\n",
              "    <tr>\n",
              "      <th>1</th>\n",
              "      <td>0</td>\n",
              "      <td>0.086650</td>\n",
              "      <td>1</td>\n",
              "      <td>1</td>\n",
              "      <td>1</td>\n",
              "      <td>1</td>\n",
              "      <td>1</td>\n",
              "      <td>1</td>\n",
              "      <td>1</td>\n",
              "      <td>1</td>\n",
              "      <td>0</td>\n",
              "      <td>0</td>\n",
              "      <td>0</td>\n",
              "      <td>0</td>\n",
              "      <td>0</td>\n",
              "      <td>0</td>\n",
              "      <td>0</td>\n",
              "      <td>0</td>\n",
              "      <td>0</td>\n",
              "      <td>0</td>\n",
              "    </tr>\n",
              "    <tr>\n",
              "      <th>2</th>\n",
              "      <td>0</td>\n",
              "      <td>0.010050</td>\n",
              "      <td>1</td>\n",
              "      <td>0</td>\n",
              "      <td>0</td>\n",
              "      <td>0</td>\n",
              "      <td>0</td>\n",
              "      <td>0</td>\n",
              "      <td>0</td>\n",
              "      <td>0</td>\n",
              "      <td>0</td>\n",
              "      <td>0</td>\n",
              "      <td>0</td>\n",
              "      <td>0</td>\n",
              "      <td>0</td>\n",
              "      <td>0</td>\n",
              "      <td>0</td>\n",
              "      <td>0</td>\n",
              "      <td>0</td>\n",
              "      <td>0</td>\n",
              "    </tr>\n",
              "    <tr>\n",
              "      <th>3</th>\n",
              "      <td>0</td>\n",
              "      <td>0.043852</td>\n",
              "      <td>1</td>\n",
              "      <td>1</td>\n",
              "      <td>1</td>\n",
              "      <td>1</td>\n",
              "      <td>0</td>\n",
              "      <td>0</td>\n",
              "      <td>0</td>\n",
              "      <td>0</td>\n",
              "      <td>0</td>\n",
              "      <td>0</td>\n",
              "      <td>0</td>\n",
              "      <td>0</td>\n",
              "      <td>0</td>\n",
              "      <td>0</td>\n",
              "      <td>0</td>\n",
              "      <td>0</td>\n",
              "      <td>0</td>\n",
              "      <td>0</td>\n",
              "    </tr>\n",
              "    <tr>\n",
              "      <th>4</th>\n",
              "      <td>0</td>\n",
              "      <td>0.010471</td>\n",
              "      <td>1</td>\n",
              "      <td>0</td>\n",
              "      <td>0</td>\n",
              "      <td>0</td>\n",
              "      <td>0</td>\n",
              "      <td>0</td>\n",
              "      <td>0</td>\n",
              "      <td>0</td>\n",
              "      <td>0</td>\n",
              "      <td>0</td>\n",
              "      <td>0</td>\n",
              "      <td>0</td>\n",
              "      <td>0</td>\n",
              "      <td>0</td>\n",
              "      <td>0</td>\n",
              "      <td>0</td>\n",
              "      <td>0</td>\n",
              "      <td>0</td>\n",
              "    </tr>\n",
              "  </tbody>\n",
              "</table>\n",
              "</div>"
            ],
            "text/plain": [
              "   Actual  Pred_Prob  0.01  0.02  0.03  0.04  0.05  0.06  0.07  0.08  0.09  \\\n",
              "0       0   0.037746     1     1     1     0     0     0     0     0     0   \n",
              "1       0   0.086650     1     1     1     1     1     1     1     1     0   \n",
              "2       0   0.010050     1     0     0     0     0     0     0     0     0   \n",
              "3       0   0.043852     1     1     1     1     0     0     0     0     0   \n",
              "4       0   0.010471     1     0     0     0     0     0     0     0     0   \n",
              "\n",
              "   0.1  0.2  0.3  0.4  0.5  0.6  0.7  0.8  0.9  \n",
              "0    0    0    0    0    0    0    0    0    0  \n",
              "1    0    0    0    0    0    0    0    0    0  \n",
              "2    0    0    0    0    0    0    0    0    0  \n",
              "3    0    0    0    0    0    0    0    0    0  \n",
              "4    0    0    0    0    0    0    0    0    0  "
            ]
          },
          "execution_count": 125,
          "metadata": {},
          "output_type": "execute_result"
        }
      ],
      "source": [
        "predictions.head()"
      ]
    },
    {
      "cell_type": "code",
      "execution_count": null,
      "id": "c5fea413",
      "metadata": {
        "execution": {
          "iopub.execute_input": "2022-03-15T12:13:34.083796Z",
          "iopub.status.busy": "2022-03-15T12:13:34.082995Z",
          "iopub.status.idle": "2022-03-15T12:13:34.084979Z",
          "shell.execute_reply": "2022-03-15T12:13:34.085454Z",
          "shell.execute_reply.started": "2022-03-15T12:05:54.920948Z"
        },
        "id": "c5fea413",
        "papermill": {
          "duration": 0.264327,
          "end_time": "2022-03-15T12:13:34.085607",
          "exception": false,
          "start_time": "2022-03-15T12:13:33.821280",
          "status": "completed"
        },
        "tags": []
      },
      "outputs": [],
      "source": [
        "import sklearn.metrics as metrics"
      ]
    },
    {
      "cell_type": "code",
      "execution_count": null,
      "id": "8608efc7",
      "metadata": {
        "execution": {
          "iopub.execute_input": "2022-03-15T12:13:35.125063Z",
          "iopub.status.busy": "2022-03-15T12:13:35.124411Z",
          "iopub.status.idle": "2022-03-15T12:13:35.129369Z",
          "shell.execute_reply": "2022-03-15T12:13:35.129995Z",
          "shell.execute_reply.started": "2022-03-15T12:05:54.944847Z"
        },
        "id": "8608efc7",
        "papermill": {
          "duration": 0.267692,
          "end_time": "2022-03-15T12:13:35.130153",
          "exception": false,
          "start_time": "2022-03-15T12:13:34.862461",
          "status": "completed"
        },
        "tags": []
      },
      "outputs": [],
      "source": [
        "curve = pd.DataFrame(index = threshold, columns = [\"accuracy\",\"sensitivity\",\"specificity\"])"
      ]
    },
    {
      "cell_type": "code",
      "execution_count": null,
      "id": "76f57a74",
      "metadata": {
        "execution": {
          "iopub.execute_input": "2022-03-15T12:13:35.650652Z",
          "iopub.status.busy": "2022-03-15T12:13:35.650034Z",
          "iopub.status.idle": "2022-03-15T12:13:38.699055Z",
          "shell.execute_reply": "2022-03-15T12:13:38.699561Z",
          "shell.execute_reply.started": "2022-03-15T12:05:54.959139Z"
        },
        "id": "76f57a74",
        "papermill": {
          "duration": 3.315084,
          "end_time": "2022-03-15T12:13:38.699740",
          "exception": false,
          "start_time": "2022-03-15T12:13:35.384656",
          "status": "completed"
        },
        "tags": []
      },
      "outputs": [],
      "source": [
        "for y in threshold:\n",
        "  matrix = metrics.confusion_matrix(predictions.Actual,predictions[y])\n",
        "  accuracy = (matrix[1,1] + matrix[0,0])/ (matrix.sum())\n",
        "  sensitivity = (matrix[1,1])/(matrix[1,1] + matrix[1,0])\n",
        "  specificity = (matrix[0,0])/(matrix[0,0] + matrix[0,1])\n",
        "\n",
        "  curve.loc[y] = [accuracy,sensitivity,specificity]"
      ]
    },
    {
      "cell_type": "code",
      "execution_count": null,
      "id": "85e8b557",
      "metadata": {
        "execution": {
          "iopub.execute_input": "2022-03-15T12:13:39.224736Z",
          "iopub.status.busy": "2022-03-15T12:13:39.224134Z",
          "iopub.status.idle": "2022-03-15T12:13:39.227997Z",
          "shell.execute_reply": "2022-03-15T12:13:39.227481Z",
          "shell.execute_reply.started": "2022-03-15T12:05:58.832566Z"
        },
        "id": "85e8b557",
        "outputId": "4e5e297a-d6bf-4212-e973-7c2fc53e0337",
        "papermill": {
          "duration": 0.272218,
          "end_time": "2022-03-15T12:13:39.228158",
          "exception": false,
          "start_time": "2022-03-15T12:13:38.955940",
          "status": "completed"
        },
        "tags": []
      },
      "outputs": [
        {
          "data": {
            "text/html": [
              "<div>\n",
              "<style scoped>\n",
              "    .dataframe tbody tr th:only-of-type {\n",
              "        vertical-align: middle;\n",
              "    }\n",
              "\n",
              "    .dataframe tbody tr th {\n",
              "        vertical-align: top;\n",
              "    }\n",
              "\n",
              "    .dataframe thead th {\n",
              "        text-align: right;\n",
              "    }\n",
              "</style>\n",
              "<table border=\"1\" class=\"dataframe\">\n",
              "  <thead>\n",
              "    <tr style=\"text-align: right;\">\n",
              "      <th></th>\n",
              "      <th>accuracy</th>\n",
              "      <th>sensitivity</th>\n",
              "      <th>specificity</th>\n",
              "    </tr>\n",
              "  </thead>\n",
              "  <tbody>\n",
              "    <tr>\n",
              "      <th>0.01</th>\n",
              "      <td>0.89432</td>\n",
              "      <td>0.669864</td>\n",
              "      <td>0.895627</td>\n",
              "    </tr>\n",
              "    <tr>\n",
              "      <th>0.02</th>\n",
              "      <td>0.961172</td>\n",
              "      <td>0.549427</td>\n",
              "      <td>0.96357</td>\n",
              "    </tr>\n",
              "    <tr>\n",
              "      <th>0.03</th>\n",
              "      <td>0.978435</td>\n",
              "      <td>0.511058</td>\n",
              "      <td>0.981156</td>\n",
              "    </tr>\n",
              "    <tr>\n",
              "      <th>0.04</th>\n",
              "      <td>0.985558</td>\n",
              "      <td>0.463363</td>\n",
              "      <td>0.988598</td>\n",
              "    </tr>\n",
              "    <tr>\n",
              "      <th>0.05</th>\n",
              "      <td>0.989496</td>\n",
              "      <td>0.427391</td>\n",
              "      <td>0.992769</td>\n",
              "    </tr>\n",
              "    <tr>\n",
              "      <th>0.06</th>\n",
              "      <td>0.991814</td>\n",
              "      <td>0.404077</td>\n",
              "      <td>0.995236</td>\n",
              "    </tr>\n",
              "    <tr>\n",
              "      <th>0.07</th>\n",
              "      <td>0.992953</td>\n",
              "      <td>0.388223</td>\n",
              "      <td>0.996474</td>\n",
              "    </tr>\n",
              "    <tr>\n",
              "      <th>0.08</th>\n",
              "      <td>0.993528</td>\n",
              "      <td>0.373435</td>\n",
              "      <td>0.997138</td>\n",
              "    </tr>\n",
              "    <tr>\n",
              "      <th>0.09</th>\n",
              "      <td>0.993869</td>\n",
              "      <td>0.361844</td>\n",
              "      <td>0.997549</td>\n",
              "    </tr>\n",
              "    <tr>\n",
              "      <th>0.10</th>\n",
              "      <td>0.994107</td>\n",
              "      <td>0.347056</td>\n",
              "      <td>0.997875</td>\n",
              "    </tr>\n",
              "    <tr>\n",
              "      <th>0.20</th>\n",
              "      <td>0.994588</td>\n",
              "      <td>0.230216</td>\n",
              "      <td>0.999039</td>\n",
              "    </tr>\n",
              "    <tr>\n",
              "      <th>0.30</th>\n",
              "      <td>0.994449</td>\n",
              "      <td>0.159073</td>\n",
              "      <td>0.999313</td>\n",
              "    </tr>\n",
              "    <tr>\n",
              "      <th>0.40</th>\n",
              "      <td>0.994157</td>\n",
              "      <td>0.084333</td>\n",
              "      <td>0.999455</td>\n",
              "    </tr>\n",
              "    <tr>\n",
              "      <th>0.50</th>\n",
              "      <td>0.993867</td>\n",
              "      <td>0.018519</td>\n",
              "      <td>0.999546</td>\n",
              "    </tr>\n",
              "    <tr>\n",
              "      <th>0.60</th>\n",
              "      <td>0.993838</td>\n",
              "      <td>0.001732</td>\n",
              "      <td>0.999614</td>\n",
              "    </tr>\n",
              "    <tr>\n",
              "      <th>0.70</th>\n",
              "      <td>0.993881</td>\n",
              "      <td>0.000799</td>\n",
              "      <td>0.999663</td>\n",
              "    </tr>\n",
              "    <tr>\n",
              "      <th>0.80</th>\n",
              "      <td>0.993929</td>\n",
              "      <td>0.000266</td>\n",
              "      <td>0.999715</td>\n",
              "    </tr>\n",
              "    <tr>\n",
              "      <th>0.90</th>\n",
              "      <td>0.993986</td>\n",
              "      <td>0.0</td>\n",
              "      <td>0.999773</td>\n",
              "    </tr>\n",
              "  </tbody>\n",
              "</table>\n",
              "</div>"
            ],
            "text/plain": [
              "      accuracy sensitivity specificity\n",
              "0.01   0.89432    0.669864    0.895627\n",
              "0.02  0.961172    0.549427     0.96357\n",
              "0.03  0.978435    0.511058    0.981156\n",
              "0.04  0.985558    0.463363    0.988598\n",
              "0.05  0.989496    0.427391    0.992769\n",
              "0.06  0.991814    0.404077    0.995236\n",
              "0.07  0.992953    0.388223    0.996474\n",
              "0.08  0.993528    0.373435    0.997138\n",
              "0.09  0.993869    0.361844    0.997549\n",
              "0.10  0.994107    0.347056    0.997875\n",
              "0.20  0.994588    0.230216    0.999039\n",
              "0.30  0.994449    0.159073    0.999313\n",
              "0.40  0.994157    0.084333    0.999455\n",
              "0.50  0.993867    0.018519    0.999546\n",
              "0.60  0.993838    0.001732    0.999614\n",
              "0.70  0.993881    0.000799    0.999663\n",
              "0.80  0.993929    0.000266    0.999715\n",
              "0.90  0.993986         0.0    0.999773"
            ]
          },
          "execution_count": 130,
          "metadata": {},
          "output_type": "execute_result"
        }
      ],
      "source": [
        "curve"
      ]
    },
    {
      "cell_type": "code",
      "execution_count": null,
      "id": "85ef8e0b",
      "metadata": {
        "execution": {
          "iopub.execute_input": "2022-03-15T12:13:39.749873Z",
          "iopub.status.busy": "2022-03-15T12:13:39.749223Z",
          "iopub.status.idle": "2022-03-15T12:13:39.932818Z",
          "shell.execute_reply": "2022-03-15T12:13:39.932208Z",
          "shell.execute_reply.started": "2022-03-15T12:05:58.847260Z"
        },
        "id": "85ef8e0b",
        "outputId": "10675b76-b3d9-461d-cf99-736452e69799",
        "papermill": {
          "duration": 0.448335,
          "end_time": "2022-03-15T12:13:39.932949",
          "exception": false,
          "start_time": "2022-03-15T12:13:39.484614",
          "status": "completed"
        },
        "tags": []
      },
      "outputs": [
        {
          "data": {
            "text/plain": [
              "<AxesSubplot:>"
            ]
          },
          "execution_count": 131,
          "metadata": {},
          "output_type": "execute_result"
        },
        {
          "data": {
            "image/png": "[encoded data removed]",
            "text/plain": [
              "<Figure size 432x288 with 1 Axes>"
            ]
          },
          "metadata": {
            "needs_background": "light"
          },
          "output_type": "display_data"
        }
      ],
      "source": [
        "curve.plot()"
      ]
    },
    {
      "cell_type": "code",
      "execution_count": null,
      "id": "ba58374f",
      "metadata": {
        "execution": {
          "iopub.execute_input": "2022-03-15T12:13:41.447400Z",
          "iopub.status.busy": "2022-03-15T12:13:41.446680Z",
          "iopub.status.idle": "2022-03-15T12:13:54.738132Z",
          "shell.execute_reply": "2022-03-15T12:13:54.739001Z",
          "shell.execute_reply.started": "2022-03-15T12:05:59.108365Z"
        },
        "id": "ba58374f",
        "papermill": {
          "duration": 13.541237,
          "end_time": "2022-03-15T12:13:54.739270",
          "exception": false,
          "start_time": "2022-03-15T12:13:41.198033",
          "status": "completed"
        },
        "tags": []
      },
      "outputs": [],
      "source": [
        "for y in threshold:\n",
        "  curve.loc[y,\"Precision\"] = metrics.precision_score(predictions.Actual,predictions[y])\n",
        "  curve.loc[y,\"Recall\"] = metrics.recall_score(predictions.Actual,predictions[y])"
      ]
    },
    {
      "cell_type": "code",
      "execution_count": null,
      "id": "dc22e194",
      "metadata": {
        "execution": {
          "iopub.execute_input": "2022-03-15T12:13:55.342979Z",
          "iopub.status.busy": "2022-03-15T12:13:55.342073Z",
          "iopub.status.idle": "2022-03-15T12:13:55.526321Z",
          "shell.execute_reply": "2022-03-15T12:13:55.527020Z",
          "shell.execute_reply.started": "2022-03-15T12:06:15.527799Z"
        },
        "id": "dc22e194",
        "outputId": "500e68a3-84de-4d1a-8029-ef67b23bf7c4",
        "papermill": {
          "duration": 0.442068,
          "end_time": "2022-03-15T12:13:55.527209",
          "exception": false,
          "start_time": "2022-03-15T12:13:55.085141",
          "status": "completed"
        },
        "tags": []
      },
      "outputs": [
        {
          "data": {
            "text/plain": [
              "<AxesSubplot:>"
            ]
          },
          "execution_count": 133,
          "metadata": {},
          "output_type": "execute_result"
        },
        {
          "data": {
            "image/png": "[encoded data removed]",
            "text/plain": [
              "<Figure size 432x288 with 1 Axes>"
            ]
          },
          "metadata": {
            "needs_background": "light"
          },
          "output_type": "display_data"
        }
      ],
      "source": [
        "curve[[\"Precision\",\"Recall\"]].plot()"
      ]
    },
    {
      "cell_type": "code",
      "execution_count": null,
      "id": "965f4334",
      "metadata": {
        "execution": {
          "iopub.execute_input": "2022-03-15T12:13:56.579493Z",
          "iopub.status.busy": "2022-03-15T12:13:56.578874Z",
          "iopub.status.idle": "2022-03-15T12:13:56.582229Z",
          "shell.execute_reply": "2022-03-15T12:13:56.582722Z",
          "shell.execute_reply.started": "2022-03-15T12:06:15.764944Z"
        },
        "id": "965f4334",
        "outputId": "e67f2498-15cc-457f-a1a4-0d28165b2f53",
        "papermill": {
          "duration": 0.269528,
          "end_time": "2022-03-15T12:13:56.582887",
          "exception": false,
          "start_time": "2022-03-15T12:13:56.313359",
          "status": "completed"
        },
        "tags": []
      },
      "outputs": [
        {
          "data": {
            "text/html": [
              "<div>\n",
              "<style scoped>\n",
              "    .dataframe tbody tr th:only-of-type {\n",
              "        vertical-align: middle;\n",
              "    }\n",
              "\n",
              "    .dataframe tbody tr th {\n",
              "        vertical-align: top;\n",
              "    }\n",
              "\n",
              "    .dataframe thead th {\n",
              "        text-align: right;\n",
              "    }\n",
              "</style>\n",
              "<table border=\"1\" class=\"dataframe\">\n",
              "  <thead>\n",
              "    <tr style=\"text-align: right;\">\n",
              "      <th></th>\n",
              "      <th>accuracy</th>\n",
              "      <th>sensitivity</th>\n",
              "      <th>specificity</th>\n",
              "      <th>Precision</th>\n",
              "      <th>Recall</th>\n",
              "    </tr>\n",
              "  </thead>\n",
              "  <tbody>\n",
              "    <tr>\n",
              "      <th>0.01</th>\n",
              "      <td>0.89432</td>\n",
              "      <td>0.669864</td>\n",
              "      <td>0.895627</td>\n",
              "      <td>0.036022</td>\n",
              "      <td>0.669864</td>\n",
              "    </tr>\n",
              "    <tr>\n",
              "      <th>0.02</th>\n",
              "      <td>0.961172</td>\n",
              "      <td>0.549427</td>\n",
              "      <td>0.96357</td>\n",
              "      <td>0.080722</td>\n",
              "      <td>0.549427</td>\n",
              "    </tr>\n",
              "    <tr>\n",
              "      <th>0.03</th>\n",
              "      <td>0.978435</td>\n",
              "      <td>0.511058</td>\n",
              "      <td>0.981156</td>\n",
              "      <td>0.136372</td>\n",
              "      <td>0.511058</td>\n",
              "    </tr>\n",
              "    <tr>\n",
              "      <th>0.04</th>\n",
              "      <td>0.985558</td>\n",
              "      <td>0.463363</td>\n",
              "      <td>0.988598</td>\n",
              "      <td>0.191341</td>\n",
              "      <td>0.463363</td>\n",
              "    </tr>\n",
              "    <tr>\n",
              "      <th>0.05</th>\n",
              "      <td>0.989496</td>\n",
              "      <td>0.427391</td>\n",
              "      <td>0.992769</td>\n",
              "      <td>0.256026</td>\n",
              "      <td>0.427391</td>\n",
              "    </tr>\n",
              "    <tr>\n",
              "      <th>0.06</th>\n",
              "      <td>0.991814</td>\n",
              "      <td>0.404077</td>\n",
              "      <td>0.995236</td>\n",
              "      <td>0.330608</td>\n",
              "      <td>0.404077</td>\n",
              "    </tr>\n",
              "    <tr>\n",
              "      <th>0.07</th>\n",
              "      <td>0.992953</td>\n",
              "      <td>0.388223</td>\n",
              "      <td>0.996474</td>\n",
              "      <td>0.390617</td>\n",
              "      <td>0.388223</td>\n",
              "    </tr>\n",
              "    <tr>\n",
              "      <th>0.08</th>\n",
              "      <td>0.993528</td>\n",
              "      <td>0.373435</td>\n",
              "      <td>0.997138</td>\n",
              "      <td>0.431762</td>\n",
              "      <td>0.373435</td>\n",
              "    </tr>\n",
              "    <tr>\n",
              "      <th>0.09</th>\n",
              "      <td>0.993869</td>\n",
              "      <td>0.361844</td>\n",
              "      <td>0.997549</td>\n",
              "      <td>0.462219</td>\n",
              "      <td>0.361844</td>\n",
              "    </tr>\n",
              "    <tr>\n",
              "      <th>0.10</th>\n",
              "      <td>0.994107</td>\n",
              "      <td>0.347056</td>\n",
              "      <td>0.997875</td>\n",
              "      <td>0.487371</td>\n",
              "      <td>0.347056</td>\n",
              "    </tr>\n",
              "    <tr>\n",
              "      <th>0.20</th>\n",
              "      <td>0.994588</td>\n",
              "      <td>0.230216</td>\n",
              "      <td>0.999039</td>\n",
              "      <td>0.582406</td>\n",
              "      <td>0.230216</td>\n",
              "    </tr>\n",
              "    <tr>\n",
              "      <th>0.30</th>\n",
              "      <td>0.994449</td>\n",
              "      <td>0.159073</td>\n",
              "      <td>0.999313</td>\n",
              "      <td>0.574038</td>\n",
              "      <td>0.159073</td>\n",
              "    </tr>\n",
              "    <tr>\n",
              "      <th>0.40</th>\n",
              "      <td>0.994157</td>\n",
              "      <td>0.084333</td>\n",
              "      <td>0.999455</td>\n",
              "      <td>0.473802</td>\n",
              "      <td>0.084333</td>\n",
              "    </tr>\n",
              "    <tr>\n",
              "      <th>0.50</th>\n",
              "      <td>0.993867</td>\n",
              "      <td>0.018519</td>\n",
              "      <td>0.999546</td>\n",
              "      <td>0.191989</td>\n",
              "      <td>0.018519</td>\n",
              "    </tr>\n",
              "    <tr>\n",
              "      <th>0.60</th>\n",
              "      <td>0.993838</td>\n",
              "      <td>0.001732</td>\n",
              "      <td>0.999614</td>\n",
              "      <td>0.025490</td>\n",
              "      <td>0.001732</td>\n",
              "    </tr>\n",
              "    <tr>\n",
              "      <th>0.70</th>\n",
              "      <td>0.993881</td>\n",
              "      <td>0.000799</td>\n",
              "      <td>0.999663</td>\n",
              "      <td>0.013605</td>\n",
              "      <td>0.000799</td>\n",
              "    </tr>\n",
              "    <tr>\n",
              "      <th>0.80</th>\n",
              "      <td>0.993929</td>\n",
              "      <td>0.000266</td>\n",
              "      <td>0.999715</td>\n",
              "      <td>0.005405</td>\n",
              "      <td>0.000266</td>\n",
              "    </tr>\n",
              "    <tr>\n",
              "      <th>0.90</th>\n",
              "      <td>0.993986</td>\n",
              "      <td>0.0</td>\n",
              "      <td>0.999773</td>\n",
              "      <td>0.000000</td>\n",
              "      <td>0.000000</td>\n",
              "    </tr>\n",
              "  </tbody>\n",
              "</table>\n",
              "</div>"
            ],
            "text/plain": [
              "      accuracy sensitivity specificity  Precision    Recall\n",
              "0.01   0.89432    0.669864    0.895627   0.036022  0.669864\n",
              "0.02  0.961172    0.549427     0.96357   0.080722  0.549427\n",
              "0.03  0.978435    0.511058    0.981156   0.136372  0.511058\n",
              "0.04  0.985558    0.463363    0.988598   0.191341  0.463363\n",
              "0.05  0.989496    0.427391    0.992769   0.256026  0.427391\n",
              "0.06  0.991814    0.404077    0.995236   0.330608  0.404077\n",
              "0.07  0.992953    0.388223    0.996474   0.390617  0.388223\n",
              "0.08  0.993528    0.373435    0.997138   0.431762  0.373435\n",
              "0.09  0.993869    0.361844    0.997549   0.462219  0.361844\n",
              "0.10  0.994107    0.347056    0.997875   0.487371  0.347056\n",
              "0.20  0.994588    0.230216    0.999039   0.582406  0.230216\n",
              "0.30  0.994449    0.159073    0.999313   0.574038  0.159073\n",
              "0.40  0.994157    0.084333    0.999455   0.473802  0.084333\n",
              "0.50  0.993867    0.018519    0.999546   0.191989  0.018519\n",
              "0.60  0.993838    0.001732    0.999614   0.025490  0.001732\n",
              "0.70  0.993881    0.000799    0.999663   0.013605  0.000799\n",
              "0.80  0.993929    0.000266    0.999715   0.005405  0.000266\n",
              "0.90  0.993986         0.0    0.999773   0.000000  0.000000"
            ]
          },
          "execution_count": 134,
          "metadata": {},
          "output_type": "execute_result"
        }
      ],
      "source": [
        "curve"
      ]
    },
    {
      "cell_type": "code",
      "execution_count": null,
      "id": "a0c7c082",
      "metadata": {
        "execution": {
          "iopub.execute_input": "2022-03-15T12:13:58.111022Z",
          "iopub.status.busy": "2022-03-15T12:13:58.110329Z",
          "iopub.status.idle": "2022-03-15T12:13:58.125587Z",
          "shell.execute_reply": "2022-03-15T12:13:58.126102Z",
          "shell.execute_reply.started": "2022-03-15T12:06:15.781363Z"
        },
        "id": "a0c7c082",
        "outputId": "1f669478-aee9-45ab-b20f-be40873381b5",
        "papermill": {
          "duration": 0.272237,
          "end_time": "2022-03-15T12:13:58.126260",
          "exception": false,
          "start_time": "2022-03-15T12:13:57.854023",
          "status": "completed"
        },
        "tags": []
      },
      "outputs": [
        {
          "data": {
            "text/html": [
              "<div>\n",
              "<style scoped>\n",
              "    .dataframe tbody tr th:only-of-type {\n",
              "        vertical-align: middle;\n",
              "    }\n",
              "\n",
              "    .dataframe tbody tr th {\n",
              "        vertical-align: top;\n",
              "    }\n",
              "\n",
              "    .dataframe thead th {\n",
              "        text-align: right;\n",
              "    }\n",
              "</style>\n",
              "<table border=\"1\" class=\"dataframe\">\n",
              "  <thead>\n",
              "    <tr style=\"text-align: right;\">\n",
              "      <th></th>\n",
              "      <th>Actual</th>\n",
              "      <th>Pred_Prob</th>\n",
              "      <th>0.01</th>\n",
              "      <th>0.02</th>\n",
              "      <th>0.03</th>\n",
              "      <th>0.04</th>\n",
              "      <th>0.05</th>\n",
              "      <th>0.06</th>\n",
              "      <th>0.07</th>\n",
              "      <th>0.08</th>\n",
              "      <th>0.09</th>\n",
              "      <th>0.1</th>\n",
              "      <th>0.2</th>\n",
              "      <th>0.3</th>\n",
              "      <th>0.4</th>\n",
              "      <th>0.5</th>\n",
              "      <th>0.6</th>\n",
              "      <th>0.7</th>\n",
              "      <th>0.8</th>\n",
              "      <th>0.9</th>\n",
              "    </tr>\n",
              "  </thead>\n",
              "  <tbody>\n",
              "    <tr>\n",
              "      <th>0</th>\n",
              "      <td>0</td>\n",
              "      <td>0.037746</td>\n",
              "      <td>1</td>\n",
              "      <td>1</td>\n",
              "      <td>1</td>\n",
              "      <td>0</td>\n",
              "      <td>0</td>\n",
              "      <td>0</td>\n",
              "      <td>0</td>\n",
              "      <td>0</td>\n",
              "      <td>0</td>\n",
              "      <td>0</td>\n",
              "      <td>0</td>\n",
              "      <td>0</td>\n",
              "      <td>0</td>\n",
              "      <td>0</td>\n",
              "      <td>0</td>\n",
              "      <td>0</td>\n",
              "      <td>0</td>\n",
              "      <td>0</td>\n",
              "    </tr>\n",
              "    <tr>\n",
              "      <th>1</th>\n",
              "      <td>0</td>\n",
              "      <td>0.086650</td>\n",
              "      <td>1</td>\n",
              "      <td>1</td>\n",
              "      <td>1</td>\n",
              "      <td>1</td>\n",
              "      <td>1</td>\n",
              "      <td>1</td>\n",
              "      <td>1</td>\n",
              "      <td>1</td>\n",
              "      <td>0</td>\n",
              "      <td>0</td>\n",
              "      <td>0</td>\n",
              "      <td>0</td>\n",
              "      <td>0</td>\n",
              "      <td>0</td>\n",
              "      <td>0</td>\n",
              "      <td>0</td>\n",
              "      <td>0</td>\n",
              "      <td>0</td>\n",
              "    </tr>\n",
              "    <tr>\n",
              "      <th>2</th>\n",
              "      <td>0</td>\n",
              "      <td>0.010050</td>\n",
              "      <td>1</td>\n",
              "      <td>0</td>\n",
              "      <td>0</td>\n",
              "      <td>0</td>\n",
              "      <td>0</td>\n",
              "      <td>0</td>\n",
              "      <td>0</td>\n",
              "      <td>0</td>\n",
              "      <td>0</td>\n",
              "      <td>0</td>\n",
              "      <td>0</td>\n",
              "      <td>0</td>\n",
              "      <td>0</td>\n",
              "      <td>0</td>\n",
              "      <td>0</td>\n",
              "      <td>0</td>\n",
              "      <td>0</td>\n",
              "      <td>0</td>\n",
              "    </tr>\n",
              "    <tr>\n",
              "      <th>3</th>\n",
              "      <td>0</td>\n",
              "      <td>0.043852</td>\n",
              "      <td>1</td>\n",
              "      <td>1</td>\n",
              "      <td>1</td>\n",
              "      <td>1</td>\n",
              "      <td>0</td>\n",
              "      <td>0</td>\n",
              "      <td>0</td>\n",
              "      <td>0</td>\n",
              "      <td>0</td>\n",
              "      <td>0</td>\n",
              "      <td>0</td>\n",
              "      <td>0</td>\n",
              "      <td>0</td>\n",
              "      <td>0</td>\n",
              "      <td>0</td>\n",
              "      <td>0</td>\n",
              "      <td>0</td>\n",
              "      <td>0</td>\n",
              "    </tr>\n",
              "    <tr>\n",
              "      <th>4</th>\n",
              "      <td>0</td>\n",
              "      <td>0.010471</td>\n",
              "      <td>1</td>\n",
              "      <td>0</td>\n",
              "      <td>0</td>\n",
              "      <td>0</td>\n",
              "      <td>0</td>\n",
              "      <td>0</td>\n",
              "      <td>0</td>\n",
              "      <td>0</td>\n",
              "      <td>0</td>\n",
              "      <td>0</td>\n",
              "      <td>0</td>\n",
              "      <td>0</td>\n",
              "      <td>0</td>\n",
              "      <td>0</td>\n",
              "      <td>0</td>\n",
              "      <td>0</td>\n",
              "      <td>0</td>\n",
              "      <td>0</td>\n",
              "    </tr>\n",
              "  </tbody>\n",
              "</table>\n",
              "</div>"
            ],
            "text/plain": [
              "   Actual  Pred_Prob  0.01  0.02  0.03  0.04  0.05  0.06  0.07  0.08  0.09  \\\n",
              "0       0   0.037746     1     1     1     0     0     0     0     0     0   \n",
              "1       0   0.086650     1     1     1     1     1     1     1     1     0   \n",
              "2       0   0.010050     1     0     0     0     0     0     0     0     0   \n",
              "3       0   0.043852     1     1     1     1     0     0     0     0     0   \n",
              "4       0   0.010471     1     0     0     0     0     0     0     0     0   \n",
              "\n",
              "   0.1  0.2  0.3  0.4  0.5  0.6  0.7  0.8  0.9  \n",
              "0    0    0    0    0    0    0    0    0    0  \n",
              "1    0    0    0    0    0    0    0    0    0  \n",
              "2    0    0    0    0    0    0    0    0    0  \n",
              "3    0    0    0    0    0    0    0    0    0  \n",
              "4    0    0    0    0    0    0    0    0    0  "
            ]
          },
          "execution_count": 135,
          "metadata": {},
          "output_type": "execute_result"
        }
      ],
      "source": [
        "predictions.head()"
      ]
    },
    {
      "cell_type": "code",
      "execution_count": null,
      "id": "1fbe4659",
      "metadata": {
        "execution": {
          "iopub.execute_input": "2022-03-15T12:13:58.633813Z",
          "iopub.status.busy": "2022-03-15T12:13:58.633192Z",
          "iopub.status.idle": "2022-03-15T12:13:58.687118Z",
          "shell.execute_reply": "2022-03-15T12:13:58.687583Z",
          "shell.execute_reply.started": "2022-03-15T12:06:15.801328Z"
        },
        "id": "1fbe4659",
        "papermill": {
          "duration": 0.306722,
          "end_time": "2022-03-15T12:13:58.687755",
          "exception": false,
          "start_time": "2022-03-15T12:13:58.381033",
          "status": "completed"
        },
        "tags": []
      },
      "outputs": [],
      "source": [
        "profit = pd.merge(data[\"amt\"],predictions,left_index = True,right_index=True)"
      ]
    },
    {
      "cell_type": "code",
      "execution_count": null,
      "id": "acf275aa",
      "metadata": {
        "execution": {
          "iopub.execute_input": "2022-03-15T12:13:59.202844Z",
          "iopub.status.busy": "2022-03-15T12:13:59.202290Z",
          "iopub.status.idle": "2022-03-15T12:13:59.219227Z",
          "shell.execute_reply": "2022-03-15T12:13:59.218620Z",
          "shell.execute_reply.started": "2022-03-15T12:06:15.888517Z"
        },
        "id": "acf275aa",
        "outputId": "f0f4ff21-095e-4682-fdc0-55d8fd62046a",
        "papermill": {
          "duration": 0.276205,
          "end_time": "2022-03-15T12:13:59.219353",
          "exception": false,
          "start_time": "2022-03-15T12:13:58.943148",
          "status": "completed"
        },
        "tags": []
      },
      "outputs": [
        {
          "data": {
            "text/html": [
              "<div>\n",
              "<style scoped>\n",
              "    .dataframe tbody tr th:only-of-type {\n",
              "        vertical-align: middle;\n",
              "    }\n",
              "\n",
              "    .dataframe tbody tr th {\n",
              "        vertical-align: top;\n",
              "    }\n",
              "\n",
              "    .dataframe thead th {\n",
              "        text-align: right;\n",
              "    }\n",
              "</style>\n",
              "<table border=\"1\" class=\"dataframe\">\n",
              "  <thead>\n",
              "    <tr style=\"text-align: right;\">\n",
              "      <th></th>\n",
              "      <th>amt</th>\n",
              "      <th>Actual</th>\n",
              "      <th>Pred_Prob</th>\n",
              "      <th>0.01</th>\n",
              "      <th>0.02</th>\n",
              "      <th>0.03</th>\n",
              "      <th>0.04</th>\n",
              "      <th>0.05</th>\n",
              "      <th>0.06</th>\n",
              "      <th>0.07</th>\n",
              "      <th>...</th>\n",
              "      <th>0.09</th>\n",
              "      <th>0.1</th>\n",
              "      <th>0.2</th>\n",
              "      <th>0.3</th>\n",
              "      <th>0.4</th>\n",
              "      <th>0.5</th>\n",
              "      <th>0.6</th>\n",
              "      <th>0.7</th>\n",
              "      <th>0.8</th>\n",
              "      <th>0.9</th>\n",
              "    </tr>\n",
              "  </thead>\n",
              "  <tbody>\n",
              "    <tr>\n",
              "      <th>0</th>\n",
              "      <td>4.97</td>\n",
              "      <td>0</td>\n",
              "      <td>0.037746</td>\n",
              "      <td>1</td>\n",
              "      <td>1</td>\n",
              "      <td>1</td>\n",
              "      <td>0</td>\n",
              "      <td>0</td>\n",
              "      <td>0</td>\n",
              "      <td>0</td>\n",
              "      <td>...</td>\n",
              "      <td>0</td>\n",
              "      <td>0</td>\n",
              "      <td>0</td>\n",
              "      <td>0</td>\n",
              "      <td>0</td>\n",
              "      <td>0</td>\n",
              "      <td>0</td>\n",
              "      <td>0</td>\n",
              "      <td>0</td>\n",
              "      <td>0</td>\n",
              "    </tr>\n",
              "    <tr>\n",
              "      <th>1</th>\n",
              "      <td>107.23</td>\n",
              "      <td>0</td>\n",
              "      <td>0.086650</td>\n",
              "      <td>1</td>\n",
              "      <td>1</td>\n",
              "      <td>1</td>\n",
              "      <td>1</td>\n",
              "      <td>1</td>\n",
              "      <td>1</td>\n",
              "      <td>1</td>\n",
              "      <td>...</td>\n",
              "      <td>0</td>\n",
              "      <td>0</td>\n",
              "      <td>0</td>\n",
              "      <td>0</td>\n",
              "      <td>0</td>\n",
              "      <td>0</td>\n",
              "      <td>0</td>\n",
              "      <td>0</td>\n",
              "      <td>0</td>\n",
              "      <td>0</td>\n",
              "    </tr>\n",
              "    <tr>\n",
              "      <th>2</th>\n",
              "      <td>220.11</td>\n",
              "      <td>0</td>\n",
              "      <td>0.010050</td>\n",
              "      <td>1</td>\n",
              "      <td>0</td>\n",
              "      <td>0</td>\n",
              "      <td>0</td>\n",
              "      <td>0</td>\n",
              "      <td>0</td>\n",
              "      <td>0</td>\n",
              "      <td>...</td>\n",
              "      <td>0</td>\n",
              "      <td>0</td>\n",
              "      <td>0</td>\n",
              "      <td>0</td>\n",
              "      <td>0</td>\n",
              "      <td>0</td>\n",
              "      <td>0</td>\n",
              "      <td>0</td>\n",
              "      <td>0</td>\n",
              "      <td>0</td>\n",
              "    </tr>\n",
              "    <tr>\n",
              "      <th>3</th>\n",
              "      <td>45.00</td>\n",
              "      <td>0</td>\n",
              "      <td>0.043852</td>\n",
              "      <td>1</td>\n",
              "      <td>1</td>\n",
              "      <td>1</td>\n",
              "      <td>1</td>\n",
              "      <td>0</td>\n",
              "      <td>0</td>\n",
              "      <td>0</td>\n",
              "      <td>...</td>\n",
              "      <td>0</td>\n",
              "      <td>0</td>\n",
              "      <td>0</td>\n",
              "      <td>0</td>\n",
              "      <td>0</td>\n",
              "      <td>0</td>\n",
              "      <td>0</td>\n",
              "      <td>0</td>\n",
              "      <td>0</td>\n",
              "      <td>0</td>\n",
              "    </tr>\n",
              "    <tr>\n",
              "      <th>4</th>\n",
              "      <td>41.96</td>\n",
              "      <td>0</td>\n",
              "      <td>0.010471</td>\n",
              "      <td>1</td>\n",
              "      <td>0</td>\n",
              "      <td>0</td>\n",
              "      <td>0</td>\n",
              "      <td>0</td>\n",
              "      <td>0</td>\n",
              "      <td>0</td>\n",
              "      <td>...</td>\n",
              "      <td>0</td>\n",
              "      <td>0</td>\n",
              "      <td>0</td>\n",
              "      <td>0</td>\n",
              "      <td>0</td>\n",
              "      <td>0</td>\n",
              "      <td>0</td>\n",
              "      <td>0</td>\n",
              "      <td>0</td>\n",
              "      <td>0</td>\n",
              "    </tr>\n",
              "  </tbody>\n",
              "</table>\n",
              "<p>5 rows × 21 columns</p>\n",
              "</div>"
            ],
            "text/plain": [
              "      amt  Actual  Pred_Prob  0.01  0.02  0.03  0.04  0.05  0.06  0.07  ...  \\\n",
              "0    4.97       0   0.037746     1     1     1     0     0     0     0  ...   \n",
              "1  107.23       0   0.086650     1     1     1     1     1     1     1  ...   \n",
              "2  220.11       0   0.010050     1     0     0     0     0     0     0  ...   \n",
              "3   45.00       0   0.043852     1     1     1     1     0     0     0  ...   \n",
              "4   41.96       0   0.010471     1     0     0     0     0     0     0  ...   \n",
              "\n",
              "   0.09  0.1  0.2  0.3  0.4  0.5  0.6  0.7  0.8  0.9  \n",
              "0     0    0    0    0    0    0    0    0    0    0  \n",
              "1     0    0    0    0    0    0    0    0    0    0  \n",
              "2     0    0    0    0    0    0    0    0    0    0  \n",
              "3     0    0    0    0    0    0    0    0    0    0  \n",
              "4     0    0    0    0    0    0    0    0    0    0  \n",
              "\n",
              "[5 rows x 21 columns]"
            ]
          },
          "execution_count": 137,
          "metadata": {},
          "output_type": "execute_result"
        }
      ],
      "source": [
        "profit.head()"
      ]
    },
    {
      "cell_type": "code",
      "execution_count": null,
      "id": "dee53684",
      "metadata": {
        "execution": {
          "iopub.execute_input": "2022-03-15T12:13:59.729163Z",
          "iopub.status.busy": "2022-03-15T12:13:59.728289Z",
          "iopub.status.idle": "2022-03-15T12:13:59.733463Z",
          "shell.execute_reply": "2022-03-15T12:13:59.733993Z",
          "shell.execute_reply.started": "2022-03-15T12:06:15.912072Z"
        },
        "id": "dee53684",
        "papermill": {
          "duration": 0.261222,
          "end_time": "2022-03-15T12:13:59.734137",
          "exception": false,
          "start_time": "2022-03-15T12:13:59.472915",
          "status": "completed"
        },
        "tags": []
      },
      "outputs": [],
      "source": [
        "profit_table = pd.DataFrame(index=threshold,columns = [\"Fraud_Loss\",\"Predicted_Loss\",\"Cost\",\"Profit_Of_Company\"])"
      ]
    },
    {
      "cell_type": "code",
      "execution_count": null,
      "id": "479f3e10",
      "metadata": {
        "execution": {
          "iopub.execute_input": "2022-03-15T12:14:00.239173Z",
          "iopub.status.busy": "2022-03-15T12:14:00.238154Z",
          "iopub.status.idle": "2022-03-15T12:14:00.593646Z",
          "shell.execute_reply": "2022-03-15T12:14:00.594147Z",
          "shell.execute_reply.started": "2022-03-15T12:06:15.919493Z"
        },
        "id": "479f3e10",
        "papermill": {
          "duration": 0.609836,
          "end_time": "2022-03-15T12:14:00.594335",
          "exception": false,
          "start_time": "2022-03-15T12:13:59.984499",
          "status": "completed"
        },
        "tags": []
      },
      "outputs": [],
      "source": [
        "for z in threshold:\n",
        "  loss = data[data[\"is_fraud\"]==1][\"amt\"].sum()\n",
        "  Predicted_Loss1 = profit[(profit[z]==1) & (profit[\"Actual\"]==1)][\"amt\"].sum()\n",
        "  cost = profit[z].sum()*1.5\n",
        "  Profit = Predicted_Loss1 - cost\n",
        "\n",
        "  profit_table.loc[z] = [loss,Predicted_Loss1,cost,Profit]"
      ]
    },
    {
      "cell_type": "code",
      "execution_count": null,
      "id": "32225b89",
      "metadata": {
        "execution": {
          "iopub.execute_input": "2022-03-15T12:14:01.104446Z",
          "iopub.status.busy": "2022-03-15T12:14:01.103795Z",
          "iopub.status.idle": "2022-03-15T12:14:01.117530Z",
          "shell.execute_reply": "2022-03-15T12:14:01.117053Z",
          "shell.execute_reply.started": "2022-03-15T12:06:16.478805Z"
        },
        "id": "32225b89",
        "outputId": "45bb994e-1dca-4a10-9655-c8741b0ab1c4",
        "papermill": {
          "duration": 0.270725,
          "end_time": "2022-03-15T12:14:01.117662",
          "exception": false,
          "start_time": "2022-03-15T12:14:00.846937",
          "status": "completed"
        },
        "tags": []
      },
      "outputs": [
        {
          "data": {
            "text/html": [
              "<div>\n",
              "<style scoped>\n",
              "    .dataframe tbody tr th:only-of-type {\n",
              "        vertical-align: middle;\n",
              "    }\n",
              "\n",
              "    .dataframe tbody tr th {\n",
              "        vertical-align: top;\n",
              "    }\n",
              "\n",
              "    .dataframe thead th {\n",
              "        text-align: right;\n",
              "    }\n",
              "</style>\n",
              "<table border=\"1\" class=\"dataframe\">\n",
              "  <thead>\n",
              "    <tr style=\"text-align: right;\">\n",
              "      <th></th>\n",
              "      <th>Fraud_Loss</th>\n",
              "      <th>Predicted_Loss</th>\n",
              "      <th>Cost</th>\n",
              "      <th>Profit_Of_Company</th>\n",
              "    </tr>\n",
              "  </thead>\n",
              "  <tbody>\n",
              "    <tr>\n",
              "      <th>0.01</th>\n",
              "      <td>3988088.61</td>\n",
              "      <td>3615402.66</td>\n",
              "      <td>209374.5</td>\n",
              "      <td>3406028.16</td>\n",
              "    </tr>\n",
              "    <tr>\n",
              "      <th>0.02</th>\n",
              "      <td>3988088.61</td>\n",
              "      <td>3228350.09</td>\n",
              "      <td>76633.5</td>\n",
              "      <td>3151716.59</td>\n",
              "    </tr>\n",
              "    <tr>\n",
              "      <th>0.03</th>\n",
              "      <td>3988088.61</td>\n",
              "      <td>3069474.47</td>\n",
              "      <td>42193.5</td>\n",
              "      <td>3027280.97</td>\n",
              "    </tr>\n",
              "    <tr>\n",
              "      <th>0.04</th>\n",
              "      <td>3988088.61</td>\n",
              "      <td>2889810.11</td>\n",
              "      <td>27265.5</td>\n",
              "      <td>2862544.61</td>\n",
              "    </tr>\n",
              "    <tr>\n",
              "      <th>0.05</th>\n",
              "      <td>3988088.61</td>\n",
              "      <td>2741228.19</td>\n",
              "      <td>18795.0</td>\n",
              "      <td>2722433.19</td>\n",
              "    </tr>\n",
              "    <tr>\n",
              "      <th>0.06</th>\n",
              "      <td>3988088.61</td>\n",
              "      <td>2613663.13</td>\n",
              "      <td>13761.0</td>\n",
              "      <td>2599902.13</td>\n",
              "    </tr>\n",
              "    <tr>\n",
              "      <th>0.07</th>\n",
              "      <td>3988088.61</td>\n",
              "      <td>2517836.13</td>\n",
              "      <td>11190.0</td>\n",
              "      <td>2506646.13</td>\n",
              "    </tr>\n",
              "    <tr>\n",
              "      <th>0.08</th>\n",
              "      <td>3988088.61</td>\n",
              "      <td>2428671.55</td>\n",
              "      <td>9738.0</td>\n",
              "      <td>2418933.55</td>\n",
              "    </tr>\n",
              "    <tr>\n",
              "      <th>0.09</th>\n",
              "      <td>3988088.61</td>\n",
              "      <td>2354888.32</td>\n",
              "      <td>8814.0</td>\n",
              "      <td>2346074.32</td>\n",
              "    </tr>\n",
              "    <tr>\n",
              "      <th>0.10</th>\n",
              "      <td>3988088.61</td>\n",
              "      <td>2265519.67</td>\n",
              "      <td>8017.5</td>\n",
              "      <td>2257502.17</td>\n",
              "    </tr>\n",
              "    <tr>\n",
              "      <th>0.20</th>\n",
              "      <td>3988088.61</td>\n",
              "      <td>1523853.89</td>\n",
              "      <td>4450.5</td>\n",
              "      <td>1519403.39</td>\n",
              "    </tr>\n",
              "    <tr>\n",
              "      <th>0.30</th>\n",
              "      <td>3988088.61</td>\n",
              "      <td>1104411.58</td>\n",
              "      <td>3120.0</td>\n",
              "      <td>1101291.58</td>\n",
              "    </tr>\n",
              "    <tr>\n",
              "      <th>0.40</th>\n",
              "      <td>3988088.61</td>\n",
              "      <td>623620.72</td>\n",
              "      <td>2004.0</td>\n",
              "      <td>621616.72</td>\n",
              "    </tr>\n",
              "    <tr>\n",
              "      <th>0.50</th>\n",
              "      <td>3988088.61</td>\n",
              "      <td>148478.32</td>\n",
              "      <td>1086.0</td>\n",
              "      <td>147392.32</td>\n",
              "    </tr>\n",
              "    <tr>\n",
              "      <th>0.60</th>\n",
              "      <td>3988088.61</td>\n",
              "      <td>13889.74</td>\n",
              "      <td>765.0</td>\n",
              "      <td>13124.74</td>\n",
              "    </tr>\n",
              "    <tr>\n",
              "      <th>0.70</th>\n",
              "      <td>3988088.61</td>\n",
              "      <td>6014.24</td>\n",
              "      <td>661.5</td>\n",
              "      <td>5352.74</td>\n",
              "    </tr>\n",
              "    <tr>\n",
              "      <th>0.80</th>\n",
              "      <td>3988088.61</td>\n",
              "      <td>2044.1</td>\n",
              "      <td>555.0</td>\n",
              "      <td>1489.1</td>\n",
              "    </tr>\n",
              "    <tr>\n",
              "      <th>0.90</th>\n",
              "      <td>3988088.61</td>\n",
              "      <td>0.0</td>\n",
              "      <td>438.0</td>\n",
              "      <td>-438.0</td>\n",
              "    </tr>\n",
              "  </tbody>\n",
              "</table>\n",
              "</div>"
            ],
            "text/plain": [
              "      Fraud_Loss Predicted_Loss      Cost Profit_Of_Company\n",
              "0.01  3988088.61     3615402.66  209374.5        3406028.16\n",
              "0.02  3988088.61     3228350.09   76633.5        3151716.59\n",
              "0.03  3988088.61     3069474.47   42193.5        3027280.97\n",
              "0.04  3988088.61     2889810.11   27265.5        2862544.61\n",
              "0.05  3988088.61     2741228.19   18795.0        2722433.19\n",
              "0.06  3988088.61     2613663.13   13761.0        2599902.13\n",
              "0.07  3988088.61     2517836.13   11190.0        2506646.13\n",
              "0.08  3988088.61     2428671.55    9738.0        2418933.55\n",
              "0.09  3988088.61     2354888.32    8814.0        2346074.32\n",
              "0.10  3988088.61     2265519.67    8017.5        2257502.17\n",
              "0.20  3988088.61     1523853.89    4450.5        1519403.39\n",
              "0.30  3988088.61     1104411.58    3120.0        1101291.58\n",
              "0.40  3988088.61      623620.72    2004.0         621616.72\n",
              "0.50  3988088.61      148478.32    1086.0         147392.32\n",
              "0.60  3988088.61       13889.74     765.0          13124.74\n",
              "0.70  3988088.61        6014.24     661.5           5352.74\n",
              "0.80  3988088.61         2044.1     555.0            1489.1\n",
              "0.90  3988088.61            0.0     438.0            -438.0"
            ]
          },
          "execution_count": 140,
          "metadata": {},
          "output_type": "execute_result"
        }
      ],
      "source": [
        "profit_table"
      ]
    },
    {
      "cell_type": "code",
      "execution_count": null,
      "id": "b991b27d",
      "metadata": {
        "execution": {
          "iopub.execute_input": "2022-03-15T12:14:02.697293Z",
          "iopub.status.busy": "2022-03-15T12:14:02.696582Z",
          "iopub.status.idle": "2022-03-15T12:14:02.698748Z",
          "shell.execute_reply": "2022-03-15T12:14:02.699309Z",
          "shell.execute_reply.started": "2022-03-15T12:06:16.494933Z"
        },
        "id": "b991b27d",
        "papermill": {
          "duration": 0.267124,
          "end_time": "2022-03-15T12:14:02.699472",
          "exception": false,
          "start_time": "2022-03-15T12:14:02.432348",
          "status": "completed"
        },
        "tags": []
      },
      "outputs": [],
      "source": [
        "from sklearn.metrics import roc_curve\n",
        "from sklearn.metrics import roc_auc_score\n",
        "\n",
        "\n",
        "def edu_roc( real, probability ):\n",
        "\n",
        "\n",
        "    fpr, tpr, thresholds = roc_curve( real, probability,drop_intermediate = False )\n",
        "\n",
        "    auc_score = roc_auc_score( real, probability )\n",
        "\n",
        "    plt.figure(figsize=(8, 4))\n",
        "\n",
        "\n",
        "    plt.plot( fpr, tpr, label='ROC curve (area = %0.2f)' % auc_score )\n",
        "\n",
        "    plt.plot([0, 1], [0, 1], 'r--')\n",
        "\n",
        "    plt.xlim([0.0, 1.0])\n",
        "\n",
        "    plt.ylim([0.0, 1.05])\n",
        "\n",
        "    plt.xlabel('False Positive Rate')\n",
        "\n",
        "    plt.ylabel('True Positive Rate')\n",
        "\n",
        "    plt.title('ROC Curve')\n",
        "\n",
        "    plt.legend(loc=\"best\")\n",
        "\n",
        "    plt.show()\n",
        "\n",
        "    return None"
      ]
    },
    {
      "cell_type": "code",
      "execution_count": null,
      "id": "94b7278b",
      "metadata": {
        "execution": {
          "iopub.execute_input": "2022-03-15T12:14:03.195456Z",
          "iopub.status.busy": "2022-03-15T12:14:03.194868Z",
          "iopub.status.idle": "2022-03-15T12:14:04.902188Z",
          "shell.execute_reply": "2022-03-15T12:14:04.902658Z",
          "shell.execute_reply.started": "2022-03-15T12:06:16.508814Z"
        },
        "id": "94b7278b",
        "outputId": "56e10613-4219-4b4c-a461-2acce7fff8eb",
        "papermill": {
          "duration": 1.957776,
          "end_time": "2022-03-15T12:14:04.902815",
          "exception": false,
          "start_time": "2022-03-15T12:14:02.945039",
          "status": "completed"
        },
        "tags": []
      },
      "outputs": [
        {
          "data": {
            "image/png": "[encoded data removed]",
            "text/plain": [
              "<Figure size 576x288 with 1 Axes>"
            ]
          },
          "metadata": {
            "needs_background": "light"
          },
          "output_type": "display_data"
        }
      ],
      "source": [
        "edu_roc(predictions[\"Actual\"],predictions[\"Pred_Prob\"])"
      ]
    },
    {
      "cell_type": "code",
      "execution_count": null,
      "id": "1db8d2e0",
      "metadata": {
        "execution": {
          "iopub.execute_input": "2022-03-15T12:14:06.419098Z",
          "iopub.status.busy": "2022-03-15T12:14:06.418451Z",
          "iopub.status.idle": "2022-03-15T12:14:06.446732Z",
          "shell.execute_reply": "2022-03-15T12:14:06.447262Z",
          "shell.execute_reply.started": "2022-03-15T12:06:18.609331Z"
        },
        "id": "1db8d2e0",
        "papermill": {
          "duration": 0.279463,
          "end_time": "2022-03-15T12:14:06.447471",
          "exception": false,
          "start_time": "2022-03-15T12:14:06.168008",
          "status": "completed"
        },
        "tags": []
      },
      "outputs": [],
      "source": [
        "target_test = data_test[\"is_fraud\"]\n",
        "x_test = data_test.drop(\"is_fraud\",1)"
      ]
    },
    {
      "cell_type": "code",
      "execution_count": null,
      "id": "5352cd3f",
      "metadata": {
        "execution": {
          "iopub.execute_input": "2022-03-15T12:14:06.951658Z",
          "iopub.status.busy": "2022-03-15T12:14:06.951017Z",
          "iopub.status.idle": "2022-03-15T12:14:06.995790Z",
          "shell.execute_reply": "2022-03-15T12:14:06.996300Z",
          "shell.execute_reply.started": "2022-03-15T12:06:18.662390Z"
        },
        "id": "5352cd3f",
        "papermill": {
          "duration": 0.297623,
          "end_time": "2022-03-15T12:14:06.996457",
          "exception": false,
          "start_time": "2022-03-15T12:14:06.698834",
          "status": "completed"
        },
        "tags": []
      },
      "outputs": [],
      "source": [
        "x_test[[\"amt\",\"Time\",\"displacement\",\"recency\"]] = sc.fit_transform(x_test[[\"amt\",\"Time\",\"displacement\",\"recency\"]])"
      ]
    },
    {
      "cell_type": "code",
      "execution_count": null,
      "id": "9dcf965c",
      "metadata": {
        "execution": {
          "iopub.execute_input": "2022-03-15T12:14:07.499496Z",
          "iopub.status.busy": "2022-03-15T12:14:07.498940Z",
          "iopub.status.idle": "2022-03-15T12:14:07.605017Z",
          "shell.execute_reply": "2022-03-15T12:14:07.604004Z",
          "shell.execute_reply.started": "2022-03-15T12:06:18.733933Z"
        },
        "id": "9dcf965c",
        "papermill": {
          "duration": 0.35697,
          "end_time": "2022-03-15T12:14:07.605265",
          "exception": false,
          "start_time": "2022-03-15T12:14:07.248295",
          "status": "completed"
        },
        "tags": []
      },
      "outputs": [],
      "source": [
        "result = res3.predict(sm.add_constant(x_test[cols]))"
      ]
    },
    {
      "cell_type": "code",
      "execution_count": null,
      "id": "a8ebeb54",
      "metadata": {
        "execution": {
          "iopub.execute_input": "2022-03-15T12:14:08.156345Z",
          "iopub.status.busy": "2022-03-15T12:14:08.155714Z",
          "iopub.status.idle": "2022-03-15T12:14:08.158997Z",
          "shell.execute_reply": "2022-03-15T12:14:08.159446Z",
          "shell.execute_reply.started": "2022-03-15T12:06:18.883468Z"
        },
        "id": "a8ebeb54",
        "papermill": {
          "duration": 0.257501,
          "end_time": "2022-03-15T12:14:08.159590",
          "exception": false,
          "start_time": "2022-03-15T12:14:07.902089",
          "status": "completed"
        },
        "tags": []
      },
      "outputs": [],
      "source": [
        "predictions_test = pd.DataFrame({\"Actual\": target_test,\"Pred_Prob\" : result})"
      ]
    },
    {
      "cell_type": "code",
      "execution_count": null,
      "id": "aec0314c",
      "metadata": {
        "execution": {
          "iopub.execute_input": "2022-03-15T12:14:08.664173Z",
          "iopub.status.busy": "2022-03-15T12:14:08.663550Z",
          "iopub.status.idle": "2022-03-15T12:14:08.997886Z",
          "shell.execute_reply": "2022-03-15T12:14:08.998365Z",
          "shell.execute_reply.started": "2022-03-15T12:06:18.893548Z"
        },
        "id": "aec0314c",
        "papermill": {
          "duration": 0.585227,
          "end_time": "2022-03-15T12:14:08.998533",
          "exception": false,
          "start_time": "2022-03-15T12:14:08.413306",
          "status": "completed"
        },
        "tags": []
      },
      "outputs": [],
      "source": [
        "predictions_test[\"Final\"] = predictions_test[\"Pred_Prob\"].map(lambda x: 0 if x<0.01 else 1)"
      ]
    },
    {
      "cell_type": "code",
      "execution_count": null,
      "id": "f9a7e266",
      "metadata": {
        "execution": {
          "iopub.execute_input": "2022-03-15T12:14:09.502954Z",
          "iopub.status.busy": "2022-03-15T12:14:09.502395Z",
          "iopub.status.idle": "2022-03-15T12:14:09.651120Z",
          "shell.execute_reply": "2022-03-15T12:14:09.651568Z",
          "shell.execute_reply.started": "2022-03-15T12:06:19.286958Z"
        },
        "id": "f9a7e266",
        "outputId": "ee924a82-c8a4-4cb4-a894-ac16eb573268",
        "papermill": {
          "duration": 0.403727,
          "end_time": "2022-03-15T12:14:09.651716",
          "exception": false,
          "start_time": "2022-03-15T12:14:09.247989",
          "status": "completed"
        },
        "tags": []
      },
      "outputs": [
        {
          "data": {
            "text/plain": [
              "0.02260855884203902"
            ]
          },
          "execution_count": 148,
          "metadata": {},
          "output_type": "execute_result"
        }
      ],
      "source": [
        "metrics.precision_score(predictions_test[\"Actual\"],predictions_test[\"Final\"])"
      ]
    },
    {
      "cell_type": "code",
      "execution_count": null,
      "id": "f2715c1f",
      "metadata": {
        "execution": {
          "iopub.execute_input": "2022-03-15T12:14:10.151732Z",
          "iopub.status.busy": "2022-03-15T12:14:10.151209Z",
          "iopub.status.idle": "2022-03-15T12:14:10.299234Z",
          "shell.execute_reply": "2022-03-15T12:14:10.299729Z",
          "shell.execute_reply.started": "2022-03-15T12:06:19.471054Z"
        },
        "id": "f2715c1f",
        "outputId": "b4a5fa3a-08d3-457d-e04f-9c5b9f4ad8f8",
        "papermill": {
          "duration": 0.399356,
          "end_time": "2022-03-15T12:14:10.299879",
          "exception": false,
          "start_time": "2022-03-15T12:14:09.900523",
          "status": "completed"
        },
        "tags": []
      },
      "outputs": [
        {
          "data": {
            "text/plain": [
              "0.66993006993007"
            ]
          },
          "execution_count": 149,
          "metadata": {},
          "output_type": "execute_result"
        }
      ],
      "source": [
        "metrics.recall_score(predictions_test[\"Actual\"],predictions_test[\"Final\"])"
      ]
    },
    {
      "cell_type": "code",
      "execution_count": null,
      "id": "37a04370",
      "metadata": {
        "execution": {
          "iopub.execute_input": "2022-03-15T12:14:10.807763Z",
          "iopub.status.busy": "2022-03-15T12:14:10.807151Z",
          "iopub.status.idle": "2022-03-15T12:14:11.476515Z",
          "shell.execute_reply": "2022-03-15T12:14:11.477018Z",
          "shell.execute_reply.started": "2022-03-15T12:06:19.653551Z"
        },
        "id": "37a04370",
        "outputId": "285b58ef-1f70-4d89-ec07-989de041ff1f",
        "papermill": {
          "duration": 0.929909,
          "end_time": "2022-03-15T12:14:11.477196",
          "exception": false,
          "start_time": "2022-03-15T12:14:10.547287",
          "status": "completed"
        },
        "tags": []
      },
      "outputs": [
        {
          "name": "stdout",
          "output_type": "stream",
          "text": [
            "              precision    recall  f1-score   support\n",
            "\n",
            "           0       1.00      0.89      0.94    553574\n",
            "           1       0.02      0.67      0.04      2145\n",
            "\n",
            "    accuracy                           0.89    555719\n",
            "   macro avg       0.51      0.78      0.49    555719\n",
            "weighted avg       0.99      0.89      0.94    555719\n",
            "\n"
          ]
        }
      ],
      "source": [
        "print(metrics.classification_report(predictions_test[\"Actual\"],predictions_test[\"Final\"]))"
      ]
    },
    {
      "cell_type": "code",
      "execution_count": null,
      "id": "b540c4f4",
      "metadata": {
        "execution": {
          "iopub.execute_input": "2022-03-15T12:14:13.013462Z",
          "iopub.status.busy": "2022-03-15T12:14:13.012803Z",
          "iopub.status.idle": "2022-03-15T12:14:13.021843Z",
          "shell.execute_reply": "2022-03-15T12:14:13.021254Z",
          "shell.execute_reply.started": "2022-03-15T12:06:20.431288Z"
        },
        "id": "b540c4f4",
        "papermill": {
          "duration": 0.278275,
          "end_time": "2022-03-15T12:14:13.021962",
          "exception": false,
          "start_time": "2022-03-15T12:14:12.743687",
          "status": "completed"
        },
        "tags": []
      },
      "outputs": [],
      "source": [
        "profit = pd.merge(data_t[\"amt\"],predictions_test,left_index = True,right_index = True)"
      ]
    },
    {
      "cell_type": "code",
      "execution_count": null,
      "id": "54337d55",
      "metadata": {
        "execution": {
          "iopub.execute_input": "2022-03-15T12:14:13.535966Z",
          "iopub.status.busy": "2022-03-15T12:14:13.535384Z",
          "iopub.status.idle": "2022-03-15T12:14:13.553346Z",
          "shell.execute_reply": "2022-03-15T12:14:13.552793Z",
          "shell.execute_reply.started": "2022-03-15T12:06:20.446183Z"
        },
        "id": "54337d55",
        "papermill": {
          "duration": 0.280821,
          "end_time": "2022-03-15T12:14:13.553486",
          "exception": false,
          "start_time": "2022-03-15T12:14:13.272665",
          "status": "completed"
        },
        "tags": []
      },
      "outputs": [],
      "source": [
        "loss = data_t[data_t[\"is_fraud\"]==1][\"amt\"].sum()\n",
        "Predicted_Loss = profit[(profit[\"Final\"]==1) & (profit[\"Actual\"]==1)][\"amt\"].sum()\n",
        "cost = profit[\"Final\"].sum()*1.5\n",
        "Profit = Predicted_Loss - cost\n",
        "\n",
        "profit_table = pd.DataFrame({\"Fraud_Loss\" : [loss],\"Predicted_Loss\" : [Predicted_Loss],\"Cost\" : [cost],\"Profit_Of_Company\" : [Profit]})"
      ]
    },
    {
      "cell_type": "code",
      "execution_count": null,
      "id": "3f110cc5",
      "metadata": {
        "execution": {
          "iopub.execute_input": "2022-03-15T12:14:14.079019Z",
          "iopub.status.busy": "2022-03-15T12:14:14.078395Z",
          "iopub.status.idle": "2022-03-15T12:14:14.082195Z",
          "shell.execute_reply": "2022-03-15T12:14:14.081603Z",
          "shell.execute_reply.started": "2022-03-15T12:06:20.485815Z"
        },
        "id": "3f110cc5",
        "outputId": "56fee1b2-a9d1-4fcf-913c-59931943ca12",
        "papermill": {
          "duration": 0.2719,
          "end_time": "2022-03-15T12:14:14.082320",
          "exception": false,
          "start_time": "2022-03-15T12:14:13.810420",
          "status": "completed"
        },
        "tags": []
      },
      "outputs": [
        {
          "data": {
            "text/html": [
              "<div>\n",
              "<style scoped>\n",
              "    .dataframe tbody tr th:only-of-type {\n",
              "        vertical-align: middle;\n",
              "    }\n",
              "\n",
              "    .dataframe tbody tr th {\n",
              "        vertical-align: top;\n",
              "    }\n",
              "\n",
              "    .dataframe thead th {\n",
              "        text-align: right;\n",
              "    }\n",
              "</style>\n",
              "<table border=\"1\" class=\"dataframe\">\n",
              "  <thead>\n",
              "    <tr style=\"text-align: right;\">\n",
              "      <th></th>\n",
              "      <th>Fraud_Loss</th>\n",
              "      <th>Predicted_Loss</th>\n",
              "      <th>Cost</th>\n",
              "      <th>Profit_Of_Company</th>\n",
              "    </tr>\n",
              "  </thead>\n",
              "  <tbody>\n",
              "    <tr>\n",
              "      <th>0</th>\n",
              "      <td>1133324.68</td>\n",
              "      <td>1033660.98</td>\n",
              "      <td>95340.0</td>\n",
              "      <td>938320.98</td>\n",
              "    </tr>\n",
              "  </tbody>\n",
              "</table>\n",
              "</div>"
            ],
            "text/plain": [
              "   Fraud_Loss  Predicted_Loss     Cost  Profit_Of_Company\n",
              "0  1133324.68      1033660.98  95340.0          938320.98"
            ]
          },
          "execution_count": 153,
          "metadata": {},
          "output_type": "execute_result"
        }
      ],
      "source": [
        "profit_table"
      ]
    },
    {
      "cell_type": "code",
      "execution_count": null,
      "id": "48e8a955",
      "metadata": {
        "execution": {
          "iopub.execute_input": "2022-03-15T12:14:16.169053Z",
          "iopub.status.busy": "2022-03-15T12:14:16.168426Z",
          "iopub.status.idle": "2022-03-15T12:14:16.171849Z",
          "shell.execute_reply": "2022-03-15T12:14:16.171322Z",
          "shell.execute_reply.started": "2022-03-15T12:06:20.501450Z"
        },
        "id": "48e8a955",
        "papermill": {
          "duration": 0.278756,
          "end_time": "2022-03-15T12:14:16.172016",
          "exception": false,
          "start_time": "2022-03-15T12:14:15.893260",
          "status": "completed"
        },
        "tags": [],
        "outputId": "6948025c-bbfe-4951-a884-7ad1df5d53ce"
      },
      "outputs": [
        {
          "data": {
            "text/plain": [
              "Index(['trans_date_trans_time', 'cc_num', 'merchant', 'category', 'amt',\n",
              "       'gender', 'state', 'job', 'is_fraud', 'recency', 'displacement',\n",
              "       'location', 'Time', 'city_pop_segment', 'recency_segment'],\n",
              "      dtype='object')"
            ]
          },
          "execution_count": 154,
          "metadata": {},
          "output_type": "execute_result"
        }
      ],
      "source": [
        "data_t.columns"
      ]
    },
    {
      "cell_type": "code",
      "execution_count": null,
      "id": "77eae3d6",
      "metadata": {
        "execution": {
          "iopub.execute_input": "2022-03-15T12:14:17.244738Z",
          "iopub.status.busy": "2022-03-15T12:14:17.244128Z",
          "iopub.status.idle": "2022-03-15T12:14:17.299586Z",
          "shell.execute_reply": "2022-03-15T12:14:17.299003Z",
          "shell.execute_reply.started": "2022-03-15T12:06:20.515378Z"
        },
        "id": "77eae3d6",
        "papermill": {
          "duration": 0.322055,
          "end_time": "2022-03-15T12:14:17.299718",
          "exception": false,
          "start_time": "2022-03-15T12:14:16.977663",
          "status": "completed"
        },
        "tags": []
      },
      "outputs": [],
      "source": [
        "data_t[\"month\"] = data_t[\"trans_date_trans_time\"].dt.month"
      ]
    },
    {
      "cell_type": "code",
      "execution_count": null,
      "id": "a3364026",
      "metadata": {
        "execution": {
          "iopub.execute_input": "2022-03-15T12:14:17.823257Z",
          "iopub.status.busy": "2022-03-15T12:14:17.822640Z",
          "iopub.status.idle": "2022-03-15T12:14:17.876613Z",
          "shell.execute_reply": "2022-03-15T12:14:17.876068Z",
          "shell.execute_reply.started": "2022-03-15T12:06:20.583750Z"
        },
        "id": "a3364026",
        "papermill": {
          "duration": 0.32035,
          "end_time": "2022-03-15T12:14:17.876763",
          "exception": false,
          "start_time": "2022-03-15T12:14:17.556413",
          "status": "completed"
        },
        "tags": []
      },
      "outputs": [],
      "source": [
        "data_t[\"year\"] = data_t[\"trans_date_trans_time\"].dt.year"
      ]
    },
    {
      "cell_type": "code",
      "execution_count": null,
      "id": "837c8103",
      "metadata": {
        "execution": {
          "iopub.execute_input": "2022-03-15T12:14:18.398540Z",
          "iopub.status.busy": "2022-03-15T12:14:18.397824Z",
          "iopub.status.idle": "2022-03-15T12:14:18.928883Z",
          "shell.execute_reply": "2022-03-15T12:14:18.928280Z",
          "shell.execute_reply.started": "2022-03-15T12:06:20.645252Z"
        },
        "id": "837c8103",
        "papermill": {
          "duration": 0.791528,
          "end_time": "2022-03-15T12:14:18.929052",
          "exception": false,
          "start_time": "2022-03-15T12:14:18.137524",
          "status": "completed"
        },
        "tags": []
      },
      "outputs": [],
      "source": [
        "result1 = (data_t.groupby(by = [\"year\",\"month\"]).count()).mean()"
      ]
    },
    {
      "cell_type": "code",
      "execution_count": null,
      "id": "a488a0e8",
      "metadata": {
        "execution": {
          "iopub.execute_input": "2022-03-15T12:14:19.434198Z",
          "iopub.status.busy": "2022-03-15T12:14:19.433516Z",
          "iopub.status.idle": "2022-03-15T12:14:19.436269Z",
          "shell.execute_reply": "2022-03-15T12:14:19.436711Z",
          "shell.execute_reply.started": "2022-03-15T12:06:21.238477Z"
        },
        "id": "a488a0e8",
        "papermill": {
          "duration": 0.258801,
          "end_time": "2022-03-15T12:14:19.436875",
          "exception": false,
          "start_time": "2022-03-15T12:14:19.178074",
          "status": "completed"
        },
        "tags": [],
        "outputId": "05d07b1c-719d-4000-daf3-2617c9e5cf19"
      },
      "outputs": [
        {
          "data": {
            "text/plain": [
              "79388.42857142857"
            ]
          },
          "execution_count": 158,
          "metadata": {},
          "output_type": "execute_result"
        }
      ],
      "source": [
        "result1[1]"
      ]
    },
    {
      "cell_type": "code",
      "execution_count": null,
      "id": "f3ca73a0",
      "metadata": {
        "execution": {
          "iopub.execute_input": "2022-03-15T12:14:20.457530Z",
          "iopub.status.busy": "2022-03-15T12:14:20.456904Z",
          "iopub.status.idle": "2022-03-15T12:14:20.463635Z",
          "shell.execute_reply": "2022-03-15T12:14:20.463121Z",
          "shell.execute_reply.started": "2022-03-15T12:06:21.245855Z"
        },
        "id": "f3ca73a0",
        "papermill": {
          "duration": 0.262084,
          "end_time": "2022-03-15T12:14:20.463755",
          "exception": false,
          "start_time": "2022-03-15T12:14:20.201671",
          "status": "completed"
        },
        "tags": []
      },
      "outputs": [],
      "source": [
        "result2 = (data_t[data_t[\"is_fraud\"]==1].groupby(by = [\"year\",\"month\"]).count()).mean()"
      ]
    },
    {
      "cell_type": "code",
      "execution_count": null,
      "id": "19b65591",
      "metadata": {
        "execution": {
          "iopub.execute_input": "2022-03-15T12:14:20.968036Z",
          "iopub.status.busy": "2022-03-15T12:14:20.967429Z",
          "iopub.status.idle": "2022-03-15T12:14:20.970912Z",
          "shell.execute_reply": "2022-03-15T12:14:20.970269Z",
          "shell.execute_reply.started": "2022-03-15T12:06:21.270863Z"
        },
        "id": "19b65591",
        "papermill": {
          "duration": 0.262507,
          "end_time": "2022-03-15T12:14:20.971047",
          "exception": false,
          "start_time": "2022-03-15T12:14:20.708540",
          "status": "completed"
        },
        "tags": [],
        "outputId": "b0e21507-f7e7-4438-d44c-bab844eed498"
      },
      "outputs": [
        {
          "data": {
            "text/plain": [
              "306.42857142857144"
            ]
          },
          "execution_count": 160,
          "metadata": {},
          "output_type": "execute_result"
        }
      ],
      "source": [
        "result2[1]"
      ]
    },
    {
      "cell_type": "markdown",
      "id": "95488837",
      "metadata": {
        "id": "95488837",
        "papermill": {
          "duration": 0.251072,
          "end_time": "2022-03-15T12:14:21.475346",
          "exception": false,
          "start_time": "2022-03-15T12:14:21.224274",
          "status": "completed"
        },
        "tags": []
      },
      "source": [
        "Average amount per fraud transaction"
      ]
    },
    {
      "cell_type": "code",
      "execution_count": null,
      "id": "c18a9971",
      "metadata": {
        "execution": {
          "iopub.execute_input": "2022-03-15T12:14:21.980353Z",
          "iopub.status.busy": "2022-03-15T12:14:21.979658Z",
          "iopub.status.idle": "2022-03-15T12:14:21.994813Z",
          "shell.execute_reply": "2022-03-15T12:14:21.994379Z",
          "shell.execute_reply.started": "2022-03-15T12:06:21.278246Z"
        },
        "id": "c18a9971",
        "papermill": {
          "duration": 0.275808,
          "end_time": "2022-03-15T12:14:21.994964",
          "exception": false,
          "start_time": "2022-03-15T12:14:21.719156",
          "status": "completed"
        },
        "tags": []
      },
      "outputs": [],
      "source": [
        "result3 = data_t[data_t[\"is_fraud\"]==1][\"amt\"].sum()/data_t[data_t[\"is_fraud\"]==1].count()"
      ]
    },
    {
      "cell_type": "code",
      "execution_count": null,
      "id": "0978acfd",
      "metadata": {
        "execution": {
          "iopub.execute_input": "2022-03-15T12:14:22.505691Z",
          "iopub.status.busy": "2022-03-15T12:14:22.505015Z",
          "iopub.status.idle": "2022-03-15T12:14:22.509422Z",
          "shell.execute_reply": "2022-03-15T12:14:22.510019Z",
          "shell.execute_reply.started": "2022-03-15T12:06:21.305149Z"
        },
        "id": "0978acfd",
        "papermill": {
          "duration": 0.257639,
          "end_time": "2022-03-15T12:14:22.510186",
          "exception": false,
          "start_time": "2022-03-15T12:14:22.252547",
          "status": "completed"
        },
        "tags": [],
        "outputId": "878ea194-7616-4a48-b953-127c56c40aa4"
      },
      "outputs": [
        {
          "data": {
            "text/plain": [
              "528.3564941724942"
            ]
          },
          "execution_count": 162,
          "metadata": {},
          "output_type": "execute_result"
        }
      ],
      "source": [
        "result3[1]"
      ]
    },
    {
      "cell_type": "code",
      "execution_count": null,
      "id": "820e07c4",
      "metadata": {
        "execution": {
          "iopub.execute_input": "2022-03-15T12:14:23.515941Z",
          "iopub.status.busy": "2022-03-15T12:14:23.515333Z",
          "iopub.status.idle": "2022-03-15T12:14:23.519733Z",
          "shell.execute_reply": "2022-03-15T12:14:23.520217Z",
          "shell.execute_reply.started": "2022-03-15T12:06:21.311403Z"
        },
        "id": "820e07c4",
        "papermill": {
          "duration": 0.256622,
          "end_time": "2022-03-15T12:14:23.520360",
          "exception": false,
          "start_time": "2022-03-15T12:14:23.263738",
          "status": "completed"
        },
        "tags": [],
        "outputId": "503eee28-ffb9-45cc-b45a-79ba5bc61b6b"
      },
      "outputs": [
        {
          "data": {
            "text/plain": [
              "161903.52571428573"
            ]
          },
          "execution_count": 163,
          "metadata": {},
          "output_type": "execute_result"
        }
      ],
      "source": [
        "result2[1] * result3[1]"
      ]
    },
    {
      "cell_type": "code",
      "execution_count": null,
      "id": "ffe75c16",
      "metadata": {
        "execution": {
          "iopub.execute_input": "2022-03-15T12:14:24.523278Z",
          "iopub.status.busy": "2022-03-15T12:14:24.522685Z",
          "iopub.status.idle": "2022-03-15T12:14:24.526363Z",
          "shell.execute_reply": "2022-03-15T12:14:24.525960Z",
          "shell.execute_reply.started": "2022-03-15T12:06:21.325866Z"
        },
        "id": "ffe75c16",
        "papermill": {
          "duration": 0.25963,
          "end_time": "2022-03-15T12:14:24.526474",
          "exception": false,
          "start_time": "2022-03-15T12:14:24.266844",
          "status": "completed"
        },
        "tags": [],
        "outputId": "bc7363f8-1fa8-49cd-bef9-601ac145346b"
      },
      "outputs": [
        {
          "data": {
            "text/html": [
              "<div>\n",
              "<style scoped>\n",
              "    .dataframe tbody tr th:only-of-type {\n",
              "        vertical-align: middle;\n",
              "    }\n",
              "\n",
              "    .dataframe tbody tr th {\n",
              "        vertical-align: top;\n",
              "    }\n",
              "\n",
              "    .dataframe thead th {\n",
              "        text-align: right;\n",
              "    }\n",
              "</style>\n",
              "<table border=\"1\" class=\"dataframe\">\n",
              "  <thead>\n",
              "    <tr style=\"text-align: right;\">\n",
              "      <th></th>\n",
              "      <th>Actual</th>\n",
              "      <th>Pred_Prob</th>\n",
              "      <th>Final</th>\n",
              "    </tr>\n",
              "  </thead>\n",
              "  <tbody>\n",
              "    <tr>\n",
              "      <th>0</th>\n",
              "      <td>0</td>\n",
              "      <td>0.017955</td>\n",
              "      <td>1</td>\n",
              "    </tr>\n",
              "    <tr>\n",
              "      <th>1</th>\n",
              "      <td>0</td>\n",
              "      <td>0.015444</td>\n",
              "      <td>1</td>\n",
              "    </tr>\n",
              "    <tr>\n",
              "      <th>2</th>\n",
              "      <td>0</td>\n",
              "      <td>0.009566</td>\n",
              "      <td>0</td>\n",
              "    </tr>\n",
              "    <tr>\n",
              "      <th>3</th>\n",
              "      <td>0</td>\n",
              "      <td>0.034386</td>\n",
              "      <td>1</td>\n",
              "    </tr>\n",
              "    <tr>\n",
              "      <th>4</th>\n",
              "      <td>0</td>\n",
              "      <td>0.000041</td>\n",
              "      <td>0</td>\n",
              "    </tr>\n",
              "  </tbody>\n",
              "</table>\n",
              "</div>"
            ],
            "text/plain": [
              "   Actual  Pred_Prob  Final\n",
              "0       0   0.017955      1\n",
              "1       0   0.015444      1\n",
              "2       0   0.009566      0\n",
              "3       0   0.034386      1\n",
              "4       0   0.000041      0"
            ]
          },
          "execution_count": 164,
          "metadata": {},
          "output_type": "execute_result"
        }
      ],
      "source": [
        "predictions_test.head()"
      ]
    },
    {
      "cell_type": "code",
      "execution_count": null,
      "id": "58f99db9",
      "metadata": {
        "execution": {
          "iopub.execute_input": "2022-03-15T12:14:25.039481Z",
          "iopub.status.busy": "2022-03-15T12:14:25.038819Z",
          "iopub.status.idle": "2022-03-15T12:14:25.051515Z",
          "shell.execute_reply": "2022-03-15T12:14:25.051054Z",
          "shell.execute_reply.started": "2022-03-15T12:06:21.342702Z"
        },
        "id": "58f99db9",
        "papermill": {
          "duration": 0.273849,
          "end_time": "2022-03-15T12:14:25.051640",
          "exception": false,
          "start_time": "2022-03-15T12:14:24.777791",
          "status": "completed"
        },
        "tags": []
      },
      "outputs": [],
      "source": [
        "predictions_test = pd.merge(data_t[[\"trans_date_trans_time\",\"month\",\"year\"]],predictions_test,right_index=True,left_index= True)"
      ]
    },
    {
      "cell_type": "code",
      "execution_count": null,
      "id": "94ca2577",
      "metadata": {
        "execution": {
          "iopub.execute_input": "2022-03-15T12:14:25.620772Z",
          "iopub.status.busy": "2022-03-15T12:14:25.619974Z",
          "iopub.status.idle": "2022-03-15T12:14:25.623269Z",
          "shell.execute_reply": "2022-03-15T12:14:25.622826Z",
          "shell.execute_reply.started": "2022-03-15T12:06:21.364350Z"
        },
        "id": "94ca2577",
        "papermill": {
          "duration": 0.311697,
          "end_time": "2022-03-15T12:14:25.623376",
          "exception": false,
          "start_time": "2022-03-15T12:14:25.311679",
          "status": "completed"
        },
        "tags": [],
        "outputId": "0626dbec-6c18-40fe-f9a5-588dc1ae909e"
      },
      "outputs": [
        {
          "data": {
            "text/html": [
              "<div>\n",
              "<style scoped>\n",
              "    .dataframe tbody tr th:only-of-type {\n",
              "        vertical-align: middle;\n",
              "    }\n",
              "\n",
              "    .dataframe tbody tr th {\n",
              "        vertical-align: top;\n",
              "    }\n",
              "\n",
              "    .dataframe thead th {\n",
              "        text-align: right;\n",
              "    }\n",
              "</style>\n",
              "<table border=\"1\" class=\"dataframe\">\n",
              "  <thead>\n",
              "    <tr style=\"text-align: right;\">\n",
              "      <th></th>\n",
              "      <th>trans_date_trans_time</th>\n",
              "      <th>month</th>\n",
              "      <th>year</th>\n",
              "      <th>Actual</th>\n",
              "      <th>Pred_Prob</th>\n",
              "      <th>Final</th>\n",
              "    </tr>\n",
              "  </thead>\n",
              "  <tbody>\n",
              "    <tr>\n",
              "      <th>0</th>\n",
              "      <td>2020-06-21 12:14:25</td>\n",
              "      <td>6</td>\n",
              "      <td>2020</td>\n",
              "      <td>0</td>\n",
              "      <td>0.017955</td>\n",
              "      <td>1</td>\n",
              "    </tr>\n",
              "    <tr>\n",
              "      <th>1</th>\n",
              "      <td>2020-06-21 12:14:33</td>\n",
              "      <td>6</td>\n",
              "      <td>2020</td>\n",
              "      <td>0</td>\n",
              "      <td>0.015444</td>\n",
              "      <td>1</td>\n",
              "    </tr>\n",
              "    <tr>\n",
              "      <th>2</th>\n",
              "      <td>2020-06-21 12:14:53</td>\n",
              "      <td>6</td>\n",
              "      <td>2020</td>\n",
              "      <td>0</td>\n",
              "      <td>0.009566</td>\n",
              "      <td>0</td>\n",
              "    </tr>\n",
              "    <tr>\n",
              "      <th>3</th>\n",
              "      <td>2020-06-21 12:15:15</td>\n",
              "      <td>6</td>\n",
              "      <td>2020</td>\n",
              "      <td>0</td>\n",
              "      <td>0.034386</td>\n",
              "      <td>1</td>\n",
              "    </tr>\n",
              "    <tr>\n",
              "      <th>4</th>\n",
              "      <td>2020-06-21 12:15:17</td>\n",
              "      <td>6</td>\n",
              "      <td>2020</td>\n",
              "      <td>0</td>\n",
              "      <td>0.000041</td>\n",
              "      <td>0</td>\n",
              "    </tr>\n",
              "  </tbody>\n",
              "</table>\n",
              "</div>"
            ],
            "text/plain": [
              "  trans_date_trans_time  month  year  Actual  Pred_Prob  Final\n",
              "0   2020-06-21 12:14:25      6  2020       0   0.017955      1\n",
              "1   2020-06-21 12:14:33      6  2020       0   0.015444      1\n",
              "2   2020-06-21 12:14:53      6  2020       0   0.009566      0\n",
              "3   2020-06-21 12:15:15      6  2020       0   0.034386      1\n",
              "4   2020-06-21 12:15:17      6  2020       0   0.000041      0"
            ]
          },
          "execution_count": 166,
          "metadata": {},
          "output_type": "execute_result"
        }
      ],
      "source": [
        "predictions_test.head()"
      ]
    },
    {
      "cell_type": "code",
      "execution_count": null,
      "id": "149a01ff",
      "metadata": {
        "execution": {
          "iopub.execute_input": "2022-03-15T12:14:26.714884Z",
          "iopub.status.busy": "2022-03-15T12:14:26.714255Z",
          "iopub.status.idle": "2022-03-15T12:14:26.738264Z",
          "shell.execute_reply": "2022-03-15T12:14:26.737686Z",
          "shell.execute_reply.started": "2022-03-15T12:06:21.377272Z"
        },
        "id": "149a01ff",
        "papermill": {
          "duration": 0.291623,
          "end_time": "2022-03-15T12:14:26.738413",
          "exception": false,
          "start_time": "2022-03-15T12:14:26.446790",
          "status": "completed"
        },
        "tags": []
      },
      "outputs": [],
      "source": [
        "TF = (predictions_test[(predictions_test[\"Final\"]==1)].groupby(by=[\"year\",\"month\"]).count()).mean()[1]"
      ]
    },
    {
      "cell_type": "code",
      "execution_count": null,
      "id": "c15651b3",
      "metadata": {
        "execution": {
          "iopub.execute_input": "2022-03-15T12:14:27.304498Z",
          "iopub.status.busy": "2022-03-15T12:14:27.303749Z",
          "iopub.status.idle": "2022-03-15T12:14:27.308867Z",
          "shell.execute_reply": "2022-03-15T12:14:27.309458Z",
          "shell.execute_reply.started": "2022-03-15T12:06:21.415705Z"
        },
        "id": "c15651b3",
        "papermill": {
          "duration": 0.295372,
          "end_time": "2022-03-15T12:14:27.309649",
          "exception": false,
          "start_time": "2022-03-15T12:14:27.014277",
          "status": "completed"
        },
        "tags": [],
        "outputId": "754f52c0-59ca-4ef2-b4a3-443b4517340b"
      },
      "outputs": [
        {
          "data": {
            "text/plain": [
              "9080.0"
            ]
          },
          "execution_count": 168,
          "metadata": {},
          "output_type": "execute_result"
        }
      ],
      "source": [
        "TF"
      ]
    },
    {
      "cell_type": "code",
      "execution_count": null,
      "id": "1ecf7c2f",
      "metadata": {
        "execution": {
          "iopub.execute_input": "2022-03-15T12:14:28.388488Z",
          "iopub.status.busy": "2022-03-15T12:14:28.387676Z",
          "iopub.status.idle": "2022-03-15T12:14:28.390877Z",
          "shell.execute_reply": "2022-03-15T12:14:28.391330Z",
          "shell.execute_reply.started": "2022-03-15T12:06:21.423786Z"
        },
        "id": "1ecf7c2f",
        "papermill": {
          "duration": 0.271352,
          "end_time": "2022-03-15T12:14:28.391493",
          "exception": false,
          "start_time": "2022-03-15T12:14:28.120141",
          "status": "completed"
        },
        "tags": [],
        "outputId": "64691ed9-3f5d-4cd7-be23-1d2e55601da2"
      },
      "outputs": [
        {
          "data": {
            "text/plain": [
              "13620.0"
            ]
          },
          "execution_count": 169,
          "metadata": {},
          "output_type": "execute_result"
        }
      ],
      "source": [
        "TF*1.5"
      ]
    },
    {
      "cell_type": "code",
      "execution_count": null,
      "id": "351c630e",
      "metadata": {
        "execution": {
          "iopub.execute_input": "2022-03-15T12:14:29.441177Z",
          "iopub.status.busy": "2022-03-15T12:14:29.439969Z",
          "iopub.status.idle": "2022-03-15T12:14:29.447327Z",
          "shell.execute_reply": "2022-03-15T12:14:29.447842Z",
          "shell.execute_reply.started": "2022-03-15T12:06:21.437296Z"
        },
        "id": "351c630e",
        "papermill": {
          "duration": 0.258093,
          "end_time": "2022-03-15T12:14:29.448000",
          "exception": false,
          "start_time": "2022-03-15T12:14:29.189907",
          "status": "completed"
        },
        "tags": []
      },
      "outputs": [],
      "source": [
        "FN = (predictions_test[(predictions_test[\"Final\"]==0) & (predictions_test[\"Actual\"] == 1)].groupby(by=[\"year\",\"month\"]).count()).mean()[1]"
      ]
    },
    {
      "cell_type": "code",
      "execution_count": null,
      "id": "ac05d510",
      "metadata": {
        "execution": {
          "iopub.execute_input": "2022-03-15T12:14:29.984087Z",
          "iopub.status.busy": "2022-03-15T12:14:29.983117Z",
          "iopub.status.idle": "2022-03-15T12:14:29.988030Z",
          "shell.execute_reply": "2022-03-15T12:14:29.988576Z",
          "shell.execute_reply.started": "2022-03-15T12:06:21.456084Z"
        },
        "id": "ac05d510",
        "papermill": {
          "duration": 0.276569,
          "end_time": "2022-03-15T12:14:29.988722",
          "exception": false,
          "start_time": "2022-03-15T12:14:29.712153",
          "status": "completed"
        },
        "tags": [],
        "outputId": "82a67a43-5e36-4146-b084-24cbdf219b1a"
      },
      "outputs": [
        {
          "data": {
            "text/plain": [
              "101.14285714285714"
            ]
          },
          "execution_count": 171,
          "metadata": {},
          "output_type": "execute_result"
        }
      ],
      "source": [
        "FN"
      ]
    },
    {
      "cell_type": "code",
      "execution_count": null,
      "id": "b5807f37",
      "metadata": {
        "execution": {
          "iopub.execute_input": "2022-03-15T12:14:31.496212Z",
          "iopub.status.busy": "2022-03-15T12:14:31.495254Z",
          "iopub.status.idle": "2022-03-15T12:14:31.508172Z",
          "shell.execute_reply": "2022-03-15T12:14:31.508682Z",
          "shell.execute_reply.started": "2022-03-15T12:06:21.462689Z"
        },
        "id": "b5807f37",
        "papermill": {
          "duration": 0.270512,
          "end_time": "2022-03-15T12:14:31.508838",
          "exception": false,
          "start_time": "2022-03-15T12:14:31.238326",
          "status": "completed"
        },
        "tags": []
      },
      "outputs": [],
      "source": [
        "predictions_test = pd.merge(data_t[[\"amt\"]],predictions_test,right_index=True,left_index= True)"
      ]
    },
    {
      "cell_type": "code",
      "execution_count": null,
      "id": "73719ee6",
      "metadata": {
        "execution": {
          "iopub.execute_input": "2022-03-15T12:14:32.017644Z",
          "iopub.status.busy": "2022-03-15T12:14:32.016724Z",
          "iopub.status.idle": "2022-03-15T12:14:32.027513Z",
          "shell.execute_reply": "2022-03-15T12:14:32.028060Z",
          "shell.execute_reply.started": "2022-03-15T12:06:21.487683Z"
        },
        "id": "73719ee6",
        "papermill": {
          "duration": 0.269525,
          "end_time": "2022-03-15T12:14:32.028212",
          "exception": false,
          "start_time": "2022-03-15T12:14:31.758687",
          "status": "completed"
        },
        "tags": [],
        "outputId": "22cff16d-0de4-4e7b-f41d-7a65214322da"
      },
      "outputs": [
        {
          "data": {
            "text/html": [
              "<div>\n",
              "<style scoped>\n",
              "    .dataframe tbody tr th:only-of-type {\n",
              "        vertical-align: middle;\n",
              "    }\n",
              "\n",
              "    .dataframe tbody tr th {\n",
              "        vertical-align: top;\n",
              "    }\n",
              "\n",
              "    .dataframe thead th {\n",
              "        text-align: right;\n",
              "    }\n",
              "</style>\n",
              "<table border=\"1\" class=\"dataframe\">\n",
              "  <thead>\n",
              "    <tr style=\"text-align: right;\">\n",
              "      <th></th>\n",
              "      <th>amt</th>\n",
              "      <th>trans_date_trans_time</th>\n",
              "      <th>month</th>\n",
              "      <th>year</th>\n",
              "      <th>Actual</th>\n",
              "      <th>Pred_Prob</th>\n",
              "      <th>Final</th>\n",
              "    </tr>\n",
              "  </thead>\n",
              "  <tbody>\n",
              "    <tr>\n",
              "      <th>0</th>\n",
              "      <td>2.86</td>\n",
              "      <td>2020-06-21 12:14:25</td>\n",
              "      <td>6</td>\n",
              "      <td>2020</td>\n",
              "      <td>0</td>\n",
              "      <td>0.017955</td>\n",
              "      <td>1</td>\n",
              "    </tr>\n",
              "    <tr>\n",
              "      <th>1</th>\n",
              "      <td>29.84</td>\n",
              "      <td>2020-06-21 12:14:33</td>\n",
              "      <td>6</td>\n",
              "      <td>2020</td>\n",
              "      <td>0</td>\n",
              "      <td>0.015444</td>\n",
              "      <td>1</td>\n",
              "    </tr>\n",
              "    <tr>\n",
              "      <th>2</th>\n",
              "      <td>41.28</td>\n",
              "      <td>2020-06-21 12:14:53</td>\n",
              "      <td>6</td>\n",
              "      <td>2020</td>\n",
              "      <td>0</td>\n",
              "      <td>0.009566</td>\n",
              "      <td>0</td>\n",
              "    </tr>\n",
              "    <tr>\n",
              "      <th>3</th>\n",
              "      <td>60.05</td>\n",
              "      <td>2020-06-21 12:15:15</td>\n",
              "      <td>6</td>\n",
              "      <td>2020</td>\n",
              "      <td>0</td>\n",
              "      <td>0.034386</td>\n",
              "      <td>1</td>\n",
              "    </tr>\n",
              "    <tr>\n",
              "      <th>4</th>\n",
              "      <td>3.19</td>\n",
              "      <td>2020-06-21 12:15:17</td>\n",
              "      <td>6</td>\n",
              "      <td>2020</td>\n",
              "      <td>0</td>\n",
              "      <td>0.000041</td>\n",
              "      <td>0</td>\n",
              "    </tr>\n",
              "  </tbody>\n",
              "</table>\n",
              "</div>"
            ],
            "text/plain": [
              "     amt trans_date_trans_time  month  year  Actual  Pred_Prob  Final\n",
              "0   2.86   2020-06-21 12:14:25      6  2020       0   0.017955      1\n",
              "1  29.84   2020-06-21 12:14:33      6  2020       0   0.015444      1\n",
              "2  41.28   2020-06-21 12:14:53      6  2020       0   0.009566      0\n",
              "3  60.05   2020-06-21 12:15:15      6  2020       0   0.034386      1\n",
              "4   3.19   2020-06-21 12:15:17      6  2020       0   0.000041      0"
            ]
          },
          "execution_count": 173,
          "metadata": {},
          "output_type": "execute_result"
        }
      ],
      "source": [
        "predictions_test.head()"
      ]
    },
    {
      "cell_type": "code",
      "execution_count": null,
      "id": "05458baa",
      "metadata": {
        "execution": {
          "iopub.execute_input": "2022-03-15T12:14:32.525197Z",
          "iopub.status.busy": "2022-03-15T12:14:32.524305Z",
          "iopub.status.idle": "2022-03-15T12:14:32.546453Z",
          "shell.execute_reply": "2022-03-15T12:14:32.546943Z",
          "shell.execute_reply.started": "2022-03-15T12:06:21.504598Z"
        },
        "id": "05458baa",
        "papermill": {
          "duration": 0.273265,
          "end_time": "2022-03-15T12:14:32.547128",
          "exception": false,
          "start_time": "2022-03-15T12:14:32.273863",
          "status": "completed"
        },
        "tags": []
      },
      "outputs": [],
      "source": [
        "result5 = predictions_test[(predictions_test[\"Final\"]==0) & (predictions_test[\"Actual\"] == 1)][\"amt\"].sum()"
      ]
    },
    {
      "cell_type": "code",
      "execution_count": null,
      "id": "ac8d48e6",
      "metadata": {
        "execution": {
          "iopub.execute_input": "2022-03-15T12:14:33.058775Z",
          "iopub.status.busy": "2022-03-15T12:14:33.058265Z",
          "iopub.status.idle": "2022-03-15T12:14:33.060868Z",
          "shell.execute_reply": "2022-03-15T12:14:33.061367Z",
          "shell.execute_reply.started": "2022-03-15T12:06:21.535890Z"
        },
        "id": "ac8d48e6",
        "papermill": {
          "duration": 0.259005,
          "end_time": "2022-03-15T12:14:33.061509",
          "exception": false,
          "start_time": "2022-03-15T12:14:32.802504",
          "status": "completed"
        },
        "tags": [],
        "outputId": "0035c492-f402-492d-bd0a-3710be2407b2"
      },
      "outputs": [
        {
          "data": {
            "text/plain": [
              "99663.70000000001"
            ]
          },
          "execution_count": 175,
          "metadata": {},
          "output_type": "execute_result"
        }
      ],
      "source": [
        "result5"
      ]
    },
    {
      "cell_type": "code",
      "execution_count": null,
      "id": "ce326918",
      "metadata": {
        "execution": {
          "iopub.execute_input": "2022-03-15T12:14:34.076703Z",
          "iopub.status.busy": "2022-03-15T12:14:34.076106Z",
          "iopub.status.idle": "2022-03-15T12:14:34.085771Z",
          "shell.execute_reply": "2022-03-15T12:14:34.086280Z",
          "shell.execute_reply.started": "2022-03-15T12:06:21.543781Z"
        },
        "id": "ce326918",
        "papermill": {
          "duration": 0.267504,
          "end_time": "2022-03-15T12:14:34.086431",
          "exception": false,
          "start_time": "2022-03-15T12:14:33.818927",
          "status": "completed"
        },
        "tags": []
      },
      "outputs": [],
      "source": [
        "per_month_fraud_amt = (predictions_test[(predictions_test[\"Final\"]==0) & (predictions_test[\"Actual\"] == 1)].groupby(by = [\"year\",\"month\"]).sum()[\"amt\"]).mean()"
      ]
    },
    {
      "cell_type": "code",
      "execution_count": null,
      "id": "904ba44c",
      "metadata": {
        "execution": {
          "iopub.execute_input": "2022-03-15T12:14:34.585819Z",
          "iopub.status.busy": "2022-03-15T12:14:34.585245Z",
          "iopub.status.idle": "2022-03-15T12:14:34.590160Z",
          "shell.execute_reply": "2022-03-15T12:14:34.589629Z",
          "shell.execute_reply.started": "2022-03-15T12:06:21.561210Z"
        },
        "id": "904ba44c",
        "papermill": {
          "duration": 0.257027,
          "end_time": "2022-03-15T12:14:34.590284",
          "exception": false,
          "start_time": "2022-03-15T12:14:34.333257",
          "status": "completed"
        },
        "tags": [],
        "outputId": "eac524c1-dff8-47a3-9f35-a11c010df5c9"
      },
      "outputs": [
        {
          "data": {
            "text/plain": [
              "14237.67142857143"
            ]
          },
          "execution_count": 177,
          "metadata": {},
          "output_type": "execute_result"
        }
      ],
      "source": [
        "per_month_fraud_amt"
      ]
    },
    {
      "cell_type": "code",
      "execution_count": null,
      "id": "5df33541",
      "metadata": {
        "execution": {
          "iopub.execute_input": "2022-03-15T12:14:35.093680Z",
          "iopub.status.busy": "2022-03-15T12:14:35.093104Z",
          "iopub.status.idle": "2022-03-15T12:14:35.096042Z",
          "shell.execute_reply": "2022-03-15T12:14:35.096505Z",
          "shell.execute_reply.started": "2022-03-15T12:06:21.569771Z"
        },
        "id": "5df33541",
        "papermill": {
          "duration": 0.25816,
          "end_time": "2022-03-15T12:14:35.096640",
          "exception": false,
          "start_time": "2022-03-15T12:14:34.838480",
          "status": "completed"
        },
        "tags": []
      },
      "outputs": [],
      "source": [
        "cost_per_month = TF*1.5"
      ]
    },
    {
      "cell_type": "code",
      "execution_count": null,
      "id": "aff6fbe9",
      "metadata": {
        "execution": {
          "iopub.execute_input": "2022-03-15T12:14:35.609021Z",
          "iopub.status.busy": "2022-03-15T12:14:35.608399Z",
          "iopub.status.idle": "2022-03-15T12:14:35.611658Z",
          "shell.execute_reply": "2022-03-15T12:14:35.612155Z",
          "shell.execute_reply.started": "2022-03-15T12:06:21.580179Z"
        },
        "id": "aff6fbe9",
        "papermill": {
          "duration": 0.262314,
          "end_time": "2022-03-15T12:14:35.612316",
          "exception": false,
          "start_time": "2022-03-15T12:14:35.350002",
          "status": "completed"
        },
        "tags": []
      },
      "outputs": [],
      "source": [
        "total_cost_per_month = per_month_fraud_amt + cost_per_month"
      ]
    },
    {
      "cell_type": "code",
      "execution_count": null,
      "id": "881f74f3",
      "metadata": {
        "execution": {
          "iopub.execute_input": "2022-03-15T12:14:36.134438Z",
          "iopub.status.busy": "2022-03-15T12:14:36.133805Z",
          "iopub.status.idle": "2022-03-15T12:14:36.137929Z",
          "shell.execute_reply": "2022-03-15T12:14:36.138502Z",
          "shell.execute_reply.started": "2022-03-15T12:06:21.593610Z"
        },
        "id": "881f74f3",
        "papermill": {
          "duration": 0.267254,
          "end_time": "2022-03-15T12:14:36.138668",
          "exception": false,
          "start_time": "2022-03-15T12:14:35.871414",
          "status": "completed"
        },
        "tags": [],
        "outputId": "30d58e57-8ded-4b15-f560-8d74b34246ae"
      },
      "outputs": [
        {
          "data": {
            "text/plain": [
              "27857.67142857143"
            ]
          },
          "execution_count": 180,
          "metadata": {},
          "output_type": "execute_result"
        }
      ],
      "source": [
        "total_cost_per_month"
      ]
    },
    {
      "cell_type": "code",
      "execution_count": null,
      "id": "63f3b97a",
      "metadata": {
        "execution": {
          "iopub.execute_input": "2022-03-15T12:14:37.161652Z",
          "iopub.status.busy": "2022-03-15T12:14:37.160927Z",
          "iopub.status.idle": "2022-03-15T12:14:37.165239Z",
          "shell.execute_reply": "2022-03-15T12:14:37.165820Z",
          "shell.execute_reply.started": "2022-03-15T12:06:21.610333Z"
        },
        "id": "63f3b97a",
        "papermill": {
          "duration": 0.266359,
          "end_time": "2022-03-15T12:14:37.165993",
          "exception": false,
          "start_time": "2022-03-15T12:14:36.899634",
          "status": "completed"
        },
        "tags": [],
        "outputId": "7895540d-f105-4901-ccbe-28194451e23b"
      },
      "outputs": [
        {
          "data": {
            "text/plain": [
              "134045.8542857143"
            ]
          },
          "execution_count": 181,
          "metadata": {},
          "output_type": "execute_result"
        }
      ],
      "source": [
        "(result2[1]*result3[1]) - total_cost_per_month"
      ]
    }
  ],
  "metadata": {
    "kernelspec": {
      "display_name": "Python 3",
      "language": "python",
      "name": "python3"
    },
    "language_info": {
      "codemirror_mode": {
        "name": "ipython",
        "version": 3
      },
      "file_extension": ".py",
      "mimetype": "text/x-python",
      "name": "python",
      "nbconvert_exporter": "python",
      "pygments_lexer": "ipython3",
      "version": "3.7.12"
    },
    "papermill": {
      "default_parameters": {},
      "duration": 438.518682,
      "end_time": "2022-03-15T12:14:38.341764",
      "environment_variables": {},
      "exception": null,
      "input_path": "__notebook__.ipynb",
      "output_path": "__notebook__.ipynb",
      "parameters": {},
      "start_time": "2022-03-15T12:07:19.823082",
      "version": "2.3.3"
    },
    "colab": {
      "provenance": [],
      "include_colab_link": true
    }
  },
  "nbformat": 4,
  "nbformat_minor": 5
}
